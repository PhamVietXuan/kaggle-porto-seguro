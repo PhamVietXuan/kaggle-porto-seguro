{
 "cells": [
  {
   "cell_type": "markdown",
   "metadata": {},
   "source": [
    "# Báo cáo đồ án môn \"Khoa học dữ liệu ứng dụng\"\n",
    "\n",
    "Nhóm [STT nhóm]:\n",
    "1. [MSSV] - [Họ tên] - [Nick Github]\n",
    "2. [MSSV] - [Họ tên] - [Nick Github]\n",
    "3. [MSSV] - [Họ tên] - [Nick Github]\n",
    "4. [MSSV] - [Họ tên] - [Nick Github]\n",
    "\n",
    "Link thùng chứa Github của nhóm: [link]"
   ]
  }
 ],
 "metadata": {
  "language_info": {
   "name": "python"
  },
  "orig_nbformat": 4
 },
 "nbformat": 4,
 "nbformat_minor": 2
}

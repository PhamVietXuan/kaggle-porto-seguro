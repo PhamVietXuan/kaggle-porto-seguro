{
 "cells": [
  {
   "cell_type": "markdown",
   "metadata": {},
   "source": [
    "# Báo cáo đồ án môn \"Khoa học dữ liệu ứng dụng\"\n",
    "\n",
    "Nhóm 2:\n",
    "1. 18120625 - Nguyễn Trần Trung - [Trung-Rei](https://github.com/Trung-Rei)\n",
    "2. 18120658 - Phạm Viết Xuân - [PhamVietXuan](https://github.com/PhamVietXuan)\n",
    "3. 1712698 - Võ Văn Quân - [quanvovan](https://github.com/quanvovan)\n",
    "4. 1712160 - Hà Thị Ngọc Thắm - [Thamha09081999](https://github.com/Thamha09081999)\n",
    "\n",
    "Link thùng chứa Github của nhóm: [link](https://github.com/Trung-Rei/kaggle-porto-seguro)"
   ]
  },
  {
   "cell_type": "markdown",
   "metadata": {},
   "source": [
    "## Mô tả bài toán"
   ]
  },
  {
   "cell_type": "markdown",
   "metadata": {},
   "source": [
    "Bảo hiểm là một thứ bắt buộc khi mua một chiếc xe ô tô. Thông thường, mức chi phí đóng bảo hiểm sẽ bằng nhau. Nhưng có những người chạy xe cẩn thận, cũng có người chạy xe hay va chạm khiến cho chi phí đóng bảo hiểm cho người người như vậy không công bằng. Như vậy, cần có một mức giá khác nhau cho những người lái xe khác nhau để công bằng với khách hàng cũng như công ty bảo hiểm.\n",
    "\n",
    "Porto Seguro - Một công ty bảo hiểm lớn ở Brazil yêu cầu một mô hình học máy tốt để dự đoán **xác suất yêu cầu bồi thường** của chủ xe nhằm đưa ra mức giá bảo hiểm hợp lý hơn.\n",
    "\n",
    "Input/Output:\n",
    "* Input: Dữ liệu lịch sử được công ty thu thập từ chủ ô tô (chủ hợp đồng bảo hiểm) từ các năm trước.\n",
    "* Output: Xác suất chủ xe đó yêu cầu bồi thường bảo hiểm. Giá trị từ 0 - 1; càng về 0 có nghĩa khả năng cao chủ ô tô đó sẽ không yêu cầu bồi thường cho năm sau; càng về 1 nghĩa là chủ xe khả năng cao năm sau đòi bồi thường bảo hiểm.\n",
    "\n",
    "Link bài toán: [Porto Seguro’s Safe Driver Prediction](https://www.kaggle.com/c/porto-seguro-safe-driver-prediction/overview)"
   ]
  },
  {
   "cell_type": "markdown",
   "metadata": {},
   "source": [
    "### Độ đo đánh giá"
   ]
  },
  {
   "cell_type": "markdown",
   "metadata": {},
   "source": [
    "* Metric: Normalized Gini Coefficient\n",
    "* Cách tính: `2 * AUC – 1`\n",
    "* Giá trị trong khoảng **(0, 1)**: càng về 1 mô hình càng tốt\n",
    "* Phù hợp với bài toán phân lớp nhị phân và dữ liệu mất cân bằng nghiêm trọng (Giống **AUC**).\n",
    "\n",
    "Giải thích cụ thể về **Normalized Gini Coefficient**: [link](https://luckytoilet.wordpress.com/2018/04/04/useful-properties-of-roc-curves-auc-scoring-and-gini-coefficients/?fbclid=IwAR1Md3U9Wk6E43cxV56NWxWroIGcRgGQJ7cnTZWJd9orSvbSYkiBcMhqxEs)"
   ]
  },
  {
   "cell_type": "markdown",
   "metadata": {},
   "source": [
    "## Giải quyết bài toán\n",
    "\n",
    "Tuần này: Tìm hiểu cề các **feature engineering** của 2 mô hình LightGBM và Neural networks"
   ]
  },
  {
   "cell_type": "markdown",
   "metadata": {},
   "source": [
    "### Import thư viện"
   ]
  },
  {
   "cell_type": "code",
   "execution_count": 10,
   "metadata": {},
   "outputs": [],
   "source": [
    "#import lightgbm as lgbm\n",
    "from scipy import sparse as ssp\n",
    "from sklearn.model_selection import StratifiedKFold\n",
    "import numpy as np\n",
    "import pandas as pd\n",
    "from sklearn.preprocessing import LabelEncoder\n",
    "from sklearn.preprocessing import OneHotEncoder\n",
    "import matplotlib.pyplot as plt\n",
    "from feature_generater import Multiply_Divide, Series_string, Features_Counts, Statistic_features\n",
    "\n",
    "plt.rcParams[\"figure.figsize\"] = (7,7)\n",
    "plt.rcParams[\"font.size\"] = 14"
   ]
  },
  {
   "cell_type": "markdown",
   "metadata": {},
   "source": [
    "### Tổng quan dữ liệu\n",
    "\n",
    "Thông tin dữ liệu từ cuộc thi được bảo mật nên tên các đặc trưng được thay thế bằng tên ẩn danh.\n",
    "\n",
    "Các thông tin được cuộc thi cung cấp:\n",
    "* Đặc trưng được chia làm 4 nhóm chính:\n",
    "    * `ind` (individual): các đặc trưng liên quan đến người lái xe.\n",
    "    * `reg` (region): các đặc trưng về khu vực người đó chạy xe.\n",
    "    * `car` (car): các đặc trưng thông số của ô tô.\n",
    "    * `calc` (calculated): các đặc trưng đã được tính toán.\n",
    "* Hậu tố `cat` cho đặc trưng **categorical**, `bin` cho đặc trưng **nhị phân**, không có hậu tố chỉ những đặc trưng **ordinal** hoặc **continuous**.\n",
    "* Giá trị `-1` đại diện cho dữ liệu tại đó bị thiếu.\n",
    "* Cột `target`: gồm giá trị 1 và 0 thể hiện chủ xe đó có đưa ra yêu cầu bồi thường hay không."
   ]
  },
  {
   "cell_type": "code",
   "execution_count": 2,
   "metadata": {},
   "outputs": [],
   "source": [
    "path = \"../../../data/\"\n",
    "\n",
    "train = pd.read_csv(path+'train.csv')\n",
    "train_label = train['target']\n",
    "train_id = train['id']\n",
    "test = pd.read_csv(path+'test.csv')\n",
    "test_id = test['id']"
   ]
  },
  {
   "cell_type": "code",
   "execution_count": 7,
   "metadata": {},
   "outputs": [
    {
     "data": {
      "text/html": [
       "<div>\n",
       "<style scoped>\n",
       "    .dataframe tbody tr th:only-of-type {\n",
       "        vertical-align: middle;\n",
       "    }\n",
       "\n",
       "    .dataframe tbody tr th {\n",
       "        vertical-align: top;\n",
       "    }\n",
       "\n",
       "    .dataframe thead th {\n",
       "        text-align: right;\n",
       "    }\n",
       "</style>\n",
       "<table border=\"1\" class=\"dataframe\">\n",
       "  <thead>\n",
       "    <tr style=\"text-align: right;\">\n",
       "      <th></th>\n",
       "      <th>id</th>\n",
       "      <th>target</th>\n",
       "      <th>ps_ind_01</th>\n",
       "      <th>ps_ind_02_cat</th>\n",
       "      <th>ps_ind_03</th>\n",
       "      <th>ps_ind_04_cat</th>\n",
       "      <th>ps_ind_05_cat</th>\n",
       "      <th>ps_ind_06_bin</th>\n",
       "      <th>ps_ind_07_bin</th>\n",
       "      <th>ps_ind_08_bin</th>\n",
       "      <th>...</th>\n",
       "      <th>ps_calc_11</th>\n",
       "      <th>ps_calc_12</th>\n",
       "      <th>ps_calc_13</th>\n",
       "      <th>ps_calc_14</th>\n",
       "      <th>ps_calc_15_bin</th>\n",
       "      <th>ps_calc_16_bin</th>\n",
       "      <th>ps_calc_17_bin</th>\n",
       "      <th>ps_calc_18_bin</th>\n",
       "      <th>ps_calc_19_bin</th>\n",
       "      <th>ps_calc_20_bin</th>\n",
       "    </tr>\n",
       "  </thead>\n",
       "  <tbody>\n",
       "    <tr>\n",
       "      <th>187989</th>\n",
       "      <td>469930</td>\n",
       "      <td>0</td>\n",
       "      <td>1</td>\n",
       "      <td>1</td>\n",
       "      <td>5</td>\n",
       "      <td>0</td>\n",
       "      <td>4</td>\n",
       "      <td>0</td>\n",
       "      <td>0</td>\n",
       "      <td>1</td>\n",
       "      <td>...</td>\n",
       "      <td>2</td>\n",
       "      <td>0</td>\n",
       "      <td>5</td>\n",
       "      <td>7</td>\n",
       "      <td>0</td>\n",
       "      <td>1</td>\n",
       "      <td>1</td>\n",
       "      <td>0</td>\n",
       "      <td>0</td>\n",
       "      <td>0</td>\n",
       "    </tr>\n",
       "    <tr>\n",
       "      <th>316868</th>\n",
       "      <td>791878</td>\n",
       "      <td>0</td>\n",
       "      <td>2</td>\n",
       "      <td>1</td>\n",
       "      <td>3</td>\n",
       "      <td>1</td>\n",
       "      <td>0</td>\n",
       "      <td>0</td>\n",
       "      <td>0</td>\n",
       "      <td>0</td>\n",
       "      <td>...</td>\n",
       "      <td>5</td>\n",
       "      <td>1</td>\n",
       "      <td>3</td>\n",
       "      <td>8</td>\n",
       "      <td>0</td>\n",
       "      <td>0</td>\n",
       "      <td>0</td>\n",
       "      <td>1</td>\n",
       "      <td>0</td>\n",
       "      <td>0</td>\n",
       "    </tr>\n",
       "    <tr>\n",
       "      <th>312774</th>\n",
       "      <td>781606</td>\n",
       "      <td>0</td>\n",
       "      <td>0</td>\n",
       "      <td>1</td>\n",
       "      <td>6</td>\n",
       "      <td>1</td>\n",
       "      <td>6</td>\n",
       "      <td>0</td>\n",
       "      <td>0</td>\n",
       "      <td>0</td>\n",
       "      <td>...</td>\n",
       "      <td>2</td>\n",
       "      <td>1</td>\n",
       "      <td>5</td>\n",
       "      <td>7</td>\n",
       "      <td>0</td>\n",
       "      <td>1</td>\n",
       "      <td>1</td>\n",
       "      <td>0</td>\n",
       "      <td>0</td>\n",
       "      <td>0</td>\n",
       "    </tr>\n",
       "    <tr>\n",
       "      <th>127837</th>\n",
       "      <td>319624</td>\n",
       "      <td>0</td>\n",
       "      <td>1</td>\n",
       "      <td>2</td>\n",
       "      <td>5</td>\n",
       "      <td>0</td>\n",
       "      <td>0</td>\n",
       "      <td>1</td>\n",
       "      <td>0</td>\n",
       "      <td>0</td>\n",
       "      <td>...</td>\n",
       "      <td>6</td>\n",
       "      <td>4</td>\n",
       "      <td>1</td>\n",
       "      <td>6</td>\n",
       "      <td>0</td>\n",
       "      <td>1</td>\n",
       "      <td>1</td>\n",
       "      <td>1</td>\n",
       "      <td>0</td>\n",
       "      <td>0</td>\n",
       "    </tr>\n",
       "    <tr>\n",
       "      <th>397037</th>\n",
       "      <td>991982</td>\n",
       "      <td>0</td>\n",
       "      <td>6</td>\n",
       "      <td>2</td>\n",
       "      <td>6</td>\n",
       "      <td>1</td>\n",
       "      <td>0</td>\n",
       "      <td>0</td>\n",
       "      <td>1</td>\n",
       "      <td>0</td>\n",
       "      <td>...</td>\n",
       "      <td>8</td>\n",
       "      <td>3</td>\n",
       "      <td>5</td>\n",
       "      <td>9</td>\n",
       "      <td>0</td>\n",
       "      <td>1</td>\n",
       "      <td>1</td>\n",
       "      <td>0</td>\n",
       "      <td>0</td>\n",
       "      <td>0</td>\n",
       "    </tr>\n",
       "  </tbody>\n",
       "</table>\n",
       "<p>5 rows × 59 columns</p>\n",
       "</div>"
      ],
      "text/plain": [
       "            id  target  ps_ind_01  ps_ind_02_cat  ps_ind_03  ps_ind_04_cat  \\\n",
       "187989  469930       0          1              1          5              0   \n",
       "316868  791878       0          2              1          3              1   \n",
       "312774  781606       0          0              1          6              1   \n",
       "127837  319624       0          1              2          5              0   \n",
       "397037  991982       0          6              2          6              1   \n",
       "\n",
       "        ps_ind_05_cat  ps_ind_06_bin  ps_ind_07_bin  ps_ind_08_bin  ...  \\\n",
       "187989              4              0              0              1  ...   \n",
       "316868              0              0              0              0  ...   \n",
       "312774              6              0              0              0  ...   \n",
       "127837              0              1              0              0  ...   \n",
       "397037              0              0              1              0  ...   \n",
       "\n",
       "        ps_calc_11  ps_calc_12  ps_calc_13  ps_calc_14  ps_calc_15_bin  \\\n",
       "187989           2           0           5           7               0   \n",
       "316868           5           1           3           8               0   \n",
       "312774           2           1           5           7               0   \n",
       "127837           6           4           1           6               0   \n",
       "397037           8           3           5           9               0   \n",
       "\n",
       "        ps_calc_16_bin  ps_calc_17_bin  ps_calc_18_bin  ps_calc_19_bin  \\\n",
       "187989               1               1               0               0   \n",
       "316868               0               0               1               0   \n",
       "312774               1               1               0               0   \n",
       "127837               1               1               1               0   \n",
       "397037               1               1               0               0   \n",
       "\n",
       "        ps_calc_20_bin  \n",
       "187989               0  \n",
       "316868               0  \n",
       "312774               0  \n",
       "127837               0  \n",
       "397037               0  \n",
       "\n",
       "[5 rows x 59 columns]"
      ]
     },
     "execution_count": 7,
     "metadata": {},
     "output_type": "execute_result"
    }
   ],
   "source": [
    "train.sample(5)"
   ]
  },
  {
   "cell_type": "code",
   "execution_count": 8,
   "metadata": {},
   "outputs": [
    {
     "data": {
      "text/plain": [
       "(595212, 59)"
      ]
     },
     "execution_count": 8,
     "metadata": {},
     "output_type": "execute_result"
    }
   ],
   "source": [
    "train.shape"
   ]
  },
  {
   "cell_type": "code",
   "execution_count": 9,
   "metadata": {},
   "outputs": [
    {
     "data": {
      "text/plain": [
       "(892816, 58)"
      ]
     },
     "execution_count": 9,
     "metadata": {},
     "output_type": "execute_result"
    }
   ],
   "source": [
    "test.shape"
   ]
  },
  {
   "cell_type": "code",
   "execution_count": 10,
   "metadata": {},
   "outputs": [
    {
     "data": {
      "text/plain": [
       "(595212, 59)"
      ]
     },
     "execution_count": 10,
     "metadata": {},
     "output_type": "execute_result"
    }
   ],
   "source": [
    "train.drop_duplicates()\n",
    "train.shape"
   ]
  },
  {
   "cell_type": "code",
   "execution_count": 6,
   "metadata": {},
   "outputs": [
    {
     "name": "stdout",
     "output_type": "stream",
     "text": [
      "<class 'pandas.core.frame.DataFrame'>\n",
      "RangeIndex: 595212 entries, 0 to 595211\n",
      "Data columns (total 59 columns):\n",
      " #   Column          Non-Null Count   Dtype  \n",
      "---  ------          --------------   -----  \n",
      " 0   id              595212 non-null  int64  \n",
      " 1   target          595212 non-null  int64  \n",
      " 2   ps_ind_01       595212 non-null  int64  \n",
      " 3   ps_ind_02_cat   595212 non-null  int64  \n",
      " 4   ps_ind_03       595212 non-null  int64  \n",
      " 5   ps_ind_04_cat   595212 non-null  int64  \n",
      " 6   ps_ind_05_cat   595212 non-null  int64  \n",
      " 7   ps_ind_06_bin   595212 non-null  int64  \n",
      " 8   ps_ind_07_bin   595212 non-null  int64  \n",
      " 9   ps_ind_08_bin   595212 non-null  int64  \n",
      " 10  ps_ind_09_bin   595212 non-null  int64  \n",
      " 11  ps_ind_10_bin   595212 non-null  int64  \n",
      " 12  ps_ind_11_bin   595212 non-null  int64  \n",
      " 13  ps_ind_12_bin   595212 non-null  int64  \n",
      " 14  ps_ind_13_bin   595212 non-null  int64  \n",
      " 15  ps_ind_14       595212 non-null  int64  \n",
      " 16  ps_ind_15       595212 non-null  int64  \n",
      " 17  ps_ind_16_bin   595212 non-null  int64  \n",
      " 18  ps_ind_17_bin   595212 non-null  int64  \n",
      " 19  ps_ind_18_bin   595212 non-null  int64  \n",
      " 20  ps_reg_01       595212 non-null  float64\n",
      " 21  ps_reg_02       595212 non-null  float64\n",
      " 22  ps_reg_03       595212 non-null  float64\n",
      " 23  ps_car_01_cat   595212 non-null  int64  \n",
      " 24  ps_car_02_cat   595212 non-null  int64  \n",
      " 25  ps_car_03_cat   595212 non-null  int64  \n",
      " 26  ps_car_04_cat   595212 non-null  int64  \n",
      " 27  ps_car_05_cat   595212 non-null  int64  \n",
      " 28  ps_car_06_cat   595212 non-null  int64  \n",
      " 29  ps_car_07_cat   595212 non-null  int64  \n",
      " 30  ps_car_08_cat   595212 non-null  int64  \n",
      " 31  ps_car_09_cat   595212 non-null  int64  \n",
      " 32  ps_car_10_cat   595212 non-null  int64  \n",
      " 33  ps_car_11_cat   595212 non-null  int64  \n",
      " 34  ps_car_11       595212 non-null  int64  \n",
      " 35  ps_car_12       595212 non-null  float64\n",
      " 36  ps_car_13       595212 non-null  float64\n",
      " 37  ps_car_14       595212 non-null  float64\n",
      " 38  ps_car_15       595212 non-null  float64\n",
      " 39  ps_calc_01      595212 non-null  float64\n",
      " 40  ps_calc_02      595212 non-null  float64\n",
      " 41  ps_calc_03      595212 non-null  float64\n",
      " 42  ps_calc_04      595212 non-null  int64  \n",
      " 43  ps_calc_05      595212 non-null  int64  \n",
      " 44  ps_calc_06      595212 non-null  int64  \n",
      " 45  ps_calc_07      595212 non-null  int64  \n",
      " 46  ps_calc_08      595212 non-null  int64  \n",
      " 47  ps_calc_09      595212 non-null  int64  \n",
      " 48  ps_calc_10      595212 non-null  int64  \n",
      " 49  ps_calc_11      595212 non-null  int64  \n",
      " 50  ps_calc_12      595212 non-null  int64  \n",
      " 51  ps_calc_13      595212 non-null  int64  \n",
      " 52  ps_calc_14      595212 non-null  int64  \n",
      " 53  ps_calc_15_bin  595212 non-null  int64  \n",
      " 54  ps_calc_16_bin  595212 non-null  int64  \n",
      " 55  ps_calc_17_bin  595212 non-null  int64  \n",
      " 56  ps_calc_18_bin  595212 non-null  int64  \n",
      " 57  ps_calc_19_bin  595212 non-null  int64  \n",
      " 58  ps_calc_20_bin  595212 non-null  int64  \n",
      "dtypes: float64(10), int64(49)\n",
      "memory usage: 267.9 MB\n"
     ]
    }
   ],
   "source": [
    "train.info()"
   ]
  },
  {
   "cell_type": "code",
   "execution_count": 11,
   "metadata": {},
   "outputs": [
    {
     "name": "stdout",
     "output_type": "stream",
     "text": [
      "0    0.963552\n",
      "1    0.036448\n",
      "Name: target, dtype: float64\n"
     ]
    },
    {
     "data": {
      "image/png": "[encoded data removed]",
      "text/plain": [
       "<Figure size 504x504 with 1 Axes>"
      ]
     },
     "metadata": {
      "needs_background": "light"
     },
     "output_type": "display_data"
    }
   ],
   "source": [
    "cls_ratio = train_label.value_counts()/train_label.count()\n",
    "print(cls_ratio)\n",
    "cls_ratio.plot.bar()\n",
    "plt.show()"
   ]
  },
  {
   "cell_type": "markdown",
   "metadata": {},
   "source": [
    "* Tập **train** có 59 cột, tập **test** có 58 cột (không có cột `target`)\n",
    "* Tập **train** không có dòng trùng nhau.\n",
    "* Toàn bộ dữ liệu đều ở dạng số.\n",
    "* Dữ liệu mất cân bằng nghiêm trọng với `96.3%` lớp 0 và `3.6%` lớp 1."
   ]
  },
  {
   "cell_type": "markdown",
   "metadata": {},
   "source": [
    "### Feature engineer + Khám phá dữ liệu\n",
    "\n",
    "Cho cả 2 mô hình **LightGBM** và **Neural networks**\n",
    "\n",
    "Bao gồm:\n",
    "* Loại bỏ tất cả đặc trưng `calc`\n",
    "* Thêm đặc trưng: Số lượng giá trị thiếu mỗi dòng\n",
    "* Mã hóa one hot với các đặc trưng `cat`\n",
    "* Gộp các đặc trưng `ind` làm một: `new_ind`\n",
    "* Đếm các đặc trưng `cat` kể cả `new_ind`"
   ]
  },
  {
   "cell_type": "markdown",
   "metadata": {},
   "source": [
    "#### Loại bỏ các đặc trưng `calc`\n",
    "\n",
    "Các đặc trưng `calc` được loại bỏ vì tác giả thấy chúng không đóng góp gì cho model qua các thử nghiệm."
   ]
  },
  {
   "cell_type": "code",
   "execution_count": 3,
   "metadata": {},
   "outputs": [],
   "source": [
    "y = train['target'].values\n",
    "drop_feature = [\n",
    "    'id',\n",
    "    'target'\n",
    "]\n",
    "\n",
    "X = train.drop(drop_feature,axis=1)\n",
    "feature_names = X.columns.tolist()\n",
    "cat_features = [c for c in feature_names if ('cat' in c and 'count' not in c)]\n",
    "num_features = [c for c in feature_names if ('cat' not in c and 'calc' not in c)]"
   ]
  },
  {
   "cell_type": "code",
   "execution_count": 15,
   "metadata": {},
   "outputs": [
    {
     "data": {
      "text/plain": [
       "['ps_ind_02_cat',\n",
       " 'ps_ind_04_cat',\n",
       " 'ps_ind_05_cat',\n",
       " 'ps_car_01_cat',\n",
       " 'ps_car_02_cat',\n",
       " 'ps_car_03_cat',\n",
       " 'ps_car_04_cat',\n",
       " 'ps_car_05_cat',\n",
       " 'ps_car_06_cat',\n",
       " 'ps_car_07_cat',\n",
       " 'ps_car_08_cat',\n",
       " 'ps_car_09_cat',\n",
       " 'ps_car_10_cat',\n",
       " 'ps_car_11_cat']"
      ]
     },
     "execution_count": 15,
     "metadata": {},
     "output_type": "execute_result"
    }
   ],
   "source": [
    "cat_features"
   ]
  },
  {
   "cell_type": "code",
   "execution_count": 26,
   "metadata": {},
   "outputs": [
    {
     "data": {
      "text/plain": [
       "['ps_ind_01',\n",
       " 'ps_ind_03',\n",
       " 'ps_ind_06_bin',\n",
       " 'ps_ind_07_bin',\n",
       " 'ps_ind_08_bin',\n",
       " 'ps_ind_09_bin',\n",
       " 'ps_ind_10_bin',\n",
       " 'ps_ind_11_bin',\n",
       " 'ps_ind_12_bin',\n",
       " 'ps_ind_13_bin',\n",
       " 'ps_ind_14',\n",
       " 'ps_ind_15',\n",
       " 'ps_ind_16_bin',\n",
       " 'ps_ind_17_bin',\n",
       " 'ps_ind_18_bin',\n",
       " 'ps_reg_01',\n",
       " 'ps_reg_02',\n",
       " 'ps_reg_03',\n",
       " 'ps_car_11',\n",
       " 'ps_car_12',\n",
       " 'ps_car_13',\n",
       " 'ps_car_14',\n",
       " 'ps_car_15']"
      ]
     },
     "execution_count": 26,
     "metadata": {},
     "output_type": "execute_result"
    }
   ],
   "source": [
    "num_features"
   ]
  },
  {
   "cell_type": "markdown",
   "metadata": {},
   "source": [
    "#### Đếm số lượng giá trị thiếu mỗi dòng\n",
    "\n",
    "Thêm cột `missing`: số lượng giá trị thiếu của mỗi dòng dữ liệu."
   ]
  },
  {
   "cell_type": "code",
   "execution_count": 21,
   "metadata": {},
   "outputs": [],
   "source": [
    "train['missing'] = (train==-1).sum(axis=1).astype(float)\n",
    "test['missing'] = (test==-1).sum(axis=1).astype(float)\n",
    "num_features.append('missing')"
   ]
  },
  {
   "cell_type": "code",
   "execution_count": 22,
   "metadata": {},
   "outputs": [
    {
     "data": {
      "text/plain": [
       "2.0    254982\n",
       "1.0    156295\n",
       "0.0    124931\n",
       "3.0     56042\n",
       "4.0      2883\n",
       "7.0        53\n",
       "6.0        19\n",
       "8.0         7\n",
       "Name: missing, dtype: int64"
      ]
     },
     "execution_count": 22,
     "metadata": {},
     "output_type": "execute_result"
    }
   ],
   "source": [
    "train[\"missing\"].value_counts()"
   ]
  },
  {
   "cell_type": "markdown",
   "metadata": {},
   "source": [
    "Theo một notebook **EDA** được public trong cuộc thi ([link](https://www.kaggle.com/bertcarremans/data-preparation-exploration#Exploratory-Data-Visualization)): trong các đặc trưng có giá trị thiếu, tỷ lệ lớp dương của giá trị thiếu có xu hướng cao hơn hoặc thấp hơn rất nhiều so với tỷ lệ lớp dương toàn dữ liệu. Có vẻ như những chủ xe có giá trị thiếu có khả năng cao hơn sẽ đưa ra yêu cầu bồi thường (hoặc thấp hơn trong vài trường hợp).\n",
    "\n",
    "=> Số lượng giá trị thiếu có thể là một đặc trưng tốt."
   ]
  },
  {
   "cell_type": "code",
   "execution_count": 29,
   "metadata": {},
   "outputs": [
    {
     "data": {
      "image/png": "[encoded data removed]",
      "text/plain": [
       "<Figure size 1512x2016 with 12 Axes>"
      ]
     },
     "metadata": {
      "needs_background": "light"
     },
     "output_type": "display_data"
    }
   ],
   "source": [
    "positive_ratio = train[\"target\"].mean()\n",
    "\n",
    "fig, axes = plt.subplots(4, 3, figsize=(21,28))\n",
    "fig.suptitle(\"TỶ LỆ LỚP DƯƠNG TRONG MỖI THỂ LOẠI CỦA ĐẶC TRƯNG\", y=1, fontsize=20)\n",
    "axes = axes.flatten()\n",
    "for f, ax in zip(cat_features[:-2], axes):\n",
    "    # Calculate the percentage of target=1 per category value\n",
    "    cat_perc = train[[f, 'target']].groupby([f],as_index=False).mean()\n",
    "    cat_perc.sort_values(by='target', ascending=False, inplace=True)\n",
    "    # Bar plot\n",
    "    # Order the bars descending on target mean\n",
    "    ax.bar(cat_perc[f].apply(str), cat_perc[\"target\"])\n",
    "    ax.set(xlabel=f, ylabel='% target')\n",
    "    ax.axhline(y=positive_ratio, color=\"r\")\n",
    "plt.tight_layout()\n",
    "plt.show();"
   ]
  },
  {
   "cell_type": "markdown",
   "metadata": {},
   "source": [
    "#### Chuyển các đặc trưng categorical sang dạng `one hot`\n",
    "\n",
    "Các trị null `-1` không được **impute** (điền giá trị mean hoặc mode) mà được xem như là một **giá trị thể loại** và được encode.\n",
    "\n",
    "Suy đoán: Việc xem `null` như giá trị có thể là một ý hay."
   ]
  },
  {
   "cell_type": "code",
   "execution_count": 23,
   "metadata": {},
   "outputs": [],
   "source": [
    "for c in cat_features:\n",
    "    le = LabelEncoder()\n",
    "    le.fit(train[c])\n",
    "    train[c] = le.transform(train[c])\n",
    "    test[c] = le.transform(test[c])\n",
    "\n",
    "enc = OneHotEncoder()\n",
    "enc.fit(train[cat_features])\n",
    "X_cat = enc.transform(train[cat_features])\n",
    "X_t_cat = enc.transform(test[cat_features])"
   ]
  },
  {
   "cell_type": "markdown",
   "metadata": {},
   "source": [
    "#### Gộp các đặc trưng `ind` làm một\n",
    "\n",
    "Các đặc trưng `ind` được gộp thành một đặc trưng mới: `new_ind`.\n",
    "\n",
    "Như vậy, các dòng có bộ giá trị đặc trưng từ `ind_01` đến `ind_18` giống nhau sẽ có giá trị `new_ind` cũng giống nhau."
   ]
  },
  {
   "cell_type": "code",
   "execution_count": 28,
   "metadata": {},
   "outputs": [],
   "source": [
    "ind_features = [c for c in feature_names if 'ind' in c]\n",
    "count=0\n",
    "for c in ind_features:\n",
    "    if count==0:\n",
    "        train['new_ind'] = train[c].astype(str)+'_'\n",
    "        test['new_ind'] = test[c].astype(str)+'_'\n",
    "        count+=1\n",
    "    else:\n",
    "        train['new_ind'] += train[c].astype(str)+'_'\n",
    "        test['new_ind'] += test[c].astype(str)+'_'"
   ]
  },
  {
   "cell_type": "code",
   "execution_count": 29,
   "metadata": {},
   "outputs": [
    {
     "data": {
      "text/plain": [
       "0          2_2_5_2_1_0_1_0_0_0_0_0_0_0_11_0_1_0_\n",
       "1           1_1_7_1_1_0_0_1_0_0_0_0_0_0_3_0_0_1_\n",
       "2          5_4_9_2_1_0_0_1_0_0_0_0_0_0_12_1_0_0_\n",
       "3           0_1_2_1_1_1_0_0_0_0_0_0_0_0_8_1_0_0_\n",
       "4           0_2_0_2_1_1_0_0_0_0_0_0_0_0_9_1_0_0_\n",
       "                           ...                  \n",
       "595207    3_1_10_1_1_0_0_0_1_0_0_0_0_0_13_1_0_0_\n",
       "595208      5_1_3_1_1_0_0_0_1_0_0_0_0_0_6_1_0_0_\n",
       "595209    1_1_10_1_1_1_0_0_0_0_0_0_0_0_12_1_0_0_\n",
       "595210     5_2_3_2_1_0_0_1_0_0_0_0_0_0_12_1_0_0_\n",
       "595211      0_1_8_1_1_1_0_0_0_0_0_0_0_0_7_1_0_0_\n",
       "Name: new_ind, Length: 595212, dtype: object"
      ]
     },
     "execution_count": 29,
     "metadata": {},
     "output_type": "execute_result"
    }
   ],
   "source": [
    "train[\"new_ind\"]"
   ]
  },
  {
   "cell_type": "markdown",
   "metadata": {},
   "source": [
    "#### Đếm các đặc trưng `cat` kể cả `new_ind`\n",
    "\n",
    "* Đếm số lượng giá trị của các đặc trưng `cat` và đưa làm đặc trưng mới (hậu tố `_count`).\n",
    "* Số lượng được đếm trên bộ dữ liệu gộp giữa **train** và **test** -> Để có số liệu thống kê tổng quát hơn."
   ]
  },
  {
   "cell_type": "code",
   "execution_count": 30,
   "metadata": {},
   "outputs": [],
   "source": [
    "cat_count_features = []\n",
    "for c in cat_features+['new_ind']:\n",
    "    d = pd.concat([train[c],test[c]]).value_counts().to_dict()\n",
    "    train['%s_count'%c] = train[c].apply(lambda x:d.get(x,0))\n",
    "    test['%s_count'%c] = test[c].apply(lambda x:d.get(x,0))\n",
    "    cat_count_features.append('%s_count'%c)"
   ]
  },
  {
   "cell_type": "code",
   "execution_count": 31,
   "metadata": {},
   "outputs": [
    {
     "data": {
      "text/plain": [
       "['ps_ind_02_cat_count',\n",
       " 'ps_ind_04_cat_count',\n",
       " 'ps_ind_05_cat_count',\n",
       " 'ps_car_01_cat_count',\n",
       " 'ps_car_02_cat_count',\n",
       " 'ps_car_03_cat_count',\n",
       " 'ps_car_04_cat_count',\n",
       " 'ps_car_05_cat_count',\n",
       " 'ps_car_06_cat_count',\n",
       " 'ps_car_07_cat_count',\n",
       " 'ps_car_08_cat_count',\n",
       " 'ps_car_09_cat_count',\n",
       " 'ps_car_10_cat_count',\n",
       " 'ps_car_11_cat_count',\n",
       " 'new_ind_count']"
      ]
     },
     "execution_count": 31,
     "metadata": {},
     "output_type": "execute_result"
    }
   ],
   "source": [
    "cat_count_features"
   ]
  },
  {
   "cell_type": "markdown",
   "metadata": {},
   "source": [
    "### Feature engineer + Khám phá dữ liệu 2\n",
    "\n",
    "Các feature engineering thêm cho mô hình **Neural networks**.\n",
    "\n",
    "Bao gồm:\n",
    "* Thêm đặc trưng: Số lượng giá trị thiếu mỗi dòng\n",
    "* Thêm đặc trưng: Nhân và chia của 2 đặc trưng\n",
    "* Đếm giá trị các đặc trưng `cat`\n",
    "* Thêm các đặc trưng thống kê\n",
    "* Thêm đặc trưng được train bằng **XGBoost**"
   ]
  },
  {
   "cell_type": "markdown",
   "metadata": {},
   "source": [
    "#### Đếm số lượng giá trị thiếu từng dòng"
   ]
  },
  {
   "cell_type": "code",
   "execution_count": 3,
   "metadata": {},
   "outputs": [],
   "source": [
    "#find missing value by each row and recode to column 'missing'\n",
    "train['missing'] = (train==-1).sum(axis=1).astype(float)\n",
    "test['missing'] = (test==-1).sum(axis=1).astype(float)"
   ]
  },
  {
   "cell_type": "markdown",
   "metadata": {},
   "source": [
    "#### Nhân và chia đặc trưng\n",
    "\n",
    "* Nhân và chia các tổ hợp 2 của 6 đặc trưng quan trọng được chọn ra (thông qua phân tích dữ liệu).\n",
    "* Số lượng đặc trưng: `6C2 * 2 = 30`\n",
    "* Prefix: `inter_`"
   ]
  },
  {
   "cell_type": "code",
   "execution_count": 5,
   "metadata": {},
   "outputs": [],
   "source": [
    "#Add features of Multiply and Divide\n",
    "features= ['ps_car_13', 'ps_ind_03', 'ps_reg_03', 'ps_ind_15', 'ps_reg_01', 'ps_ind_01']\n",
    "train, test, MD_features = Multiply_Divide(train, test, features)"
   ]
  },
  {
   "cell_type": "code",
   "execution_count": 6,
   "metadata": {},
   "outputs": [
    {
     "data": {
      "text/html": [
       "<div>\n",
       "<style scoped>\n",
       "    .dataframe tbody tr th:only-of-type {\n",
       "        vertical-align: middle;\n",
       "    }\n",
       "\n",
       "    .dataframe tbody tr th {\n",
       "        vertical-align: top;\n",
       "    }\n",
       "\n",
       "    .dataframe thead th {\n",
       "        text-align: right;\n",
       "    }\n",
       "</style>\n",
       "<table border=\"1\" class=\"dataframe\">\n",
       "  <thead>\n",
       "    <tr style=\"text-align: right;\">\n",
       "      <th></th>\n",
       "      <th>inter_0*</th>\n",
       "      <th>inter_0/</th>\n",
       "      <th>inter_1*</th>\n",
       "      <th>inter_1/</th>\n",
       "      <th>inter_2*</th>\n",
       "      <th>inter_2/</th>\n",
       "      <th>inter_3*</th>\n",
       "      <th>inter_3/</th>\n",
       "      <th>inter_4*</th>\n",
       "      <th>inter_4/</th>\n",
       "      <th>...</th>\n",
       "      <th>inter_10*</th>\n",
       "      <th>inter_10/</th>\n",
       "      <th>inter_11*</th>\n",
       "      <th>inter_11/</th>\n",
       "      <th>inter_12*</th>\n",
       "      <th>inter_12/</th>\n",
       "      <th>inter_13*</th>\n",
       "      <th>inter_13/</th>\n",
       "      <th>inter_14*</th>\n",
       "      <th>inter_14/</th>\n",
       "    </tr>\n",
       "  </thead>\n",
       "  <tbody>\n",
       "    <tr>\n",
       "      <th>0</th>\n",
       "      <td>4.418395</td>\n",
       "      <td>0.176736</td>\n",
       "      <td>0.634544</td>\n",
       "      <td>1.230630</td>\n",
       "      <td>9.720468</td>\n",
       "      <td>0.080334</td>\n",
       "      <td>0.618575</td>\n",
       "      <td>1.262398</td>\n",
       "      <td>1.767358</td>\n",
       "      <td>0.441839</td>\n",
       "      <td>...</td>\n",
       "      <td>0.502649</td>\n",
       "      <td>1.025815</td>\n",
       "      <td>1.436141</td>\n",
       "      <td>0.359035</td>\n",
       "      <td>7.7</td>\n",
       "      <td>15.714286</td>\n",
       "      <td>22</td>\n",
       "      <td>5.5</td>\n",
       "      <td>1.4</td>\n",
       "      <td>0.35</td>\n",
       "    </tr>\n",
       "    <tr>\n",
       "      <th>1</th>\n",
       "      <td>4.331716</td>\n",
       "      <td>0.088402</td>\n",
       "      <td>0.474062</td>\n",
       "      <td>0.807773</td>\n",
       "      <td>1.856450</td>\n",
       "      <td>0.206272</td>\n",
       "      <td>0.495053</td>\n",
       "      <td>0.773521</td>\n",
       "      <td>0.618817</td>\n",
       "      <td>0.618817</td>\n",
       "      <td>...</td>\n",
       "      <td>0.612862</td>\n",
       "      <td>0.957597</td>\n",
       "      <td>0.766078</td>\n",
       "      <td>0.766078</td>\n",
       "      <td>2.4</td>\n",
       "      <td>3.750000</td>\n",
       "      <td>3</td>\n",
       "      <td>3.0</td>\n",
       "      <td>0.8</td>\n",
       "      <td>0.80</td>\n",
       "    </tr>\n",
       "    <tr>\n",
       "      <th>2</th>\n",
       "      <td>5.774271</td>\n",
       "      <td>0.071287</td>\n",
       "      <td>-0.641586</td>\n",
       "      <td>-0.641586</td>\n",
       "      <td>7.699029</td>\n",
       "      <td>0.053465</td>\n",
       "      <td>0.000000</td>\n",
       "      <td>inf</td>\n",
       "      <td>3.207929</td>\n",
       "      <td>0.128317</td>\n",
       "      <td>...</td>\n",
       "      <td>-0.000000</td>\n",
       "      <td>-inf</td>\n",
       "      <td>-5.000000</td>\n",
       "      <td>-0.200000</td>\n",
       "      <td>0.0</td>\n",
       "      <td>inf</td>\n",
       "      <td>60</td>\n",
       "      <td>2.4</td>\n",
       "      <td>0.0</td>\n",
       "      <td>0.00</td>\n",
       "    </tr>\n",
       "    <tr>\n",
       "      <th>3</th>\n",
       "      <td>1.085898</td>\n",
       "      <td>0.271474</td>\n",
       "      <td>0.315425</td>\n",
       "      <td>0.934592</td>\n",
       "      <td>4.343590</td>\n",
       "      <td>0.067869</td>\n",
       "      <td>0.488654</td>\n",
       "      <td>0.603276</td>\n",
       "      <td>0.000000</td>\n",
       "      <td>inf</td>\n",
       "      <td>...</td>\n",
       "      <td>0.522853</td>\n",
       "      <td>0.645497</td>\n",
       "      <td>0.000000</td>\n",
       "      <td>inf</td>\n",
       "      <td>7.2</td>\n",
       "      <td>8.888889</td>\n",
       "      <td>0</td>\n",
       "      <td>inf</td>\n",
       "      <td>0.0</td>\n",
       "      <td>inf</td>\n",
       "    </tr>\n",
       "    <tr>\n",
       "      <th>4</th>\n",
       "      <td>0.000000</td>\n",
       "      <td>inf</td>\n",
       "      <td>0.475728</td>\n",
       "      <td>0.673001</td>\n",
       "      <td>5.092484</td>\n",
       "      <td>0.062870</td>\n",
       "      <td>0.396082</td>\n",
       "      <td>0.808331</td>\n",
       "      <td>0.000000</td>\n",
       "      <td>inf</td>\n",
       "      <td>...</td>\n",
       "      <td>0.588531</td>\n",
       "      <td>1.201084</td>\n",
       "      <td>0.000000</td>\n",
       "      <td>inf</td>\n",
       "      <td>6.3</td>\n",
       "      <td>12.857143</td>\n",
       "      <td>0</td>\n",
       "      <td>inf</td>\n",
       "      <td>0.0</td>\n",
       "      <td>inf</td>\n",
       "    </tr>\n",
       "  </tbody>\n",
       "</table>\n",
       "<p>5 rows × 30 columns</p>\n",
       "</div>"
      ],
      "text/plain": [
       "   inter_0*  inter_0/  inter_1*  inter_1/  inter_2*  inter_2/  inter_3*  \\\n",
       "0  4.418395  0.176736  0.634544  1.230630  9.720468  0.080334  0.618575   \n",
       "1  4.331716  0.088402  0.474062  0.807773  1.856450  0.206272  0.495053   \n",
       "2  5.774271  0.071287 -0.641586 -0.641586  7.699029  0.053465  0.000000   \n",
       "3  1.085898  0.271474  0.315425  0.934592  4.343590  0.067869  0.488654   \n",
       "4  0.000000       inf  0.475728  0.673001  5.092484  0.062870  0.396082   \n",
       "\n",
       "   inter_3/  inter_4*  inter_4/  ...  inter_10*  inter_10/  inter_11*  \\\n",
       "0  1.262398  1.767358  0.441839  ...   0.502649   1.025815   1.436141   \n",
       "1  0.773521  0.618817  0.618817  ...   0.612862   0.957597   0.766078   \n",
       "2       inf  3.207929  0.128317  ...  -0.000000       -inf  -5.000000   \n",
       "3  0.603276  0.000000       inf  ...   0.522853   0.645497   0.000000   \n",
       "4  0.808331  0.000000       inf  ...   0.588531   1.201084   0.000000   \n",
       "\n",
       "   inter_11/  inter_12*  inter_12/  inter_13*  inter_13/  inter_14*  inter_14/  \n",
       "0   0.359035        7.7  15.714286         22        5.5        1.4       0.35  \n",
       "1   0.766078        2.4   3.750000          3        3.0        0.8       0.80  \n",
       "2  -0.200000        0.0        inf         60        2.4        0.0       0.00  \n",
       "3        inf        7.2   8.888889          0        inf        0.0        inf  \n",
       "4        inf        6.3  12.857143          0        inf        0.0        inf  \n",
       "\n",
       "[5 rows x 30 columns]"
      ]
     },
     "execution_count": 6,
     "metadata": {},
     "output_type": "execute_result"
    }
   ],
   "source": [
    "train[MD_features].head(5)"
   ]
  },
  {
   "cell_type": "markdown",
   "metadata": {},
   "source": [
    "#### Đếm các đặc trưng `cat`\n",
    "\n",
    "* Gộp các đặc trưng của mỗi nhóm `ind`, `reg` và `car` với nhau thành 3 đặc trưng mới: `new_ind`, `new_reg`, `new_car`\n",
    "* Đếm số lượng giá trị của các đặc trưng **categorical** (bao gồm 3 đặc trưng mới)"
   ]
  },
  {
   "cell_type": "code",
   "execution_count": 7,
   "metadata": {},
   "outputs": [],
   "source": [
    "'''\n",
    "create 1_0_1_1..... data as new_xxx\n",
    "\n",
    "new_ind: collect all data from all relative \"ind\" columns, then generate series number\n",
    "\n",
    "new_reg, new_car for train and test data \n",
    "For RNN processing, generating a sequence number\n",
    "'''\n",
    "\n",
    "category_list = ['ind', 'reg', 'car']\n",
    "#add 'new_ind','new_reg','new_car' in train and test dataset\n",
    "train, test = Series_string(train,test,category_list )"
   ]
  },
  {
   "cell_type": "code",
   "execution_count": 8,
   "metadata": {},
   "outputs": [
    {
     "data": {
      "text/html": [
       "<div>\n",
       "<style scoped>\n",
       "    .dataframe tbody tr th:only-of-type {\n",
       "        vertical-align: middle;\n",
       "    }\n",
       "\n",
       "    .dataframe tbody tr th {\n",
       "        vertical-align: top;\n",
       "    }\n",
       "\n",
       "    .dataframe thead th {\n",
       "        text-align: right;\n",
       "    }\n",
       "</style>\n",
       "<table border=\"1\" class=\"dataframe\">\n",
       "  <thead>\n",
       "    <tr style=\"text-align: right;\">\n",
       "      <th></th>\n",
       "      <th>new_ind</th>\n",
       "      <th>new_reg</th>\n",
       "      <th>new_car</th>\n",
       "    </tr>\n",
       "  </thead>\n",
       "  <tbody>\n",
       "    <tr>\n",
       "      <th>0</th>\n",
       "      <td>2_2_5_1_0_0_1_0_0_0_0_0_0_0_11_0_1_0</td>\n",
       "      <td>0.7_0.2_0.7180703307999999</td>\n",
       "      <td>10_1_-1_0_1_4_1_0_0_1_12_2_0.4_0.8836789178_0....</td>\n",
       "    </tr>\n",
       "    <tr>\n",
       "      <th>1</th>\n",
       "      <td>1_1_7_0_0_0_0_1_0_0_0_0_0_0_3_0_0_1</td>\n",
       "      <td>0.8_0.4_0.7660776723</td>\n",
       "      <td>11_1_-1_0_-1_11_1_1_2_1_19_3_0.316227766_0.618...</td>\n",
       "    </tr>\n",
       "    <tr>\n",
       "      <th>2</th>\n",
       "      <td>5_4_9_1_0_0_0_1_0_0_0_0_0_0_12_1_0_0</td>\n",
       "      <td>0.0_0.0_-1.0</td>\n",
       "      <td>7_1_-1_0_-1_14_1_1_2_1_60_1_0.316227766_0.6415...</td>\n",
       "    </tr>\n",
       "    <tr>\n",
       "      <th>3</th>\n",
       "      <td>0_1_2_0_0_1_0_0_0_0_0_0_0_0_8_1_0_0</td>\n",
       "      <td>0.9_0.2_0.5809475019</td>\n",
       "      <td>7_1_0_0_1_11_1_1_3_1_104_1_0.3741657387_0.5429...</td>\n",
       "    </tr>\n",
       "    <tr>\n",
       "      <th>4</th>\n",
       "      <td>0_2_0_1_0_1_0_0_0_0_0_0_0_0_9_1_0_0</td>\n",
       "      <td>0.7_0.6_0.840758586</td>\n",
       "      <td>11_1_-1_0_-1_14_1_1_2_1_82_3_0.3160696126_0.56...</td>\n",
       "    </tr>\n",
       "  </tbody>\n",
       "</table>\n",
       "</div>"
      ],
      "text/plain": [
       "                                new_ind                     new_reg  \\\n",
       "0  2_2_5_1_0_0_1_0_0_0_0_0_0_0_11_0_1_0  0.7_0.2_0.7180703307999999   \n",
       "1   1_1_7_0_0_0_0_1_0_0_0_0_0_0_3_0_0_1        0.8_0.4_0.7660776723   \n",
       "2  5_4_9_1_0_0_0_1_0_0_0_0_0_0_12_1_0_0                0.0_0.0_-1.0   \n",
       "3   0_1_2_0_0_1_0_0_0_0_0_0_0_0_8_1_0_0        0.9_0.2_0.5809475019   \n",
       "4   0_2_0_1_0_1_0_0_0_0_0_0_0_0_9_1_0_0         0.7_0.6_0.840758586   \n",
       "\n",
       "                                             new_car  \n",
       "0  10_1_-1_0_1_4_1_0_0_1_12_2_0.4_0.8836789178_0....  \n",
       "1  11_1_-1_0_-1_11_1_1_2_1_19_3_0.316227766_0.618...  \n",
       "2  7_1_-1_0_-1_14_1_1_2_1_60_1_0.316227766_0.6415...  \n",
       "3  7_1_0_0_1_11_1_1_3_1_104_1_0.3741657387_0.5429...  \n",
       "4  11_1_-1_0_-1_14_1_1_2_1_82_3_0.3160696126_0.56...  "
      ]
     },
     "execution_count": 8,
     "metadata": {},
     "output_type": "execute_result"
    }
   ],
   "source": [
    "train[['new_ind','new_reg','new_car']].head(5)"
   ]
  },
  {
   "cell_type": "code",
   "execution_count": 9,
   "metadata": {},
   "outputs": [],
   "source": [
    "'''\n",
    "count_features\n",
    "\n",
    "preparing for train[cat_count_features] \n",
    "cat_fea = \n",
    "['ps_ind_02_cat','ps_ind_04_cat','ps_ind_05_cat', 'ps_car_01_cat', 'ps_car_02_cat',\n",
    " 'ps_car_03_cat','ps_car_04_cat','ps_car_05_cat','ps_car_06_cat','ps_car_07_cat',\n",
    " 'ps_car_08_cat','ps_car_09_cat','ps_car_10_cat', 'ps_car_11_cat']\n",
    "\n",
    "Example: \n",
    "ps_ind_02_cat_count\n",
    "dictionay of ps_ind_02_cat \n",
    "([(1, 1079327), (2, 309747), (3, 70172), (4, 28259), (-1, 523)])\n",
    "\n",
    "row        count     origial value\n",
    "595202    1079327       1     \n",
    "595203     309747       2\n",
    "595204     309747       2\n",
    "595205      70172       3\n",
    "595206    1079327       1\n",
    "\n",
    "''' \n",
    "\n",
    "cat_fea = [ name for name in list(train) if 'cat' in name and 'count' not in name]\n",
    "features= cat_fea + ['new_ind','new_reg','new_car']\n",
    "\n",
    "train, test, cat_count_features= Features_Counts(train, test, features)"
   ]
  },
  {
   "cell_type": "code",
   "execution_count": 10,
   "metadata": {},
   "outputs": [
    {
     "data": {
      "text/html": [
       "<div>\n",
       "<style scoped>\n",
       "    .dataframe tbody tr th:only-of-type {\n",
       "        vertical-align: middle;\n",
       "    }\n",
       "\n",
       "    .dataframe tbody tr th {\n",
       "        vertical-align: top;\n",
       "    }\n",
       "\n",
       "    .dataframe thead th {\n",
       "        text-align: right;\n",
       "    }\n",
       "</style>\n",
       "<table border=\"1\" class=\"dataframe\">\n",
       "  <thead>\n",
       "    <tr style=\"text-align: right;\">\n",
       "      <th></th>\n",
       "      <th>ps_ind_02_cat_count</th>\n",
       "      <th>ps_ind_04_cat_count</th>\n",
       "      <th>ps_ind_05_cat_count</th>\n",
       "      <th>ps_car_01_cat_count</th>\n",
       "      <th>ps_car_02_cat_count</th>\n",
       "      <th>ps_car_03_cat_count</th>\n",
       "      <th>ps_car_04_cat_count</th>\n",
       "      <th>ps_car_05_cat_count</th>\n",
       "      <th>ps_car_06_cat_count</th>\n",
       "      <th>ps_car_07_cat_count</th>\n",
       "      <th>ps_car_08_cat_count</th>\n",
       "      <th>ps_car_09_cat_count</th>\n",
       "      <th>ps_car_10_cat_count</th>\n",
       "      <th>ps_car_11_cat_count</th>\n",
       "      <th>new_ind_count</th>\n",
       "      <th>new_reg_count</th>\n",
       "      <th>new_car_count</th>\n",
       "    </tr>\n",
       "  </thead>\n",
       "  <tbody>\n",
       "    <tr>\n",
       "      <th>0</th>\n",
       "      <td>309747</td>\n",
       "      <td>620936</td>\n",
       "      <td>1319412</td>\n",
       "      <td>124587</td>\n",
       "      <td>1234979</td>\n",
       "      <td>1028142</td>\n",
       "      <td>1241334</td>\n",
       "      <td>431560</td>\n",
       "      <td>77845</td>\n",
       "      <td>1383070</td>\n",
       "      <td>249663</td>\n",
       "      <td>486510</td>\n",
       "      <td>1475460</td>\n",
       "      <td>18326</td>\n",
       "      <td>6</td>\n",
       "      <td>24</td>\n",
       "      <td>1</td>\n",
       "    </tr>\n",
       "    <tr>\n",
       "      <th>1</th>\n",
       "      <td>1079327</td>\n",
       "      <td>866864</td>\n",
       "      <td>1319412</td>\n",
       "      <td>518725</td>\n",
       "      <td>1234979</td>\n",
       "      <td>1028142</td>\n",
       "      <td>1241334</td>\n",
       "      <td>666910</td>\n",
       "      <td>329890</td>\n",
       "      <td>1383070</td>\n",
       "      <td>1238365</td>\n",
       "      <td>883326</td>\n",
       "      <td>1475460</td>\n",
       "      <td>12535</td>\n",
       "      <td>36</td>\n",
       "      <td>38</td>\n",
       "      <td>11</td>\n",
       "    </tr>\n",
       "    <tr>\n",
       "      <th>2</th>\n",
       "      <td>28259</td>\n",
       "      <td>620936</td>\n",
       "      <td>1319412</td>\n",
       "      <td>449617</td>\n",
       "      <td>1234979</td>\n",
       "      <td>1028142</td>\n",
       "      <td>1241334</td>\n",
       "      <td>666910</td>\n",
       "      <td>147714</td>\n",
       "      <td>1383070</td>\n",
       "      <td>1238365</td>\n",
       "      <td>883326</td>\n",
       "      <td>1475460</td>\n",
       "      <td>19943</td>\n",
       "      <td>24</td>\n",
       "      <td>13477</td>\n",
       "      <td>40</td>\n",
       "    </tr>\n",
       "    <tr>\n",
       "      <th>3</th>\n",
       "      <td>1079327</td>\n",
       "      <td>866864</td>\n",
       "      <td>1319412</td>\n",
       "      <td>449617</td>\n",
       "      <td>1234979</td>\n",
       "      <td>183044</td>\n",
       "      <td>1241334</td>\n",
       "      <td>431560</td>\n",
       "      <td>329890</td>\n",
       "      <td>1383070</td>\n",
       "      <td>1238365</td>\n",
       "      <td>36798</td>\n",
       "      <td>1475460</td>\n",
       "      <td>212989</td>\n",
       "      <td>2784</td>\n",
       "      <td>222</td>\n",
       "      <td>1</td>\n",
       "    </tr>\n",
       "    <tr>\n",
       "      <th>4</th>\n",
       "      <td>309747</td>\n",
       "      <td>620936</td>\n",
       "      <td>1319412</td>\n",
       "      <td>518725</td>\n",
       "      <td>1234979</td>\n",
       "      <td>1028142</td>\n",
       "      <td>1241334</td>\n",
       "      <td>666910</td>\n",
       "      <td>147714</td>\n",
       "      <td>1383070</td>\n",
       "      <td>1238365</td>\n",
       "      <td>883326</td>\n",
       "      <td>1475460</td>\n",
       "      <td>26161</td>\n",
       "      <td>258</td>\n",
       "      <td>34</td>\n",
       "      <td>13</td>\n",
       "    </tr>\n",
       "  </tbody>\n",
       "</table>\n",
       "</div>"
      ],
      "text/plain": [
       "   ps_ind_02_cat_count  ps_ind_04_cat_count  ps_ind_05_cat_count  \\\n",
       "0               309747               620936              1319412   \n",
       "1              1079327               866864              1319412   \n",
       "2                28259               620936              1319412   \n",
       "3              1079327               866864              1319412   \n",
       "4               309747               620936              1319412   \n",
       "\n",
       "   ps_car_01_cat_count  ps_car_02_cat_count  ps_car_03_cat_count  \\\n",
       "0               124587              1234979              1028142   \n",
       "1               518725              1234979              1028142   \n",
       "2               449617              1234979              1028142   \n",
       "3               449617              1234979               183044   \n",
       "4               518725              1234979              1028142   \n",
       "\n",
       "   ps_car_04_cat_count  ps_car_05_cat_count  ps_car_06_cat_count  \\\n",
       "0              1241334               431560                77845   \n",
       "1              1241334               666910               329890   \n",
       "2              1241334               666910               147714   \n",
       "3              1241334               431560               329890   \n",
       "4              1241334               666910               147714   \n",
       "\n",
       "   ps_car_07_cat_count  ps_car_08_cat_count  ps_car_09_cat_count  \\\n",
       "0              1383070               249663               486510   \n",
       "1              1383070              1238365               883326   \n",
       "2              1383070              1238365               883326   \n",
       "3              1383070              1238365                36798   \n",
       "4              1383070              1238365               883326   \n",
       "\n",
       "   ps_car_10_cat_count  ps_car_11_cat_count  new_ind_count  new_reg_count  \\\n",
       "0              1475460                18326              6             24   \n",
       "1              1475460                12535             36             38   \n",
       "2              1475460                19943             24          13477   \n",
       "3              1475460               212989           2784            222   \n",
       "4              1475460                26161            258             34   \n",
       "\n",
       "   new_car_count  \n",
       "0              1  \n",
       "1             11  \n",
       "2             40  \n",
       "3              1  \n",
       "4             13  "
      ]
     },
     "execution_count": 10,
     "metadata": {},
     "output_type": "execute_result"
    }
   ],
   "source": [
    "train[cat_count_features].head(5)"
   ]
  },
  {
   "cell_type": "markdown",
   "metadata": {},
   "source": [
    "#### Các đặc trưng thống kê\n",
    "\n",
    "* Chọn 2 đặc trưng (`target_feature` và `group_feature`), gom nhóm `target_feature` theo `group_feature`.\n",
    "* Thực hiện các thống kê (count, min, max, median, mean, std) trên từng group.\n",
    "* Số lượng đặc trưng:\n",
    "    * 5 target_features, 6 group_features: 36 cách chọn\n",
    "    * 6 thống kê count, min, max, median, mean, std\n",
    "    * tổng số đặc trưng: `36 * 6 = 216`\n",
    "* Thống kê được thực hiện trên tập dữ diệu gộp của `train` và `test` -> tổng quát hơn"
   ]
  },
  {
   "cell_type": "code",
   "execution_count": 3,
   "metadata": {},
   "outputs": [],
   "source": [
    "#feature aggregation\n",
    "target_features = ['ps_car_13', 'ps_ind_03', 'ps_reg_03', 'ps_ind_15', 'ps_reg_01', 'ps_ind_01']\n",
    "group_features = ['ps_car_13', 'ps_ind_03', 'ps_reg_03', 'ps_ind_15', 'ps_reg_01', 'ps_ind_01', 'ps_ind_05_cat']\n",
    "\n",
    "#return numpy because we need to do np.hstack to merge all statistic feature together, so that it would return np array\n",
    "train_statis, test_statis =  Statistic_features(train, test, target_features, group_features)"
   ]
  },
  {
   "cell_type": "code",
   "execution_count": 7,
   "metadata": {},
   "outputs": [
    {
     "data": {
      "text/plain": [
       "array([[1.57043000e+05, 8.32786207e-01, 2.41530046e-01, ...,\n",
       "        1.00000000e+00, 7.00000000e+00, 0.00000000e+00],\n",
       "       [1.30452000e+05, 8.26528390e-01, 2.35133348e-01, ...,\n",
       "        1.00000000e+00, 7.00000000e+00, 0.00000000e+00],\n",
       "       [6.35510000e+04, 8.13168936e-01, 2.35946815e-01, ...,\n",
       "        1.00000000e+00, 7.00000000e+00, 0.00000000e+00],\n",
       "       ...,\n",
       "       [3.58630000e+04, 8.00633360e-01, 2.34463222e-01, ...,\n",
       "        1.00000000e+00, 7.00000000e+00, 0.00000000e+00],\n",
       "       [2.04836000e+05, 8.24270444e-01, 2.28649975e-01, ...,\n",
       "        1.00000000e+00, 7.00000000e+00, 0.00000000e+00],\n",
       "       [9.85280000e+04, 8.24453229e-01, 2.37806003e-01, ...,\n",
       "        1.00000000e+00, 7.00000000e+00, 0.00000000e+00]])"
      ]
     },
     "execution_count": 7,
     "metadata": {},
     "output_type": "execute_result"
    }
   ],
   "source": [
    "train_statis"
   ]
  },
  {
   "cell_type": "code",
   "execution_count": 5,
   "metadata": {},
   "outputs": [
    {
     "data": {
      "text/plain": [
       "(595212, 216)"
      ]
     },
     "execution_count": 5,
     "metadata": {},
     "output_type": "execute_result"
    }
   ],
   "source": [
    "train_statis.shape"
   ]
  },
  {
   "cell_type": "markdown",
   "metadata": {},
   "source": [
    "#### Thêm đặc trưng XGBoost"
   ]
  },
  {
   "cell_type": "markdown",
   "metadata": {},
   "source": [
    "### Kế hoạch tiếp theo\n",
    "\n",
    "* Tìm hiểu + train các đặc trưng XGBoost\n",
    "* Code lại phần feature engineering dưới dạng pipeline transformer\n",
    "* Tìm hiểu về mô hình LightGBM\n",
    "* Tìm hiểu về mô hình Neural networks"
   ]
  },
  {
   "cell_type": "markdown",
   "metadata": {},
   "source": [
    "## Nhìn lại quá trình làm đồ án"
   ]
  },
  {
   "cell_type": "markdown",
   "metadata": {},
   "source": [
    "## Tài liệu tham khảo"
   ]
  }
 ],
 "metadata": {
  "interpreter": {
   "hash": "aee8b7b246df8f9039afb4144a1f6fd8d2ca17a180786b69acc140d282b71a49"
  },
  "kernelspec": {
   "display_name": "Python 3.8.8 64-bit",
   "language": "python",
   "name": "python3"
  },
  "language_info": {
   "codemirror_mode": {
    "name": "ipython",
    "version": 3
   },
   "file_extension": ".py",
   "mimetype": "text/x-python",
   "name": "python",
   "nbconvert_exporter": "python",
   "pygments_lexer": "ipython3",
   "version": "3.8.8"
  },
  "orig_nbformat": 4
 },
 "nbformat": 4,
 "nbformat_minor": 2
}

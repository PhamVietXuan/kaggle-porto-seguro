{
  "cells": [
    {
      "cell_type": "markdown",
      "metadata": {
        "id": "DL7qiivH4R6D"
      },
      "source": [
        "# Báo cáo đồ án môn \"Khoa học dữ liệu ứng dụng\"\n",
        "\n",
        "Nhóm 2:\n",
        "1. 18120625 - Nguyễn Trần Trung - [Trung-Rei](https://github.com/Trung-Rei)\n",
        "2. 18120658 - Phạm Viết Xuân - [PhamVietXuan](https://github.com/PhamVietXuan)\n",
        "3. 1712698 - Võ Văn Quân - [quanvovan](https://github.com/quanvovan)\n",
        "4. 1712160 - Hà Thị Ngọc Thắm - [Thamha09081999](https://github.com/Thamha09081999)\n",
        "\n",
        "Link thùng chứa Github của nhóm: [link](https://github.com/Trung-Rei/kaggle-porto-seguro)"
      ]
    },
    {
      "cell_type": "markdown",
      "metadata": {
        "id": "cJDss7ga4R6R"
      },
      "source": [
        "## Mô tả bài toán"
      ]
    },
    {
      "cell_type": "markdown",
      "metadata": {
        "id": "WA1VGFks4R6T"
      },
      "source": [
        "Bảo hiểm là một thứ bắt buộc khi mua một chiếc xe ô tô. Thông thường, mức chi phí đóng bảo hiểm sẽ bằng nhau. Nhưng có những người chạy xe cẩn thận, cũng có người chạy xe hay va chạm khiến cho chi phí đóng bảo hiểm cho người người như vậy không công bằng. Như vậy, cần có một mức giá khác nhau cho những người lái xe khác nhau để công bằng với khách hàng cũng như công ty bảo hiểm.\n",
        "\n",
        "Porto Seguro - Một công ty bảo hiểm lớn ở Brazil yêu cầu một mô hình học máy tốt để dự đoán **xác suất yêu cầu bồi thường** của chủ xe nhằm đưa ra mức giá bảo hiểm hợp lý hơn.\n",
        "\n",
        "Input/Output:\n",
        "* Input: Dữ liệu lịch sử được công ty thu thập từ chủ ô tô (chủ hợp đồng bảo hiểm) từ các năm trước.\n",
        "* Output: Xác suất chủ xe đó yêu cầu bồi thường bảo hiểm. Giá trị từ 0 - 1; càng về 0 có nghĩa khả năng cao chủ ô tô đó sẽ không yêu cầu bồi thường cho năm sau; càng về 1 nghĩa là chủ xe khả năng cao năm sau đòi bồi thường bảo hiểm.\n",
        "\n",
        "Link bài toán: [Porto Seguro’s Safe Driver Prediction](https://www.kaggle.com/c/porto-seguro-safe-driver-prediction/overview)"
      ]
    },
    {
      "cell_type": "markdown",
      "metadata": {
        "id": "Rbnc84LB4R6U"
      },
      "source": [
        "### Độ đo đánh giá"
      ]
    },
    {
      "cell_type": "markdown",
      "metadata": {
        "id": "IlBVxoaY4R6U"
      },
      "source": [
        "* Metric: Normalized Gini Coefficient\n",
        "* Cách tính: `2 * AUC – 1`\n",
        "* Giá trị trong khoảng **(0, 1)**: càng về 1 mô hình càng tốt\n",
        "* Phù hợp với bài toán phân lớp nhị phân và dữ liệu mất cân bằng nghiêm trọng (Giống **AUC**).\n",
        "\n",
        "Giải thích cụ thể về **Normalized Gini Coefficient**: [link](https://luckytoilet.wordpress.com/2018/04/04/useful-properties-of-roc-curves-auc-scoring-and-gini-coefficients/?fbclid=IwAR1Md3U9Wk6E43cxV56NWxWroIGcRgGQJ7cnTZWJd9orSvbSYkiBcMhqxEs)"
      ]
    },
    {
      "cell_type": "markdown",
      "metadata": {
        "id": "RbK9BEht4R6V"
      },
      "source": [
        "## Giải quyết bài toán"
      ]
    },
    {
      "cell_type": "markdown",
      "metadata": {
        "id": "M82JBHAV4R6W"
      },
      "source": [
        "Tổng quan solution: Ensemble 2 mô hình LightGBM và Neural Networks. Mỗi mô hình có Feature engineering riêng. Kết quả cuối cùng lấy trung bình có trọng số của 2 mô hình.\n",
        "\n",
        "Lý do chọn:\n",
        "* Học được nhiều kỹ thuật FE thông dụng trên dữ liệu dạng bảng (feature crossing, feature interacting, feature selection,...).\n",
        "* Học được cách làm việc trên data có đặc trưng ẩn danh (phổ biến trên thực tế).\n",
        "* Sử dụng các mô hình LightGBM, XGBoost (là các mô hình được sử dụng rất nhiều trong các cuộc thi trên Kaggle).\n",
        "\n",
        "Tuần này: Tiếp tục tìm hiểu kỹ hơn các kỹ thuật FE được sử dụng + đặc trưng XGBoost."
      ]
    },
    {
      "cell_type": "markdown",
      "metadata": {
        "id": "CPVsG0474R6Y"
      },
      "source": [
        "### Import thư viện"
      ]
    },
    {
      "cell_type": "code",
      "execution_count": null,
      "metadata": {
        "id": "BdJJj6y34R6b"
      },
      "outputs": [],
      "source": [
        "import lightgbm as lgbm\n",
        "from scipy import sparse as ssp\n",
        "from sklearn.model_selection import StratifiedKFold\n",
        "import numpy as np\n",
        "import pandas as pd\n",
        "from sklearn.preprocessing import LabelEncoder,OneHotEncoder, StandardScaler\n",
        "\n",
        "import matplotlib.pyplot as plt\n",
        "from feature_generater import Multiply_Divide, Series_string, Features_Counts, Statistic_features\n",
        "from scipy import sparse\n",
        "plt.rcParams[\"figure.figsize\"] = (7,7)\n",
        "plt.rcParams[\"font.size\"] = 14\n",
        "\n",
        "import warnings\n",
        "warnings.filterwarnings(\"ignore\")\n",
        "\n",
        "#for NN model\n",
        "from keras.layers import Dense, Dropout, Embedding, Flatten, Input, Concatenate, merge, Concatenate, concatenate\n",
        "from keras.layers import BatchNormalization\n",
        "from keras.layers.advanced_activations import PReLU\n",
        "from keras.models import Model\n",
        "from time import time\n",
        "import datetime\n",
        "from sklearn.model_selection import StratifiedKFold\n"
      ]
    },
    {
      "cell_type": "code",
      "execution_count": null,
      "metadata": {
        "colab": {
          "base_uri": "https://localhost:8080/"
        },
        "id": "vBiBdwG1xEhI",
        "outputId": "6383bf44-b8a7-4c0b-8b8a-cb724f76a50c"
      },
      "outputs": [
        {
          "name": "stdout",
          "output_type": "stream",
          "text": [
            "Drive already mounted at /content/drive; to attempt to forcibly remount, call drive.mount(\"/content/drive\", force_remount=True).\n"
          ]
        }
      ],
      "source": [
        "from google.colab import drive\n",
        "drive.mount('/content/drive')"
      ]
    },
    {
      "cell_type": "markdown",
      "metadata": {
        "id": "DQcNJTHt4R6d"
      },
      "source": [
        "### Tổng quan dữ liệu"
      ]
    },
    {
      "cell_type": "markdown",
      "metadata": {
        "id": "agqjrWJo4R6e"
      },
      "source": [
        "Thông tin dữ liệu từ cuộc thi được bảo mật nên tên các đặc trưng được thay thế bằng tên ẩn danh.\n",
        "\n",
        "Các thông tin được cuộc thi cung cấp:\n",
        "* Đặc trưng được chia làm 4 nhóm chính:\n",
        "    * `ind` (individual): các đặc trưng liên quan đến người lái xe.\n",
        "    * `reg` (region): các đặc trưng về khu vực người đó chạy xe.\n",
        "    * `car` (car): các đặc trưng thông số của ô tô.\n",
        "    * `calc` (calculated): các đặc trưng đã được tính toán.\n",
        "* Hậu tố `cat` cho đặc trưng **categorical**, `bin` cho đặc trưng **nhị phân**, không có hậu tố chỉ những đặc trưng **ordinal** hoặc **continuous**.\n",
        "* Giá trị `-1` đại diện cho dữ liệu tại đó bị thiếu.\n",
        "* Cột `target`: gồm giá trị 1 và 0 thể hiện chủ xe đó có đưa ra yêu cầu bồi thường hay không."
      ]
    },
    {
      "cell_type": "code",
      "execution_count": null,
      "metadata": {
        "id": "KMTjb1bS4R6f"
      },
      "outputs": [],
      "source": [
        "path = \"./drive/MyDrive/2021 - 2022/KHDLUD/Final project/input\"\n",
        "\n",
        "train = pd.read_csv(path+'train.csv')\n",
        "train_label = train['target']\n",
        "train_id = train['id']\n",
        "test = pd.read_csv(path+'test.csv')\n",
        "test_id = test['id']"
      ]
    },
    {
      "cell_type": "code",
      "execution_count": null,
      "metadata": {
        "colab": {
          "base_uri": "https://localhost:8080/",
          "height": 268
        },
        "id": "uxiNQUUM4R6f",
        "outputId": "623dc659-2b3b-49f5-9bbe-38564693eab8"
      },
      "outputs": [
        {
          "data": {
            "text/html": [
              "\n",
              "  <div id=\"df-3bdf8a3c-dee7-4981-8985-970da0251daa\">\n",
              "    <div class=\"colab-df-container\">\n",
              "      <div>\n",
              "<style scoped>\n",
              "    .dataframe tbody tr th:only-of-type {\n",
              "        vertical-align: middle;\n",
              "    }\n",
              "\n",
              "    .dataframe tbody tr th {\n",
              "        vertical-align: top;\n",
              "    }\n",
              "\n",
              "    .dataframe thead th {\n",
              "        text-align: right;\n",
              "    }\n",
              "</style>\n",
              "<table border=\"1\" class=\"dataframe\">\n",
              "  <thead>\n",
              "    <tr style=\"text-align: right;\">\n",
              "      <th></th>\n",
              "      <th>id</th>\n",
              "      <th>target</th>\n",
              "      <th>ps_ind_01</th>\n",
              "      <th>ps_ind_02_cat</th>\n",
              "      <th>ps_ind_03</th>\n",
              "      <th>ps_ind_04_cat</th>\n",
              "      <th>ps_ind_05_cat</th>\n",
              "      <th>ps_ind_06_bin</th>\n",
              "      <th>ps_ind_07_bin</th>\n",
              "      <th>ps_ind_08_bin</th>\n",
              "      <th>ps_ind_09_bin</th>\n",
              "      <th>ps_ind_10_bin</th>\n",
              "      <th>ps_ind_11_bin</th>\n",
              "      <th>ps_ind_12_bin</th>\n",
              "      <th>ps_ind_13_bin</th>\n",
              "      <th>ps_ind_14</th>\n",
              "      <th>ps_ind_15</th>\n",
              "      <th>ps_ind_16_bin</th>\n",
              "      <th>ps_ind_17_bin</th>\n",
              "      <th>ps_ind_18_bin</th>\n",
              "      <th>ps_reg_01</th>\n",
              "      <th>ps_reg_02</th>\n",
              "      <th>ps_reg_03</th>\n",
              "      <th>ps_car_01_cat</th>\n",
              "      <th>ps_car_02_cat</th>\n",
              "      <th>ps_car_03_cat</th>\n",
              "      <th>ps_car_04_cat</th>\n",
              "      <th>ps_car_05_cat</th>\n",
              "      <th>ps_car_06_cat</th>\n",
              "      <th>ps_car_07_cat</th>\n",
              "      <th>ps_car_08_cat</th>\n",
              "      <th>ps_car_09_cat</th>\n",
              "      <th>ps_car_10_cat</th>\n",
              "      <th>ps_car_11_cat</th>\n",
              "      <th>ps_car_11</th>\n",
              "      <th>ps_car_12</th>\n",
              "      <th>ps_car_13</th>\n",
              "      <th>ps_car_14</th>\n",
              "      <th>ps_car_15</th>\n",
              "      <th>ps_calc_01</th>\n",
              "      <th>ps_calc_02</th>\n",
              "      <th>ps_calc_03</th>\n",
              "      <th>ps_calc_04</th>\n",
              "      <th>ps_calc_05</th>\n",
              "      <th>ps_calc_06</th>\n",
              "      <th>ps_calc_07</th>\n",
              "      <th>ps_calc_08</th>\n",
              "      <th>ps_calc_09</th>\n",
              "      <th>ps_calc_10</th>\n",
              "      <th>ps_calc_11</th>\n",
              "      <th>ps_calc_12</th>\n",
              "      <th>ps_calc_13</th>\n",
              "      <th>ps_calc_14</th>\n",
              "      <th>ps_calc_15_bin</th>\n",
              "      <th>ps_calc_16_bin</th>\n",
              "      <th>ps_calc_17_bin</th>\n",
              "      <th>ps_calc_18_bin</th>\n",
              "      <th>ps_calc_19_bin</th>\n",
              "      <th>ps_calc_20_bin</th>\n",
              "    </tr>\n",
              "  </thead>\n",
              "  <tbody>\n",
              "    <tr>\n",
              "      <th>179332</th>\n",
              "      <td>1102254</td>\n",
              "      <td>0</td>\n",
              "      <td>0</td>\n",
              "      <td>2</td>\n",
              "      <td>1</td>\n",
              "      <td>1</td>\n",
              "      <td>0</td>\n",
              "      <td>1</td>\n",
              "      <td>0</td>\n",
              "      <td>0</td>\n",
              "      <td>0</td>\n",
              "      <td>0</td>\n",
              "      <td>0</td>\n",
              "      <td>0</td>\n",
              "      <td>0</td>\n",
              "      <td>0</td>\n",
              "      <td>11</td>\n",
              "      <td>1</td>\n",
              "      <td>0</td>\n",
              "      <td>0</td>\n",
              "      <td>0.1</td>\n",
              "      <td>0.2</td>\n",
              "      <td>-1.000000</td>\n",
              "      <td>5</td>\n",
              "      <td>1</td>\n",
              "      <td>0</td>\n",
              "      <td>0</td>\n",
              "      <td>1</td>\n",
              "      <td>11</td>\n",
              "      <td>1</td>\n",
              "      <td>1</td>\n",
              "      <td>2</td>\n",
              "      <td>1</td>\n",
              "      <td>19</td>\n",
              "      <td>3</td>\n",
              "      <td>0.316228</td>\n",
              "      <td>0.626053</td>\n",
              "      <td>0.318591</td>\n",
              "      <td>2.828427</td>\n",
              "      <td>0.8</td>\n",
              "      <td>0.2</td>\n",
              "      <td>0.8</td>\n",
              "      <td>3</td>\n",
              "      <td>2</td>\n",
              "      <td>9</td>\n",
              "      <td>4</td>\n",
              "      <td>10</td>\n",
              "      <td>2</td>\n",
              "      <td>7</td>\n",
              "      <td>8</td>\n",
              "      <td>2</td>\n",
              "      <td>5</td>\n",
              "      <td>12</td>\n",
              "      <td>0</td>\n",
              "      <td>1</td>\n",
              "      <td>0</td>\n",
              "      <td>0</td>\n",
              "      <td>1</td>\n",
              "      <td>0</td>\n",
              "    </tr>\n",
              "    <tr>\n",
              "      <th>74762</th>\n",
              "      <td>840860</td>\n",
              "      <td>1</td>\n",
              "      <td>5</td>\n",
              "      <td>1</td>\n",
              "      <td>4</td>\n",
              "      <td>1</td>\n",
              "      <td>0</td>\n",
              "      <td>0</td>\n",
              "      <td>0</td>\n",
              "      <td>1</td>\n",
              "      <td>0</td>\n",
              "      <td>0</td>\n",
              "      <td>0</td>\n",
              "      <td>0</td>\n",
              "      <td>0</td>\n",
              "      <td>0</td>\n",
              "      <td>7</td>\n",
              "      <td>1</td>\n",
              "      <td>0</td>\n",
              "      <td>0</td>\n",
              "      <td>0.9</td>\n",
              "      <td>0.2</td>\n",
              "      <td>0.509902</td>\n",
              "      <td>11</td>\n",
              "      <td>0</td>\n",
              "      <td>-1</td>\n",
              "      <td>0</td>\n",
              "      <td>-1</td>\n",
              "      <td>10</td>\n",
              "      <td>1</td>\n",
              "      <td>1</td>\n",
              "      <td>2</td>\n",
              "      <td>1</td>\n",
              "      <td>89</td>\n",
              "      <td>2</td>\n",
              "      <td>0.387298</td>\n",
              "      <td>1.024614</td>\n",
              "      <td>0.408656</td>\n",
              "      <td>3.605551</td>\n",
              "      <td>0.3</td>\n",
              "      <td>0.9</td>\n",
              "      <td>0.6</td>\n",
              "      <td>1</td>\n",
              "      <td>2</td>\n",
              "      <td>8</td>\n",
              "      <td>4</td>\n",
              "      <td>9</td>\n",
              "      <td>0</td>\n",
              "      <td>7</td>\n",
              "      <td>4</td>\n",
              "      <td>1</td>\n",
              "      <td>1</td>\n",
              "      <td>9</td>\n",
              "      <td>0</td>\n",
              "      <td>0</td>\n",
              "      <td>1</td>\n",
              "      <td>0</td>\n",
              "      <td>0</td>\n",
              "      <td>0</td>\n",
              "    </tr>\n",
              "    <tr>\n",
              "      <th>125989</th>\n",
              "      <td>968878</td>\n",
              "      <td>0</td>\n",
              "      <td>2</td>\n",
              "      <td>2</td>\n",
              "      <td>5</td>\n",
              "      <td>1</td>\n",
              "      <td>0</td>\n",
              "      <td>0</td>\n",
              "      <td>1</td>\n",
              "      <td>0</td>\n",
              "      <td>0</td>\n",
              "      <td>0</td>\n",
              "      <td>0</td>\n",
              "      <td>0</td>\n",
              "      <td>0</td>\n",
              "      <td>0</td>\n",
              "      <td>5</td>\n",
              "      <td>1</td>\n",
              "      <td>0</td>\n",
              "      <td>0</td>\n",
              "      <td>0.9</td>\n",
              "      <td>0.2</td>\n",
              "      <td>0.682825</td>\n",
              "      <td>10</td>\n",
              "      <td>1</td>\n",
              "      <td>-1</td>\n",
              "      <td>0</td>\n",
              "      <td>1</td>\n",
              "      <td>1</td>\n",
              "      <td>1</td>\n",
              "      <td>1</td>\n",
              "      <td>0</td>\n",
              "      <td>1</td>\n",
              "      <td>74</td>\n",
              "      <td>3</td>\n",
              "      <td>0.374166</td>\n",
              "      <td>0.642358</td>\n",
              "      <td>0.386135</td>\n",
              "      <td>2.449490</td>\n",
              "      <td>0.1</td>\n",
              "      <td>0.0</td>\n",
              "      <td>0.4</td>\n",
              "      <td>2</td>\n",
              "      <td>3</td>\n",
              "      <td>6</td>\n",
              "      <td>3</td>\n",
              "      <td>9</td>\n",
              "      <td>1</td>\n",
              "      <td>11</td>\n",
              "      <td>7</td>\n",
              "      <td>1</td>\n",
              "      <td>2</td>\n",
              "      <td>8</td>\n",
              "      <td>0</td>\n",
              "      <td>1</td>\n",
              "      <td>0</td>\n",
              "      <td>1</td>\n",
              "      <td>1</td>\n",
              "      <td>0</td>\n",
              "    </tr>\n",
              "    <tr>\n",
              "      <th>1840</th>\n",
              "      <td>658753</td>\n",
              "      <td>0</td>\n",
              "      <td>5</td>\n",
              "      <td>1</td>\n",
              "      <td>6</td>\n",
              "      <td>1</td>\n",
              "      <td>0</td>\n",
              "      <td>0</td>\n",
              "      <td>1</td>\n",
              "      <td>0</td>\n",
              "      <td>0</td>\n",
              "      <td>0</td>\n",
              "      <td>0</td>\n",
              "      <td>0</td>\n",
              "      <td>0</td>\n",
              "      <td>0</td>\n",
              "      <td>6</td>\n",
              "      <td>1</td>\n",
              "      <td>0</td>\n",
              "      <td>0</td>\n",
              "      <td>0.9</td>\n",
              "      <td>0.6</td>\n",
              "      <td>0.918899</td>\n",
              "      <td>11</td>\n",
              "      <td>1</td>\n",
              "      <td>-1</td>\n",
              "      <td>1</td>\n",
              "      <td>-1</td>\n",
              "      <td>16</td>\n",
              "      <td>1</td>\n",
              "      <td>1</td>\n",
              "      <td>2</td>\n",
              "      <td>1</td>\n",
              "      <td>104</td>\n",
              "      <td>3</td>\n",
              "      <td>0.316228</td>\n",
              "      <td>0.899977</td>\n",
              "      <td>0.367423</td>\n",
              "      <td>3.464102</td>\n",
              "      <td>0.0</td>\n",
              "      <td>0.3</td>\n",
              "      <td>0.0</td>\n",
              "      <td>1</td>\n",
              "      <td>0</td>\n",
              "      <td>8</td>\n",
              "      <td>3</td>\n",
              "      <td>9</td>\n",
              "      <td>2</td>\n",
              "      <td>8</td>\n",
              "      <td>2</td>\n",
              "      <td>3</td>\n",
              "      <td>3</td>\n",
              "      <td>8</td>\n",
              "      <td>0</td>\n",
              "      <td>1</td>\n",
              "      <td>1</td>\n",
              "      <td>0</td>\n",
              "      <td>0</td>\n",
              "      <td>0</td>\n",
              "    </tr>\n",
              "    <tr>\n",
              "      <th>241326</th>\n",
              "      <td>1257126</td>\n",
              "      <td>0</td>\n",
              "      <td>7</td>\n",
              "      <td>1</td>\n",
              "      <td>3</td>\n",
              "      <td>1</td>\n",
              "      <td>0</td>\n",
              "      <td>0</td>\n",
              "      <td>1</td>\n",
              "      <td>0</td>\n",
              "      <td>0</td>\n",
              "      <td>0</td>\n",
              "      <td>0</td>\n",
              "      <td>0</td>\n",
              "      <td>0</td>\n",
              "      <td>0</td>\n",
              "      <td>8</td>\n",
              "      <td>1</td>\n",
              "      <td>0</td>\n",
              "      <td>0</td>\n",
              "      <td>0.9</td>\n",
              "      <td>1.2</td>\n",
              "      <td>1.694292</td>\n",
              "      <td>0</td>\n",
              "      <td>0</td>\n",
              "      <td>-1</td>\n",
              "      <td>9</td>\n",
              "      <td>1</td>\n",
              "      <td>9</td>\n",
              "      <td>0</td>\n",
              "      <td>1</td>\n",
              "      <td>0</td>\n",
              "      <td>1</td>\n",
              "      <td>104</td>\n",
              "      <td>3</td>\n",
              "      <td>0.515364</td>\n",
              "      <td>1.185484</td>\n",
              "      <td>0.506754</td>\n",
              "      <td>3.162278</td>\n",
              "      <td>0.4</td>\n",
              "      <td>0.6</td>\n",
              "      <td>0.6</td>\n",
              "      <td>3</td>\n",
              "      <td>1</td>\n",
              "      <td>9</td>\n",
              "      <td>4</td>\n",
              "      <td>11</td>\n",
              "      <td>4</td>\n",
              "      <td>8</td>\n",
              "      <td>4</td>\n",
              "      <td>1</td>\n",
              "      <td>2</td>\n",
              "      <td>6</td>\n",
              "      <td>0</td>\n",
              "      <td>0</td>\n",
              "      <td>0</td>\n",
              "      <td>0</td>\n",
              "      <td>0</td>\n",
              "      <td>0</td>\n",
              "    </tr>\n",
              "  </tbody>\n",
              "</table>\n",
              "</div>\n",
              "      <button class=\"colab-df-convert\" onclick=\"convertToInteractive('df-3bdf8a3c-dee7-4981-8985-970da0251daa')\"\n",
              "              title=\"Convert this dataframe to an interactive table.\"\n",
              "              style=\"display:none;\">\n",
              "        \n",
              "  <svg xmlns=\"http://www.w3.org/2000/svg\" height=\"24px\"viewBox=\"0 0 24 24\"\n",
              "       width=\"24px\">\n",
              "    <path d=\"M0 0h24v24H0V0z\" fill=\"none\"/>\n",
              "    <path d=\"M18.56 5.44l.94 2.06.94-2.06 2.06-.94-2.06-.94-.94-2.06-.94 2.06-2.06.94zm-11 1L8.5 8.5l.94-2.06 2.06-.94-2.06-.94L8.5 2.5l-.94 2.06-2.06.94zm10 10l.94 2.06.94-2.06 2.06-.94-2.06-.94-.94-2.06-.94 2.06-2.06.94z\"/><path d=\"M17.41 7.96l-1.37-1.37c-.4-.4-.92-.59-1.43-.59-.52 0-1.04.2-1.43.59L10.3 9.45l-7.72 7.72c-.78.78-.78 2.05 0 2.83L4 21.41c.39.39.9.59 1.41.59.51 0 1.02-.2 1.41-.59l7.78-7.78 2.81-2.81c.8-.78.8-2.07 0-2.86zM5.41 20L4 18.59l7.72-7.72 1.47 1.35L5.41 20z\"/>\n",
              "  </svg>\n",
              "      </button>\n",
              "      \n",
              "  <style>\n",
              "    .colab-df-container {\n",
              "      display:flex;\n",
              "      flex-wrap:wrap;\n",
              "      gap: 12px;\n",
              "    }\n",
              "\n",
              "    .colab-df-convert {\n",
              "      background-color: #E8F0FE;\n",
              "      border: none;\n",
              "      border-radius: 50%;\n",
              "      cursor: pointer;\n",
              "      display: none;\n",
              "      fill: #1967D2;\n",
              "      height: 32px;\n",
              "      padding: 0 0 0 0;\n",
              "      width: 32px;\n",
              "    }\n",
              "\n",
              "    .colab-df-convert:hover {\n",
              "      background-color: #E2EBFA;\n",
              "      box-shadow: 0px 1px 2px rgba(60, 64, 67, 0.3), 0px 1px 3px 1px rgba(60, 64, 67, 0.15);\n",
              "      fill: #174EA6;\n",
              "    }\n",
              "\n",
              "    [theme=dark] .colab-df-convert {\n",
              "      background-color: #3B4455;\n",
              "      fill: #D2E3FC;\n",
              "    }\n",
              "\n",
              "    [theme=dark] .colab-df-convert:hover {\n",
              "      background-color: #434B5C;\n",
              "      box-shadow: 0px 1px 3px 1px rgba(0, 0, 0, 0.15);\n",
              "      filter: drop-shadow(0px 1px 2px rgba(0, 0, 0, 0.3));\n",
              "      fill: #FFFFFF;\n",
              "    }\n",
              "  </style>\n",
              "\n",
              "      <script>\n",
              "        const buttonEl =\n",
              "          document.querySelector('#df-3bdf8a3c-dee7-4981-8985-970da0251daa button.colab-df-convert');\n",
              "        buttonEl.style.display =\n",
              "          google.colab.kernel.accessAllowed ? 'block' : 'none';\n",
              "\n",
              "        async function convertToInteractive(key) {\n",
              "          const element = document.querySelector('#df-3bdf8a3c-dee7-4981-8985-970da0251daa');\n",
              "          const dataTable =\n",
              "            await google.colab.kernel.invokeFunction('convertToInteractive',\n",
              "                                                     [key], {});\n",
              "          if (!dataTable) return;\n",
              "\n",
              "          const docLinkHtml = 'Like what you see? Visit the ' +\n",
              "            '<a target=\"_blank\" href=https://colab.research.google.com/notebooks/data_table.ipynb>data table notebook</a>'\n",
              "            + ' to learn more about interactive tables.';\n",
              "          element.innerHTML = '';\n",
              "          dataTable['output_type'] = 'display_data';\n",
              "          await google.colab.output.renderOutput(dataTable, element);\n",
              "          const docLink = document.createElement('div');\n",
              "          docLink.innerHTML = docLinkHtml;\n",
              "          element.appendChild(docLink);\n",
              "        }\n",
              "      </script>\n",
              "    </div>\n",
              "  </div>\n",
              "  "
            ],
            "text/plain": [
              "             id  target  ...  ps_calc_19_bin  ps_calc_20_bin\n",
              "179332  1102254       0  ...               1               0\n",
              "74762    840860       1  ...               0               0\n",
              "125989   968878       0  ...               1               0\n",
              "1840     658753       0  ...               0               0\n",
              "241326  1257126       0  ...               0               0\n",
              "\n",
              "[5 rows x 59 columns]"
            ]
          },
          "metadata": {},
          "output_type": "display_data"
        }
      ],
      "source": [
        "train.sample(5)"
      ]
    },
    {
      "cell_type": "code",
      "execution_count": null,
      "metadata": {
        "colab": {
          "base_uri": "https://localhost:8080/"
        },
        "id": "jrFqpcS04R6g",
        "outputId": "7ce76602-5f10-4947-b71f-b849c5fcc0ab"
      },
      "outputs": [
        {
          "data": {
            "text/plain": [
              "(333446, 59)"
            ]
          },
          "metadata": {},
          "output_type": "display_data"
        }
      ],
      "source": [
        "train.shape"
      ]
    },
    {
      "cell_type": "code",
      "execution_count": null,
      "metadata": {
        "colab": {
          "base_uri": "https://localhost:8080/"
        },
        "id": "oOXvs_t_4R6h",
        "outputId": "ce0c2f4a-b8ea-4924-b7c8-580fbc102f89"
      },
      "outputs": [
        {
          "data": {
            "text/plain": [
              "(442831, 58)"
            ]
          },
          "metadata": {},
          "output_type": "display_data"
        }
      ],
      "source": [
        "test.shape"
      ]
    },
    {
      "cell_type": "code",
      "execution_count": null,
      "metadata": {
        "colab": {
          "base_uri": "https://localhost:8080/"
        },
        "id": "jyHp02z04R6h",
        "outputId": "c527c8db-be2a-4f43-9c8d-4167b5d5b9cb"
      },
      "outputs": [
        {
          "data": {
            "text/plain": [
              "(333446, 59)"
            ]
          },
          "metadata": {},
          "output_type": "display_data"
        }
      ],
      "source": [
        "train.drop_duplicates()\n",
        "train.shape"
      ]
    },
    {
      "cell_type": "code",
      "execution_count": null,
      "metadata": {
        "colab": {
          "base_uri": "https://localhost:8080/"
        },
        "id": "i51Xebiu4R6i",
        "outputId": "23af8767-6fcd-410f-ea0a-75fdd56ff87a"
      },
      "outputs": [
        {
          "name": "stdout",
          "output_type": "stream",
          "text": [
            "<class 'pandas.core.frame.DataFrame'>\n",
            "RangeIndex: 333446 entries, 0 to 333445\n",
            "Data columns (total 59 columns):\n",
            " #   Column          Non-Null Count   Dtype  \n",
            "---  ------          --------------   -----  \n",
            " 0   id              333446 non-null  int64  \n",
            " 1   target          333446 non-null  int64  \n",
            " 2   ps_ind_01       333446 non-null  int64  \n",
            " 3   ps_ind_02_cat   333446 non-null  int64  \n",
            " 4   ps_ind_03       333446 non-null  int64  \n",
            " 5   ps_ind_04_cat   333446 non-null  int64  \n",
            " 6   ps_ind_05_cat   333446 non-null  int64  \n",
            " 7   ps_ind_06_bin   333446 non-null  int64  \n",
            " 8   ps_ind_07_bin   333446 non-null  int64  \n",
            " 9   ps_ind_08_bin   333446 non-null  int64  \n",
            " 10  ps_ind_09_bin   333446 non-null  int64  \n",
            " 11  ps_ind_10_bin   333446 non-null  int64  \n",
            " 12  ps_ind_11_bin   333446 non-null  int64  \n",
            " 13  ps_ind_12_bin   333446 non-null  int64  \n",
            " 14  ps_ind_13_bin   333446 non-null  int64  \n",
            " 15  ps_ind_14       333446 non-null  int64  \n",
            " 16  ps_ind_15       333446 non-null  int64  \n",
            " 17  ps_ind_16_bin   333446 non-null  int64  \n",
            " 18  ps_ind_17_bin   333446 non-null  int64  \n",
            " 19  ps_ind_18_bin   333446 non-null  int64  \n",
            " 20  ps_reg_01       333446 non-null  float64\n",
            " 21  ps_reg_02       333446 non-null  float64\n",
            " 22  ps_reg_03       333446 non-null  float64\n",
            " 23  ps_car_01_cat   333446 non-null  int64  \n",
            " 24  ps_car_02_cat   333446 non-null  int64  \n",
            " 25  ps_car_03_cat   333446 non-null  int64  \n",
            " 26  ps_car_04_cat   333446 non-null  int64  \n",
            " 27  ps_car_05_cat   333446 non-null  int64  \n",
            " 28  ps_car_06_cat   333446 non-null  int64  \n",
            " 29  ps_car_07_cat   333446 non-null  int64  \n",
            " 30  ps_car_08_cat   333446 non-null  int64  \n",
            " 31  ps_car_09_cat   333446 non-null  int64  \n",
            " 32  ps_car_10_cat   333446 non-null  int64  \n",
            " 33  ps_car_11_cat   333446 non-null  int64  \n",
            " 34  ps_car_11       333446 non-null  int64  \n",
            " 35  ps_car_12       333446 non-null  float64\n",
            " 36  ps_car_13       333446 non-null  float64\n",
            " 37  ps_car_14       333446 non-null  float64\n",
            " 38  ps_car_15       333446 non-null  float64\n",
            " 39  ps_calc_01      333446 non-null  float64\n",
            " 40  ps_calc_02      333446 non-null  float64\n",
            " 41  ps_calc_03      333446 non-null  float64\n",
            " 42  ps_calc_04      333446 non-null  int64  \n",
            " 43  ps_calc_05      333446 non-null  int64  \n",
            " 44  ps_calc_06      333446 non-null  int64  \n",
            " 45  ps_calc_07      333446 non-null  int64  \n",
            " 46  ps_calc_08      333446 non-null  int64  \n",
            " 47  ps_calc_09      333446 non-null  int64  \n",
            " 48  ps_calc_10      333446 non-null  int64  \n",
            " 49  ps_calc_11      333446 non-null  int64  \n",
            " 50  ps_calc_12      333446 non-null  int64  \n",
            " 51  ps_calc_13      333446 non-null  int64  \n",
            " 52  ps_calc_14      333446 non-null  int64  \n",
            " 53  ps_calc_15_bin  333446 non-null  int64  \n",
            " 54  ps_calc_16_bin  333446 non-null  int64  \n",
            " 55  ps_calc_17_bin  333446 non-null  int64  \n",
            " 56  ps_calc_18_bin  333446 non-null  int64  \n",
            " 57  ps_calc_19_bin  333446 non-null  int64  \n",
            " 58  ps_calc_20_bin  333446 non-null  int64  \n",
            "dtypes: float64(10), int64(49)\n",
            "memory usage: 150.1 MB\n"
          ]
        }
      ],
      "source": [
        "train.info()"
      ]
    },
    {
      "cell_type": "code",
      "execution_count": null,
      "metadata": {
        "colab": {
          "base_uri": "https://localhost:8080/",
          "height": 479
        },
        "id": "i6BXD1wI4R6i",
        "outputId": "ef5239e6-3f3f-482c-f6e6-9dc6d57e1a65"
      },
      "outputs": [
        {
          "name": "stdout",
          "output_type": "stream",
          "text": [
            "0    0.96349\n",
            "1    0.03651\n",
            "Name: target, dtype: float64\n"
          ]
        },
        {
          "data": {
            "image/png": "[encoded data removed]",
            "text/plain": [
              "<Figure size 504x504 with 1 Axes>"
            ]
          },
          "metadata": {},
          "output_type": "display_data"
        }
      ],
      "source": [
        "cls_ratio = train_label.value_counts()/train_label.count()\n",
        "print(cls_ratio)\n",
        "cls_ratio.plot.bar()\n",
        "plt.show()"
      ]
    },
    {
      "cell_type": "markdown",
      "metadata": {
        "id": "-qHJpuN44R6j"
      },
      "source": [
        "* Tập **train** có 59 cột, tập **test** có 58 cột (không có cột `target`)\n",
        "* Tập **train** không có dòng trùng nhau.\n",
        "* Toàn bộ dữ liệu đều ở dạng số.\n",
        "* Dữ liệu mất cân bằng nghiêm trọng với `96.3%` lớp 0 và `3.6%` lớp 1."
      ]
    },
    {
      "cell_type": "markdown",
      "metadata": {
        "id": "GPAMibg24R6k"
      },
      "source": [
        "### Feature engineer + Khám phá dữ liệu (LightGBM)"
      ]
    },
    {
      "cell_type": "markdown",
      "metadata": {
        "id": "4w8pjsTH4R6l"
      },
      "source": [
        "Bao gồm:\n",
        "* Loại bỏ tất cả đặc trưng `calc`\n",
        "* Thêm đặc trưng: Số lượng giá trị thiếu mỗi dòng\n",
        "* Mã hóa one hot với các đặc trưng `cat`\n",
        "* Gộp các đặc trưng `ind` làm một: `new_ind` (feature crossing)\n",
        "* Đếm các đặc trưng `cat` kể cả `new_ind` (count/frequency encoding)"
      ]
    },
    {
      "cell_type": "markdown",
      "metadata": {
        "id": "dCw9AAhp4R6m"
      },
      "source": [
        "#### Loại bỏ các đặc trưng `calc`"
      ]
    },
    {
      "cell_type": "markdown",
      "metadata": {
        "id": "_Q5jaDr74R6m"
      },
      "source": [
        "Các đặc trưng `calc` được loại bỏ vì tác giả thấy chúng không đóng góp gì cho model qua các thử nghiệm."
      ]
    },
    {
      "cell_type": "code",
      "execution_count": null,
      "metadata": {
        "id": "Q2iGrVXq4R6n"
      },
      "outputs": [],
      "source": [
        "y = train['target'].values\n",
        "drop_feature = [\n",
        "    'id',\n",
        "    'target'\n",
        "]\n",
        "\n",
        "X = train.drop(drop_feature,axis=1)\n",
        "feature_names = X.columns.tolist()\n",
        "cat_features = [c for c in feature_names if ('cat' in c and 'count' not in c)]\n",
        "num_features = [c for c in feature_names if ('cat' not in c and 'calc' not in c)]"
      ]
    },
    {
      "cell_type": "code",
      "execution_count": null,
      "metadata": {
        "id": "LC4pYWh74R6n",
        "outputId": "a774ee3b-7e36-4604-8b91-232573b2daae"
      },
      "outputs": [
        {
          "data": {
            "text/plain": [
              "['ps_ind_02_cat',\n",
              " 'ps_ind_04_cat',\n",
              " 'ps_ind_05_cat',\n",
              " 'ps_car_01_cat',\n",
              " 'ps_car_02_cat',\n",
              " 'ps_car_03_cat',\n",
              " 'ps_car_04_cat',\n",
              " 'ps_car_05_cat',\n",
              " 'ps_car_06_cat',\n",
              " 'ps_car_07_cat',\n",
              " 'ps_car_08_cat',\n",
              " 'ps_car_09_cat',\n",
              " 'ps_car_10_cat',\n",
              " 'ps_car_11_cat']"
            ]
          },
          "metadata": {},
          "output_type": "display_data"
        }
      ],
      "source": [
        "cat_features"
      ]
    },
    {
      "cell_type": "code",
      "execution_count": null,
      "metadata": {
        "id": "YZXPEe144R6p",
        "outputId": "b725e6e6-55df-4e47-faf3-91190dd10caa"
      },
      "outputs": [
        {
          "data": {
            "text/plain": [
              "['ps_ind_01',\n",
              " 'ps_ind_03',\n",
              " 'ps_ind_06_bin',\n",
              " 'ps_ind_07_bin',\n",
              " 'ps_ind_08_bin',\n",
              " 'ps_ind_09_bin',\n",
              " 'ps_ind_10_bin',\n",
              " 'ps_ind_11_bin',\n",
              " 'ps_ind_12_bin',\n",
              " 'ps_ind_13_bin',\n",
              " 'ps_ind_14',\n",
              " 'ps_ind_15',\n",
              " 'ps_ind_16_bin',\n",
              " 'ps_ind_17_bin',\n",
              " 'ps_ind_18_bin',\n",
              " 'ps_reg_01',\n",
              " 'ps_reg_02',\n",
              " 'ps_reg_03',\n",
              " 'ps_car_11',\n",
              " 'ps_car_12',\n",
              " 'ps_car_13',\n",
              " 'ps_car_14',\n",
              " 'ps_car_15']"
            ]
          },
          "metadata": {},
          "output_type": "display_data"
        }
      ],
      "source": [
        "num_features"
      ]
    },
    {
      "cell_type": "markdown",
      "metadata": {
        "id": "gEBeQabx4R6q"
      },
      "source": [
        "#### Đếm số lượng giá trị thiếu mỗi dòng"
      ]
    },
    {
      "cell_type": "markdown",
      "metadata": {
        "id": "h0ZkG6dm4R6q"
      },
      "source": [
        "Thêm cột `missing`: số lượng giá trị thiếu của mỗi dòng dữ liệu."
      ]
    },
    {
      "cell_type": "code",
      "execution_count": null,
      "metadata": {
        "id": "4nQfzkGD4R6r"
      },
      "outputs": [],
      "source": [
        "train['missing'] = (train==-1).sum(axis=1).astype(float)\n",
        "test['missing'] = (test==-1).sum(axis=1).astype(float)\n",
        "num_features.append('missing')"
      ]
    },
    {
      "cell_type": "code",
      "execution_count": null,
      "metadata": {
        "id": "i3db2CZg4R6r",
        "outputId": "54e8ffbc-cefd-4dac-fd03-265ff30c4942"
      },
      "outputs": [
        {
          "data": {
            "text/plain": [
              "2.0    254982\n",
              "1.0    156295\n",
              "0.0    124931\n",
              "3.0     56042\n",
              "4.0      2883\n",
              "7.0        53\n",
              "6.0        19\n",
              "8.0         7\n",
              "Name: missing, dtype: int64"
            ]
          },
          "metadata": {},
          "output_type": "display_data"
        }
      ],
      "source": [
        "train[\"missing\"].value_counts()"
      ]
    },
    {
      "cell_type": "markdown",
      "metadata": {
        "id": "RdQN_Vd04R6s"
      },
      "source": [
        "Theo một notebook **EDA** được public trong cuộc thi ([link](https://www.kaggle.com/bertcarremans/data-preparation-exploration#Exploratory-Data-Visualization)): trong các đặc trưng có giá trị thiếu, tỷ lệ lớp dương của giá trị thiếu có xu hướng cao hơn hoặc thấp hơn rất nhiều so với tỷ lệ lớp dương toàn dữ liệu. Có vẻ như những chủ xe có giá trị thiếu có khả năng cao hơn sẽ đưa ra yêu cầu bồi thường (hoặc thấp hơn trong vài trường hợp).\n",
        "\n",
        "=> Số lượng giá trị thiếu có thể là một đặc trưng tốt."
      ]
    },
    {
      "cell_type": "code",
      "execution_count": null,
      "metadata": {
        "id": "DK-f7EBz4R6s",
        "outputId": "fe2df678-f406-42e0-86c7-11daf8977499"
      },
      "outputs": [
        {
          "data": {
            "image/png": "[encoded data removed]",
            "text/plain": [
              "<Figure size 1512x2016 with 12 Axes>"
            ]
          },
          "metadata": {},
          "output_type": "display_data"
        }
      ],
      "source": [
        "positive_ratio = train[\"target\"].mean()\n",
        "\n",
        "fig, axes = plt.subplots(4, 3, figsize=(21,28))\n",
        "fig.suptitle(\"TỶ LỆ LỚP DƯƠNG TRONG MỖI THỂ LOẠI CỦA ĐẶC TRƯNG\", y=1, fontsize=20)\n",
        "axes = axes.flatten()\n",
        "for f, ax in zip(cat_features[:-2], axes):\n",
        "    # Calculate the percentage of target=1 per category value\n",
        "    cat_perc = train[[f, 'target']].groupby([f],as_index=False).mean()\n",
        "    cat_perc.sort_values(by='target', ascending=False, inplace=True)\n",
        "    # Bar plot\n",
        "    # Order the bars descending on target mean\n",
        "    ax.bar(cat_perc[f].apply(str), cat_perc[\"target\"])\n",
        "    ax.set(xlabel=f, ylabel='% target')\n",
        "    ax.axhline(y=positive_ratio, color=\"r\")\n",
        "plt.tight_layout()\n",
        "plt.show();"
      ]
    },
    {
      "cell_type": "markdown",
      "metadata": {
        "id": "ypOjXngA4R6t"
      },
      "source": [
        "#### Chuyển các đặc trưng categorical sang dạng `one hot`"
      ]
    },
    {
      "cell_type": "markdown",
      "metadata": {
        "id": "7y7U4OT74R6t"
      },
      "source": [
        "Các trị null `-1` không được **impute** (điền giá trị mean hoặc mode) mà được xem như là một **giá trị thể loại** và được encode.\n",
        "\n",
        "Suy đoán: Việc xem `null` như giá trị có thể là một ý hay."
      ]
    },
    {
      "cell_type": "code",
      "execution_count": null,
      "metadata": {
        "id": "GNrhaN_e4R6t"
      },
      "outputs": [],
      "source": [
        "for c in cat_features:\n",
        "    le = LabelEncoder()\n",
        "    le.fit(train[c])\n",
        "    train[c] = le.transform(train[c])\n",
        "    test[c] = le.transform(test[c])\n",
        "\n",
        "enc = OneHotEncoder()\n",
        "enc.fit(train[cat_features])\n",
        "X_cat = enc.transform(train[cat_features])\n",
        "X_t_cat = enc.transform(test[cat_features])"
      ]
    },
    {
      "cell_type": "markdown",
      "metadata": {
        "id": "k0wrPjGA4R6u"
      },
      "source": [
        "#### Gộp các đặc trưng `ind` làm một (feature crossing)"
      ]
    },
    {
      "cell_type": "markdown",
      "metadata": {
        "id": "sABYrmoI4R6v"
      },
      "source": [
        "Trên thực tế, các đặc trưng thường có mối quan hệ với nhau. Đôi khi những quan hệ này có ích nhưng một số mô hình học máy lại không nắm bắt được. Vì vậy việc thêm các mối quan hệ này như một đặc trưng mới có thể giúp mô hình tăng khả năng dự đoán. Thông thường các mối quan hệ được suy ra từ kiến thức miền (domain knowledge), hoặc được tìm ra bằng các kỹ thuật FE.\n",
        "\n",
        "Đọc thêm: [link](https://machinelearningcoban.com/tabml_book/ch_data_processing/crossing.html)\n",
        "\n",
        "Ở đây, ta gộp các đặc trưng `ind` thành một đặc trưng mới `new_ind`. Như vậy, các dòng có bộ giá trị đặc trưng từ `ind_01` đến `ind_18` giống nhau sẽ có giá trị `new_ind` cũng giống nhau. Đặc trưng mới này thể hiện được sự xảy ra đồng thời của các giá trị của các đặc trưng riêng lẻ."
      ]
    },
    {
      "cell_type": "code",
      "execution_count": null,
      "metadata": {
        "id": "0GT_P6Pa4R6v"
      },
      "outputs": [],
      "source": [
        "ind_features = [c for c in feature_names if 'ind' in c]\n",
        "count=0\n",
        "for c in ind_features:\n",
        "    if count==0:\n",
        "        train['new_ind'] = train[c].astype(str)+'_'\n",
        "        test['new_ind'] = test[c].astype(str)+'_'\n",
        "        count+=1\n",
        "    else:\n",
        "        train['new_ind'] += train[c].astype(str)+'_'\n",
        "        test['new_ind'] += test[c].astype(str)+'_'"
      ]
    },
    {
      "cell_type": "code",
      "execution_count": null,
      "metadata": {
        "id": "JAmJemYY4R6v",
        "outputId": "4398ab97-59c8-4bd5-933f-c3a928438c93"
      },
      "outputs": [
        {
          "data": {
            "text/plain": [
              "0          2_2_5_2_1_0_1_0_0_0_0_0_0_0_11_0_1_0_\n",
              "1           1_1_7_1_1_0_0_1_0_0_0_0_0_0_3_0_0_1_\n",
              "2          5_4_9_2_1_0_0_1_0_0_0_0_0_0_12_1_0_0_\n",
              "3           0_1_2_1_1_1_0_0_0_0_0_0_0_0_8_1_0_0_\n",
              "4           0_2_0_2_1_1_0_0_0_0_0_0_0_0_9_1_0_0_\n",
              "                           ...                  \n",
              "595207    3_1_10_1_1_0_0_0_1_0_0_0_0_0_13_1_0_0_\n",
              "595208      5_1_3_1_1_0_0_0_1_0_0_0_0_0_6_1_0_0_\n",
              "595209    1_1_10_1_1_1_0_0_0_0_0_0_0_0_12_1_0_0_\n",
              "595210     5_2_3_2_1_0_0_1_0_0_0_0_0_0_12_1_0_0_\n",
              "595211      0_1_8_1_1_1_0_0_0_0_0_0_0_0_7_1_0_0_\n",
              "Name: new_ind, Length: 595212, dtype: object"
            ]
          },
          "metadata": {},
          "output_type": "display_data"
        }
      ],
      "source": [
        "train[\"new_ind\"]"
      ]
    },
    {
      "cell_type": "code",
      "execution_count": null,
      "metadata": {
        "id": "KGlc1Mh34R6w",
        "outputId": "9061c453-6ceb-4a10-f0d1-bdac87230c46"
      },
      "outputs": [
        {
          "data": {
            "text/plain": [
              "93282"
            ]
          },
          "metadata": {},
          "output_type": "display_data"
        }
      ],
      "source": [
        "train[\"new_ind\"].unique().shape[0]"
      ]
    },
    {
      "cell_type": "markdown",
      "metadata": {
        "id": "HXneWogK4R6w"
      },
      "source": [
        "#### Đếm các đặc trưng `cat` kể cả `new_ind` (count/frequency encoding)"
      ]
    },
    {
      "cell_type": "markdown",
      "metadata": {
        "id": "PxiVPv6-4R6w"
      },
      "source": [
        "count/frequency encoding:\n",
        "* Mã hóa một giá trị bằng số lần xuất hiện giá trị đó trong cột đặc trưng.\n",
        "* Được sử dụng nhiều trong các cuộc thi Kaggle. Nhiều khi làm tăng khả năng dự đoán của mô hình.\n",
        "* Bao gồm cả thông tin về tần suất xuất hiện của giá trị. Đôi khi thông tin này có ích cho việc dự đoán.\n",
        "* Không như one hot, count encoding chỉ mã hóa đặc trưng bằng 1 cột -> lựa chọn tốt đối với các đặc trưng có số lượng giá trị lớn (the curse of dimensionality).\n",
        "\n",
        "Đọc thêm: [link](https://towardsdatascience.com/all-about-categorical-variable-encoding-305f3361fd02)\n",
        "\n",
        "Thực hiện **count encoding** trên các đặc trưng `cat` bên cạnh **one hot encoding** (hậu tố `_count`).\n",
        "\n",
        "Đặc trưng `new_ind` có số lượng giá trị phân biệt lớn nên cũng sẽ sử dụng mã hóa count.\n",
        "\n",
        "Số lượng được count trên bộ dữ liệu gộp giữa **train** và **test** -> Để có số liệu thống kê tổng quát hơn.\n"
      ]
    },
    {
      "cell_type": "code",
      "execution_count": null,
      "metadata": {
        "id": "JiIri0BW4R6x"
      },
      "outputs": [],
      "source": [
        "cat_count_features = []\n",
        "for c in cat_features+['new_ind']:\n",
        "    d = pd.concat([train[c],test[c]]).value_counts().to_dict()\n",
        "    train['%s_count'%c] = train[c].apply(lambda x:d.get(x,0))\n",
        "    test['%s_count'%c] = test[c].apply(lambda x:d.get(x,0))\n",
        "    cat_count_features.append('%s_count'%c)"
      ]
    },
    {
      "cell_type": "code",
      "execution_count": null,
      "metadata": {
        "id": "gwSWm4xZ4R6x",
        "outputId": "fd9ee294-a21e-4784-ce8a-0b2a27ca7a3a"
      },
      "outputs": [
        {
          "data": {
            "text/plain": [
              "['ps_ind_02_cat_count',\n",
              " 'ps_ind_04_cat_count',\n",
              " 'ps_ind_05_cat_count',\n",
              " 'ps_car_01_cat_count',\n",
              " 'ps_car_02_cat_count',\n",
              " 'ps_car_03_cat_count',\n",
              " 'ps_car_04_cat_count',\n",
              " 'ps_car_05_cat_count',\n",
              " 'ps_car_06_cat_count',\n",
              " 'ps_car_07_cat_count',\n",
              " 'ps_car_08_cat_count',\n",
              " 'ps_car_09_cat_count',\n",
              " 'ps_car_10_cat_count',\n",
              " 'ps_car_11_cat_count',\n",
              " 'new_ind_count']"
            ]
          },
          "metadata": {},
          "output_type": "display_data"
        }
      ],
      "source": [
        "cat_count_features"
      ]
    },
    {
      "cell_type": "markdown",
      "metadata": {
        "id": "n7FX0Xvt4R6x"
      },
      "source": []
    },
    {
      "cell_type": "code",
      "execution_count": null,
      "metadata": {
        "id": "moezcqKE4R6x"
      },
      "outputs": [],
      "source": [
        "train_list = [train[num_features+cat_count_features].values,X_cat,]\n",
        "test_list = [test[num_features+cat_count_features].values,X_t_cat,]\n",
        "\n",
        "X = ssp.hstack(train_list).tocsr()\n",
        "X_test = ssp.hstack(test_list).tocsr()"
      ]
    },
    {
      "cell_type": "markdown",
      "metadata": {
        "id": "c5d40LGq4R60"
      },
      "source": [
        "### Train LightGBM"
      ]
    },
    {
      "cell_type": "markdown",
      "metadata": {
        "id": "95yTku884R60"
      },
      "source": [
        "#### Giới thiệu LightGBM"
      ]
    },
    {
      "cell_type": "markdown",
      "metadata": {
        "id": "mvYe1n_C4R61"
      },
      "source": [
        "Gradient boosting:\n",
        "* **Ensemble** của một chuỗi các mô hình. Mô hình sau sẽ học cách cải thiện lỗi của các mô hình trước.\n",
        "* **Gradient boosting**: sử dụng **gradient descent** để boost.\n",
        "\n",
        "<img src=\"https://github.com/Trung-Rei/kaggle-porto-seguro/blob/main/1.png?raw=1\" alt=\"1\" width=\"1000\"/>\n",
        "\n",
        "Nguồn: [Link](https://youtu.be/iMal3Trpg2Y)"
      ]
    },
    {
      "cell_type": "markdown",
      "metadata": {
        "id": "CR5E4O2I4R61"
      },
      "source": [
        "\n",
        "\n",
        "LightGBM (Lightweight Gradient Boosting Model):\n",
        "* Một framework được phát triển bởi Microsoft.\n",
        "* Một trong những thuật toán ensemble được ưa chuộng nhất.\n",
        "* Base model dựa trên **Decision tree**, sử dụng **Gradient boosting**.\n",
        "\n",
        "Điểm mạnh của LightGBM so với các model khác:\n",
        "* Công việc tốn thời gian nhất các mô hình GBM là việc tìm kiếm **split points** (điểm phân chia quyết định). Sử dụng **histogram-based algorithms** (thực hiện rời rạc hóa đặc trưng liên tục thành các bin) giúp tăng tốc việc tìm kiếm và giảm bộ nhớ sử dụng.\n",
        "* Đặc biệt, LightGBM sử dụng 2 thuật toán **GOSS** (Gradient Based One Side Sampling) và **EFB** (Exclusive Feature Bundling) giúp tăng tốc đáng kể quá trình này. ([link](https://programmersought.com/article/98713401245/))\n",
        "* Phát triển cây dựa trên **leaf-wise** trong khi các mô hình khác sử dụng **level-wise** (**level-wise** phát triển leaf đồng thời trên cùng một độ sâu, dẫn tới nhiều node leaf có **split gain** thấp vẫn phải tách không cần thiết. **leaf-wise** chọn ra node leaf có **độ lỗi** lớn nhất để phát triển -> độ lỗi giảm mạnh hơn, tuy nhiên cây dễ phát triển quá sâu gây **overfit**, có thể giới hạn bằng `max_depth`).\n",
        "\n",
        "<img src=\"https://github.com/Trung-Rei/kaggle-porto-seguro/blob/main/2.jpeg?raw=1\" alt=\"2\" width=\"1000\"/>"
      ]
    },
    {
      "cell_type": "markdown",
      "metadata": {
        "id": "inEUYT334R61"
      },
      "source": [
        "#### Evaluation metric"
      ]
    },
    {
      "cell_type": "code",
      "execution_count": null,
      "metadata": {
        "id": "kTN1BPnD4R61"
      },
      "outputs": [],
      "source": [
        "def Gini(y_true, y_pred):\n",
        "    # check and get number of samples\n",
        "    assert y_true.shape == y_pred.shape\n",
        "    n_samples = y_true.shape[0]\n",
        "\n",
        "    # sort rows on prediction column\n",
        "    # (from largest to smallest)\n",
        "    arr = np.array([y_true, y_pred]).transpose()\n",
        "    true_order = arr[arr[:, 0].argsort()][::-1, 0]\n",
        "    pred_order = arr[arr[:, 1].argsort()][::-1, 0]\n",
        "\n",
        "    # get Lorenz curves\n",
        "    L_true = np.cumsum(true_order) * 1. / np.sum(true_order)\n",
        "    L_pred = np.cumsum(pred_order) * 1. / np.sum(pred_order)\n",
        "    L_ones = np.linspace(1 / n_samples, 1, n_samples)\n",
        "\n",
        "    # get Gini coefficients (area between curves)\n",
        "    G_true = np.sum(L_ones - L_true)\n",
        "    G_pred = np.sum(L_ones - L_pred)\n",
        "\n",
        "    # normalize to true Gini coefficient\n",
        "    return G_pred * 1. / G_true\n",
        "\n",
        "cv_only = True\n",
        "save_cv = True\n",
        "full_train = False\n",
        "\n",
        "def evalerror(preds, dtrain):\n",
        "    labels = dtrain.get_label()\n",
        "    return 'gini', Gini(labels, preds), True"
      ]
    },
    {
      "cell_type": "markdown",
      "metadata": {
        "id": "6JomnSUq4R62"
      },
      "source": [
        "#### Hyperparameter tuning"
      ]
    },
    {
      "cell_type": "markdown",
      "metadata": {
        "id": "pYbUqNoJ4R62"
      },
      "source": [
        "Huấn luyện sử dụng **k-fold cross validation** (5-fold):\n",
        "* Xáo trộn và chia tập train thành 5 phần bằng nhau.\n",
        "* Với mỗi phần ta lấy 4 phần còn lại làm tập train để dự đoán. Đồng thời dự đoán cho cả tập test.\n",
        "* Ghép các dự đoán của các phần **validate** lại để có được kết quả đánh giá CV.\n",
        "* Đối với tập test, ta lấy trung bình của 5 lần dự đoán làm kết quả cuối cùng.\n",
        "\n",
        "<img src=\"https://github.com/Trung-Rei/kaggle-porto-seguro/blob/main/3.jpeg?raw=1\" alt=\"3\" width=\"1000\"/>"
      ]
    },
    {
      "cell_type": "code",
      "execution_count": null,
      "metadata": {
        "id": "Bt8mGpRP4R62"
      },
      "outputs": [],
      "source": [
        "ORIGINAL_PARAMS = {'num_leaves': 15,\n",
        "                   'feature_fraction': 0.6,\n",
        "                   'min_child_samples': 10,\n",
        "                   'min_child_weight': 150}"
      ]
    },
    {
      "cell_type": "markdown",
      "metadata": {
        "id": "g6KQhs-q4R62"
      },
      "source": [
        "Optuna:\n",
        "* là 1 framework điều chỉnh siêu tham số tự động được sử dụng phổ biến trên Kaggle.\n",
        "* Sử dụng tối ưu Bayesian (**Bayesian optimization**). Ý tưởng là dựa vào kết quả từ các lần đánh giá trước để đưa ra bộ tham số tiếp theo phù hợp. Nhờ vậy có thể nhanh chóng tìm ra bộ tham số tối ưu.\n",
        "* Sử dụng Optuna: [link](https://towardsdatascience.com/why-is-everyone-at-kaggle-obsessed-with-optuna-for-hyperparameter-tuning-7608fdca337c)\n"
      ]
    },
    {
      "cell_type": "markdown",
      "metadata": {
        "id": "NygW9wTA4R63"
      },
      "source": [
        "Vấn đề:\n",
        "* Tập train lớn, việc tune tham số rất mất thời gian.\n",
        "* Dùng một phần nhỏ data thì nhanh hơn, nhưng kết quả có thể sẽ không đúng với tập gốc.\n",
        "\n",
        "Ý tưởng của nhóm:\n",
        "* Chia tập train làm 2 phần: 30% dùng để thực hiện cross validate, 70% còn lại để đánh giá.\n",
        "* Mỗi lần train của CV sẽ dự đoán trên phần test. Kết quả cuối cùng là trung bình cộng của 5 lần. Đánh giá trên kết quả này để chọn siêu tham số.\n",
        "* Việc tuning sẽ nhanh hơn, đánh giá cũng tổng quát hơn.\n",
        "\n",
        "<img src=\"https://github.com/Trung-Rei/kaggle-porto-seguro/blob/main/4.png?raw=1\" alt=\"4\" width=\"1000\"/>"
      ]
    },
    {
      "cell_type": "markdown",
      "metadata": {
        "id": "fbm9LbMY4R63"
      },
      "source": [
        "Trong solution của tác giả:\n",
        "* Thực hiện huấn luyện cùng một bộ siêu tham số trên 16 random seed khác nhau (0-15) và lấy trung bình -> Tăng tính ổn định của kết quả.\n"
      ]
    },
    {
      "cell_type": "markdown",
      "metadata": {
        "id": "ZH584w7J4R65"
      },
      "source": [
        "Hướng cải tiến của nhóm:\n",
        "* Qua thực nghiệm, ta thấy cùng một bộ siêu tham số có thể cho kết quả cao hơn ở seed này nhưng thấp hơn ở seed khác.\n",
        "* Nếu ta tìm bộ siêu tham số riêng cho từng seed thì sao?\n",
        "* Chọn ngẫu nhiên 5 seed (0, 2, 5, 7, 12). Tìm bộ tham số tối ưu cho mỗi seed. Cuối cùng lấy trung bình toàn bộ."
      ]
    },
    {
      "cell_type": "code",
      "execution_count": null,
      "metadata": {
        "id": "eC7L2mHP4R65"
      },
      "outputs": [],
      "source": [
        "from sklearn.model_selection import train_test_split\n",
        "\n",
        "tune_X, tune_X_test, tune_y, tune_y_test = train_test_split(X, train_label, test_size=0.7, random_state=218, stratify=train_label)"
      ]
    },
    {
      "cell_type": "code",
      "execution_count": null,
      "metadata": {
        "id": "Mdr3kPX54R66"
      },
      "outputs": [],
      "source": [
        "!pip install optuna"
      ]
    },
    {
      "cell_type": "code",
      "execution_count": null,
      "metadata": {
        "id": "U5e4E0_94R67"
      },
      "outputs": [],
      "source": [
        "from optuna.integration import LightGBMPruningCallback\n",
        "import optuna"
      ]
    },
    {
      "cell_type": "code",
      "execution_count": null,
      "metadata": {
        "id": "HYEDkVQ54R67"
      },
      "outputs": [],
      "source": [
        "def objective(trial, X, y, X_test, y_test):\n",
        "    param_grid = {\n",
        "        'objective': 'binary',\n",
        "        'verbosity': 0,\n",
        "        'num_boost_round': 10000,\n",
        "        \"num_leaves\": trial.suggest_int(\"num_leaves\", 5, 55, step=5),\n",
        "        \"min_child_samples\": trial.suggest_int(\"min_child_samples\", 0, 150, step=10),\n",
        "        \"min_child_weight\": trial.suggest_float(\"min_child_weight\", 0.0, 200.0),\n",
        "        \"feature_fraction\": trial.suggest_float(\"feature_fraction\", 0.2, 0.9, step=0.1),\n",
        "        \"seed\": 12,\n",
        "    }\n",
        "\n",
        "    cv = StratifiedKFold(n_splits=5, shuffle=True, random_state=218)\n",
        "\n",
        "    cv_train = np.zeros(len(y))\n",
        "    cv_pred = np.zeros(len(y_test))\n",
        "\n",
        "    kf = cv.split(X, y)\n",
        "\n",
        "    best_trees = []\n",
        "    fold_scores = []\n",
        "\n",
        "    for i, (train_fold, validate) in enumerate(kf):\n",
        "        X_train, X_validate, label_train, label_validate = X[train_fold, :], X[validate, :], y[train_fold], y[validate]\n",
        "        dtrain = lgbm.Dataset(X_train, label_train)\n",
        "        dvalid = lgbm.Dataset(X_validate, label_validate, reference=dtrain)\n",
        "        bst = lgbm.train(param_grid, dtrain, valid_sets=dvalid, feval=evalerror, verbose_eval=100,\n",
        "                         early_stopping_rounds=100,\n",
        "                         callbacks=[LightGBMPruningCallback(trial, \"gini\")])\n",
        "        best_trees.append(bst.best_iteration)\n",
        "        cv_pred += bst.predict(X_test, num_iteration=bst.best_iteration)\n",
        "        cv_train[validate] += bst.predict(X_validate)\n",
        "\n",
        "        score = Gini(label_validate, cv_train[validate])\n",
        "        print(score)\n",
        "        fold_scores.append(score)\n",
        "\n",
        "    cv_pred /= 5\n",
        "\n",
        "    print(\"cv score:\")\n",
        "    cv_score = Gini(y, cv_train)\n",
        "    print(cv_score)\n",
        "    print(fold_scores)\n",
        "    print(\"test_score\")\n",
        "    test_score = Gini(y_test, cv_pred)\n",
        "    print(test_score)\n",
        "    print(best_trees, np.mean(best_trees))\n",
        "\n",
        "    return test_score"
      ]
    },
    {
      "cell_type": "code",
      "execution_count": null,
      "metadata": {
        "id": "j-J6qGaD4R68"
      },
      "outputs": [],
      "source": [
        "study = optuna.create_study(direction=\"maximize\", study_name=\"LGBM Classifier\")\n",
        "func = lambda trial: objective(trial, tune_X, tune_y.values, tune_X_test, tune_y_test)\n",
        "study.optimize(func, n_trials=10)"
      ]
    },
    {
      "cell_type": "code",
      "execution_count": null,
      "metadata": {
        "id": "IjJ6Z5934R68"
      },
      "outputs": [],
      "source": [
        "print(f\"\\tBest value: {study.best_value:.5f}\")\n",
        "print(f\"\\tBest params:\")\n",
        "\n",
        "for key, value in study.best_params.items():\n",
        "    print(f\"\\t\\t{key}: {value}\")"
      ]
    },
    {
      "cell_type": "code",
      "execution_count": null,
      "metadata": {
        "id": "LGK1eXVT4R68"
      },
      "outputs": [],
      "source": [
        "from optuna.visualization.matplotlib import plot_optimization_history\n",
        "\n",
        "plot_optimization_history(study);"
      ]
    },
    {
      "cell_type": "code",
      "execution_count": null,
      "metadata": {
        "id": "3aDwVa4V4R69"
      },
      "outputs": [],
      "source": [
        "from optuna.visualization.matplotlib import plot_param_importances\n",
        "\n",
        "plot_param_importances(study);"
      ]
    },
    {
      "cell_type": "markdown",
      "metadata": {
        "id": "tX8MnVDd4R69"
      },
      "source": [
        "#### Train"
      ]
    },
    {
      "cell_type": "markdown",
      "metadata": {
        "id": "YqMuVimE4R69"
      },
      "source": [
        "**Private score** | **Public score**\n",
        "\n",
        "Score của tác giả (thời gian train trên Colab là hơn 1 tiếng)\n",
        "\n",
        "![5](https://github.com/Trung-Rei/kaggle-porto-seguro/blob/main/5.png?raw=1)\n",
        "\n",
        "Score của nhóm (train 5 seed với thời gian ít hơn 30 phút)\n",
        "\n",
        "![6](https://github.com/Trung-Rei/kaggle-porto-seguro/blob/main/6.png?raw=1)"
      ]
    },
    {
      "cell_type": "code",
      "execution_count": null,
      "metadata": {
        "id": "8pVUkvj04R6-"
      },
      "outputs": [],
      "source": [
        "FIXED_PARAMS = {'objective': 'binary', 'verbosity': 0, 'num_boost_round': 10000}\n",
        "\n",
        "SEARCH_PARAMS =     [{'num_leaves': 15,\n",
        "                    'feature_fraction': 0.5,\n",
        "                    'min_child_samples': 100,\n",
        "                    'min_child_weight': 101.94095152382667,\n",
        "                    'seed': 0},\n",
        "                    {'num_leaves': 15,\n",
        "                    'feature_fraction': 0.5,\n",
        "                    'min_child_samples': 60,\n",
        "                    'min_child_weight': 124.66803210058042,\n",
        "                    'seed': 2},\n",
        "                    {'num_leaves': 15,\n",
        "                    'feature_fraction': 0.5,\n",
        "                    'min_child_samples': 150,\n",
        "                    'min_child_weight': 148.13731979766956,\n",
        "                    'seed': 5},\n",
        "                    {'num_leaves': 15,\n",
        "                    'feature_fraction': 0.5,\n",
        "                    'min_child_samples': 30,\n",
        "                    'min_child_weight': 157.2373873709297,\n",
        "                    'seed': 7},\n",
        "                    {'num_leaves': 15,\n",
        "                    'feature_fraction': 0.5,\n",
        "                    'min_child_samples': 10,\n",
        "                    'min_child_weight': 125.16184758062035,\n",
        "                    'seed': 12}]"
      ]
    },
    {
      "cell_type": "code",
      "execution_count": null,
      "metadata": {
        "id": "S7H2E4i44R6-"
      },
      "outputs": [],
      "source": [
        "NFOLDS = 5\n",
        "kfold = StratifiedKFold(n_splits=NFOLDS, shuffle=True, random_state=218)"
      ]
    },
    {
      "cell_type": "code",
      "execution_count": null,
      "metadata": {
        "id": "UoY7itD34R6-"
      },
      "outputs": [],
      "source": [
        "num_seed = len(SEARCH_PARAMS)\n",
        "x_score = []\n",
        "final_cv_train = np.zeros(len(train_label))\n",
        "final_cv_pred = np.zeros(len(test_id))\n",
        "for s_param in SEARCH_PARAMS:\n",
        "    cv_train = np.zeros(len(train_label))\n",
        "    cv_pred = np.zeros(len(test_id))\n",
        "\n",
        "    params = {**s_param, **FIXED_PARAMS}\n",
        "\n",
        "    if cv_only:\n",
        "        kf = kfold.split(X, train_label)\n",
        "\n",
        "        best_trees = []\n",
        "        fold_scores = []\n",
        "\n",
        "        for i, (train_fold, validate) in enumerate(kf):\n",
        "            X_train, X_validate, label_train, label_validate = \\\n",
        "                X[train_fold, :], X[validate, :], train_label[train_fold], train_label[validate]\n",
        "            dtrain = lgbm.Dataset(X_train, label_train)\n",
        "            dvalid = lgbm.Dataset(X_validate, label_validate, reference=dtrain)\n",
        "            bst = lgbm.train(params, dtrain, valid_sets=dvalid, feval=evalerror, verbose_eval=100,\n",
        "                            early_stopping_rounds=100)\n",
        "            best_trees.append(bst.best_iteration)\n",
        "            cv_pred += bst.predict(X_test, num_iteration=bst.best_iteration)\n",
        "            cv_train[validate] += bst.predict(X_validate)\n",
        "\n",
        "            score = Gini(label_validate, cv_train[validate])\n",
        "            print(score)\n",
        "            fold_scores.append(score)\n",
        "\n",
        "        cv_pred /= NFOLDS\n",
        "        final_cv_train += cv_train\n",
        "        final_cv_pred += cv_pred\n",
        "\n",
        "        print(\"cv score:\")\n",
        "        print(Gini(train_label, cv_train))\n",
        "        #print(\"current score:\", Gini(train_label, final_cv_train / (s + 1.)), s+1)\n",
        "        print(fold_scores)\n",
        "        print(best_trees, np.mean(best_trees))\n",
        "\n",
        "        x_score.append(Gini(train_label, cv_train))\n",
        "\n",
        "print(x_score)\n",
        "pd.DataFrame({'id': test_id, 'target': final_cv_pred / num_seed}).to_csv('./lgbm3_pred_avg.csv', index=False)\n",
        "pd.DataFrame({'id': train_id, 'target': final_cv_train / num_seed}).to_csv('./lgbm3_cv_avg.csv', index=False)"
      ]
    },
    {
      "cell_type": "markdown",
      "metadata": {
        "id": "WVbImBJv4R6_"
      },
      "source": [
        "### Feature engineer + Khám phá dữ liệu (Neural networks)\n",
        "\n",
        "Bao gồm:\n",
        "* Thêm đặc trưng: Số lượng giá trị thiếu mỗi dòng\n",
        "* Thêm đặc trưng: Nhân và chia của 2 đặc trưng (feature interacting using Equations)\n",
        "* Đếm giá trị các đặc trưng `cat`\n",
        "* Thêm các đặc trưng Groupby (feature interacting using Groupby)\n",
        "* Thêm đặc trưng được train bằng **XGBoost**"
      ]
    },
    {
      "cell_type": "code",
      "execution_count": null,
      "metadata": {
        "id": "5w3oM_vADjRq"
      },
      "outputs": [],
      "source": [
        "#load data for train NN model\n",
        "cv_only = True\n",
        "save_cv = True\n",
        "\n",
        "#read data\n",
        "train = pd.read_csv(\"./drive/MyDrive/2021 - 2022/KHDLUD/Final project/input/train.csv\")\n",
        "train_label = train['target']\n",
        "train_id = train['id']\n",
        "del train['target'], train['id']\n",
        "\n",
        "test = pd.read_csv(\"./drive/MyDrive/2021 - 2022/KHDLUD/Final project/input/test.csv\")\n",
        "test_id = test['id']\n",
        "del test['id']\n",
        "\n"
      ]
    },
    {
      "cell_type": "markdown",
      "metadata": {
        "id": "aXxjeuwt4R6_"
      },
      "source": [
        "#### Đếm số lượng giá trị thiếu từng dòng"
      ]
    },
    {
      "cell_type": "code",
      "execution_count": null,
      "metadata": {
        "id": "_tH-q1U04R6_"
      },
      "outputs": [],
      "source": [
        "#find missing value by each row and recode to column 'missing'\n",
        "train['missing'] = (train==-1).sum(axis=1).astype(float)\n",
        "test['missing'] = (test==-1).sum(axis=1).astype(float)\n"
      ]
    },
    {
      "cell_type": "code",
      "execution_count": null,
      "metadata": {
        "id": "uRqwZVbOD_Lt"
      },
      "outputs": [],
      "source": [
        "#get all featrue name\n",
        "feature_names = list(train) \n",
        "\n",
        "# extract feature with cat, bin, num, inter\n",
        "cat_fea = [x for x in list(train) if 'cat' in x]\n",
        "bin_fea = [x for x in list(train) if 'bin' in x]\n",
        "num_features = [c for c in list(train) if ('cat' not in c and 'calc' not in c)]\n",
        "inter_fea = [x for x in list(train) if 'inter' in x]"
      ]
    },
    {
      "cell_type": "markdown",
      "metadata": {
        "id": "bWTKauEx4R7A"
      },
      "source": [
        "#### Nhân và chia đặc trưng (feature interacting using Equations)\n",
        "\n",
        "Nhiều mô hình học máy có cách làm riêng để kết hợp các đặc trưng với nhau (như NN sẽ là tổng có trọng số các đặc trưng). Tuy nhiên, kinh nghiệm cho thấy ta vẫn nên kết hợp các đặc trưng bằng tay thay vì dựa dẫm quá nhiều vào mô hình. Nếu cách kết hợp được chọn lựa tốt thì có thể sẽ giúp ta vươn xa trong các cuộc thi Kaggle.\n",
        "\n",
        "Có rất nhiều cách kết hợp đặc trưng. Ngoài **domain knowledge**, ta có thể thử tất cả các cách kết hợp có thể. Để không tốn nhiều thời gian ta nên lựa chọn theo 3 tiêu chí sau:\n",
        "* **effect sparsity**: càng ít feature được kết hợp với nhau, càng tăng tính hiệu quả của feature mới kết hơp. Thường chỉ cần từ 2 tới 3.\n",
        "* **heredity**: feature mới kết hợp từ các feature riêng lẻ được cho là có tính hiệu quả chỉ khi ít nhất một feature thành phần có tính hiệu quả.\n",
        "* **priority**: hầu hết các trường hợp, sẽ tốt hơn khi kết hợp các feature gốc chưa qua biến đổi (scale, log-transform,...).\n",
        "\n",
        "Đọc thêm: [link](https://www.kaggle.com/milankalkenings/comprehensive-tutorial-feature-engineering) (mục `4. Combine Features`)\n",
        "\n",
        "Ở đây ta sử dụng 2 cách kết hợp đặc trưng là tích và thương của 2 đặc trưng:\n",
        "* Thực hiện trên một số đặc trưng quan trọng được lựa chọn bằng **feature selection**\n",
        "* Số lượng đặc trưng: `6C2 * 2 = 30`\n",
        "* Prefix: `inter_`\n"
      ]
    },
    {
      "cell_type": "code",
      "execution_count": null,
      "metadata": {
        "id": "IygxrKmO4R7A"
      },
      "outputs": [],
      "source": [
        "#Add features of Multiply and Divide\n",
        "features= ['ps_car_13', 'ps_ind_03', 'ps_reg_03', 'ps_ind_15', 'ps_reg_01', 'ps_ind_01']\n",
        "train, test, MD_features = Multiply_Divide(train, test, features)"
      ]
    },
    {
      "cell_type": "code",
      "execution_count": null,
      "metadata": {
        "colab": {
          "base_uri": "https://localhost:8080/",
          "height": 268
        },
        "id": "Z-bAIlh64R7A",
        "outputId": "c1201ae1-c23c-42f4-e460-7c132b64af36"
      },
      "outputs": [
        {
          "data": {
            "text/html": [
              "\n",
              "  <div id=\"df-fa6474fa-011f-4ad5-af2e-af919772c136\">\n",
              "    <div class=\"colab-df-container\">\n",
              "      <div>\n",
              "<style scoped>\n",
              "    .dataframe tbody tr th:only-of-type {\n",
              "        vertical-align: middle;\n",
              "    }\n",
              "\n",
              "    .dataframe tbody tr th {\n",
              "        vertical-align: top;\n",
              "    }\n",
              "\n",
              "    .dataframe thead th {\n",
              "        text-align: right;\n",
              "    }\n",
              "</style>\n",
              "<table border=\"1\" class=\"dataframe\">\n",
              "  <thead>\n",
              "    <tr style=\"text-align: right;\">\n",
              "      <th></th>\n",
              "      <th>inter_0*</th>\n",
              "      <th>inter_0/</th>\n",
              "      <th>inter_1*</th>\n",
              "      <th>inter_1/</th>\n",
              "      <th>inter_2*</th>\n",
              "      <th>inter_2/</th>\n",
              "      <th>inter_3*</th>\n",
              "      <th>inter_3/</th>\n",
              "      <th>inter_4*</th>\n",
              "      <th>inter_4/</th>\n",
              "      <th>inter_5*</th>\n",
              "      <th>inter_5/</th>\n",
              "      <th>inter_6*</th>\n",
              "      <th>inter_6/</th>\n",
              "      <th>inter_7*</th>\n",
              "      <th>inter_7/</th>\n",
              "      <th>inter_8*</th>\n",
              "      <th>inter_8/</th>\n",
              "      <th>inter_9*</th>\n",
              "      <th>inter_9/</th>\n",
              "      <th>inter_10*</th>\n",
              "      <th>inter_10/</th>\n",
              "      <th>inter_11*</th>\n",
              "      <th>inter_11/</th>\n",
              "      <th>inter_12*</th>\n",
              "      <th>inter_12/</th>\n",
              "      <th>inter_13*</th>\n",
              "      <th>inter_13/</th>\n",
              "      <th>inter_14*</th>\n",
              "      <th>inter_14/</th>\n",
              "    </tr>\n",
              "  </thead>\n",
              "  <tbody>\n",
              "    <tr>\n",
              "      <th>0</th>\n",
              "      <td>4.418395</td>\n",
              "      <td>0.176736</td>\n",
              "      <td>0.634544</td>\n",
              "      <td>1.230630</td>\n",
              "      <td>9.720468</td>\n",
              "      <td>0.080334</td>\n",
              "      <td>0.618575</td>\n",
              "      <td>1.262398</td>\n",
              "      <td>1.767358</td>\n",
              "      <td>0.441839</td>\n",
              "      <td>3.590352</td>\n",
              "      <td>6.963106</td>\n",
              "      <td>55</td>\n",
              "      <td>0.454545</td>\n",
              "      <td>3.5</td>\n",
              "      <td>7.142857</td>\n",
              "      <td>10</td>\n",
              "      <td>2.5</td>\n",
              "      <td>7.898774</td>\n",
              "      <td>0.065279</td>\n",
              "      <td>0.502649</td>\n",
              "      <td>1.025815</td>\n",
              "      <td>1.436141</td>\n",
              "      <td>0.359035</td>\n",
              "      <td>7.7</td>\n",
              "      <td>15.714286</td>\n",
              "      <td>22</td>\n",
              "      <td>5.5</td>\n",
              "      <td>1.4</td>\n",
              "      <td>0.35</td>\n",
              "    </tr>\n",
              "    <tr>\n",
              "      <th>1</th>\n",
              "      <td>4.331716</td>\n",
              "      <td>0.088402</td>\n",
              "      <td>0.474062</td>\n",
              "      <td>0.807773</td>\n",
              "      <td>1.856450</td>\n",
              "      <td>0.206272</td>\n",
              "      <td>0.495053</td>\n",
              "      <td>0.773521</td>\n",
              "      <td>0.618817</td>\n",
              "      <td>0.618817</td>\n",
              "      <td>5.362544</td>\n",
              "      <td>9.137455</td>\n",
              "      <td>21</td>\n",
              "      <td>2.333333</td>\n",
              "      <td>5.6</td>\n",
              "      <td>8.750000</td>\n",
              "      <td>7</td>\n",
              "      <td>7.0</td>\n",
              "      <td>2.298233</td>\n",
              "      <td>0.255359</td>\n",
              "      <td>0.612862</td>\n",
              "      <td>0.957597</td>\n",
              "      <td>0.766078</td>\n",
              "      <td>0.766078</td>\n",
              "      <td>2.4</td>\n",
              "      <td>3.750000</td>\n",
              "      <td>3</td>\n",
              "      <td>3.0</td>\n",
              "      <td>0.8</td>\n",
              "      <td>0.80</td>\n",
              "    </tr>\n",
              "    <tr>\n",
              "      <th>2</th>\n",
              "      <td>5.774271</td>\n",
              "      <td>0.071287</td>\n",
              "      <td>-0.641586</td>\n",
              "      <td>-0.641586</td>\n",
              "      <td>7.699029</td>\n",
              "      <td>0.053465</td>\n",
              "      <td>0.000000</td>\n",
              "      <td>inf</td>\n",
              "      <td>3.207929</td>\n",
              "      <td>0.128317</td>\n",
              "      <td>-9.000000</td>\n",
              "      <td>-9.000000</td>\n",
              "      <td>108</td>\n",
              "      <td>0.750000</td>\n",
              "      <td>0.0</td>\n",
              "      <td>inf</td>\n",
              "      <td>45</td>\n",
              "      <td>1.8</td>\n",
              "      <td>-12.000000</td>\n",
              "      <td>-0.083333</td>\n",
              "      <td>-0.000000</td>\n",
              "      <td>-inf</td>\n",
              "      <td>-5.000000</td>\n",
              "      <td>-0.200000</td>\n",
              "      <td>0.0</td>\n",
              "      <td>inf</td>\n",
              "      <td>60</td>\n",
              "      <td>2.4</td>\n",
              "      <td>0.0</td>\n",
              "      <td>0.00</td>\n",
              "    </tr>\n",
              "    <tr>\n",
              "      <th>3</th>\n",
              "      <td>1.085898</td>\n",
              "      <td>0.271474</td>\n",
              "      <td>0.315425</td>\n",
              "      <td>0.934592</td>\n",
              "      <td>4.343590</td>\n",
              "      <td>0.067869</td>\n",
              "      <td>0.488654</td>\n",
              "      <td>0.603276</td>\n",
              "      <td>0.000000</td>\n",
              "      <td>inf</td>\n",
              "      <td>1.161895</td>\n",
              "      <td>3.442652</td>\n",
              "      <td>16</td>\n",
              "      <td>0.250000</td>\n",
              "      <td>1.8</td>\n",
              "      <td>2.222222</td>\n",
              "      <td>0</td>\n",
              "      <td>inf</td>\n",
              "      <td>4.647580</td>\n",
              "      <td>0.072618</td>\n",
              "      <td>0.522853</td>\n",
              "      <td>0.645497</td>\n",
              "      <td>0.000000</td>\n",
              "      <td>inf</td>\n",
              "      <td>7.2</td>\n",
              "      <td>8.888889</td>\n",
              "      <td>0</td>\n",
              "      <td>inf</td>\n",
              "      <td>0.0</td>\n",
              "      <td>inf</td>\n",
              "    </tr>\n",
              "    <tr>\n",
              "      <th>4</th>\n",
              "      <td>0.000000</td>\n",
              "      <td>inf</td>\n",
              "      <td>0.475728</td>\n",
              "      <td>0.673001</td>\n",
              "      <td>5.092484</td>\n",
              "      <td>0.062870</td>\n",
              "      <td>0.396082</td>\n",
              "      <td>0.808331</td>\n",
              "      <td>0.000000</td>\n",
              "      <td>inf</td>\n",
              "      <td>0.000000</td>\n",
              "      <td>0.000000</td>\n",
              "      <td>0</td>\n",
              "      <td>0.000000</td>\n",
              "      <td>0.0</td>\n",
              "      <td>0.000000</td>\n",
              "      <td>0</td>\n",
              "      <td>NaN</td>\n",
              "      <td>7.566827</td>\n",
              "      <td>0.093418</td>\n",
              "      <td>0.588531</td>\n",
              "      <td>1.201084</td>\n",
              "      <td>0.000000</td>\n",
              "      <td>inf</td>\n",
              "      <td>6.3</td>\n",
              "      <td>12.857143</td>\n",
              "      <td>0</td>\n",
              "      <td>inf</td>\n",
              "      <td>0.0</td>\n",
              "      <td>inf</td>\n",
              "    </tr>\n",
              "  </tbody>\n",
              "</table>\n",
              "</div>\n",
              "      <button class=\"colab-df-convert\" onclick=\"convertToInteractive('df-fa6474fa-011f-4ad5-af2e-af919772c136')\"\n",
              "              title=\"Convert this dataframe to an interactive table.\"\n",
              "              style=\"display:none;\">\n",
              "        \n",
              "  <svg xmlns=\"http://www.w3.org/2000/svg\" height=\"24px\"viewBox=\"0 0 24 24\"\n",
              "       width=\"24px\">\n",
              "    <path d=\"M0 0h24v24H0V0z\" fill=\"none\"/>\n",
              "    <path d=\"M18.56 5.44l.94 2.06.94-2.06 2.06-.94-2.06-.94-.94-2.06-.94 2.06-2.06.94zm-11 1L8.5 8.5l.94-2.06 2.06-.94-2.06-.94L8.5 2.5l-.94 2.06-2.06.94zm10 10l.94 2.06.94-2.06 2.06-.94-2.06-.94-.94-2.06-.94 2.06-2.06.94z\"/><path d=\"M17.41 7.96l-1.37-1.37c-.4-.4-.92-.59-1.43-.59-.52 0-1.04.2-1.43.59L10.3 9.45l-7.72 7.72c-.78.78-.78 2.05 0 2.83L4 21.41c.39.39.9.59 1.41.59.51 0 1.02-.2 1.41-.59l7.78-7.78 2.81-2.81c.8-.78.8-2.07 0-2.86zM5.41 20L4 18.59l7.72-7.72 1.47 1.35L5.41 20z\"/>\n",
              "  </svg>\n",
              "      </button>\n",
              "      \n",
              "  <style>\n",
              "    .colab-df-container {\n",
              "      display:flex;\n",
              "      flex-wrap:wrap;\n",
              "      gap: 12px;\n",
              "    }\n",
              "\n",
              "    .colab-df-convert {\n",
              "      background-color: #E8F0FE;\n",
              "      border: none;\n",
              "      border-radius: 50%;\n",
              "      cursor: pointer;\n",
              "      display: none;\n",
              "      fill: #1967D2;\n",
              "      height: 32px;\n",
              "      padding: 0 0 0 0;\n",
              "      width: 32px;\n",
              "    }\n",
              "\n",
              "    .colab-df-convert:hover {\n",
              "      background-color: #E2EBFA;\n",
              "      box-shadow: 0px 1px 2px rgba(60, 64, 67, 0.3), 0px 1px 3px 1px rgba(60, 64, 67, 0.15);\n",
              "      fill: #174EA6;\n",
              "    }\n",
              "\n",
              "    [theme=dark] .colab-df-convert {\n",
              "      background-color: #3B4455;\n",
              "      fill: #D2E3FC;\n",
              "    }\n",
              "\n",
              "    [theme=dark] .colab-df-convert:hover {\n",
              "      background-color: #434B5C;\n",
              "      box-shadow: 0px 1px 3px 1px rgba(0, 0, 0, 0.15);\n",
              "      filter: drop-shadow(0px 1px 2px rgba(0, 0, 0, 0.3));\n",
              "      fill: #FFFFFF;\n",
              "    }\n",
              "  </style>\n",
              "\n",
              "      <script>\n",
              "        const buttonEl =\n",
              "          document.querySelector('#df-fa6474fa-011f-4ad5-af2e-af919772c136 button.colab-df-convert');\n",
              "        buttonEl.style.display =\n",
              "          google.colab.kernel.accessAllowed ? 'block' : 'none';\n",
              "\n",
              "        async function convertToInteractive(key) {\n",
              "          const element = document.querySelector('#df-fa6474fa-011f-4ad5-af2e-af919772c136');\n",
              "          const dataTable =\n",
              "            await google.colab.kernel.invokeFunction('convertToInteractive',\n",
              "                                                     [key], {});\n",
              "          if (!dataTable) return;\n",
              "\n",
              "          const docLinkHtml = 'Like what you see? Visit the ' +\n",
              "            '<a target=\"_blank\" href=https://colab.research.google.com/notebooks/data_table.ipynb>data table notebook</a>'\n",
              "            + ' to learn more about interactive tables.';\n",
              "          element.innerHTML = '';\n",
              "          dataTable['output_type'] = 'display_data';\n",
              "          await google.colab.output.renderOutput(dataTable, element);\n",
              "          const docLink = document.createElement('div');\n",
              "          docLink.innerHTML = docLinkHtml;\n",
              "          element.appendChild(docLink);\n",
              "        }\n",
              "      </script>\n",
              "    </div>\n",
              "  </div>\n",
              "  "
            ],
            "text/plain": [
              "   inter_0*  inter_0/  inter_1*  ...  inter_13/  inter_14*  inter_14/\n",
              "0  4.418395  0.176736  0.634544  ...        5.5        1.4       0.35\n",
              "1  4.331716  0.088402  0.474062  ...        3.0        0.8       0.80\n",
              "2  5.774271  0.071287 -0.641586  ...        2.4        0.0       0.00\n",
              "3  1.085898  0.271474  0.315425  ...        inf        0.0        inf\n",
              "4  0.000000       inf  0.475728  ...        inf        0.0        inf\n",
              "\n",
              "[5 rows x 30 columns]"
            ]
          },
          "metadata": {},
          "output_type": "display_data"
        }
      ],
      "source": [
        "train[MD_features].head(5)"
      ]
    },
    {
      "cell_type": "markdown",
      "metadata": {
        "id": "ZooroqM74R7C"
      },
      "source": [
        "#### Đếm các đặc trưng `cat`\n",
        "\n",
        "* Gộp các đặc trưng của mỗi nhóm `ind`, `reg` và `car` với nhau thành 3 đặc trưng mới: `new_ind`, `new_reg`, `new_car`\n",
        "* Đếm số lượng giá trị của các đặc trưng **categorical** (bao gồm 3 đặc trưng mới)"
      ]
    },
    {
      "cell_type": "code",
      "execution_count": null,
      "metadata": {
        "id": "4AOUfNRp4R7C"
      },
      "outputs": [],
      "source": [
        "'''\n",
        "create 1_0_1_1..... data as new_xxx\n",
        "\n",
        "new_ind: collect all data from all relative \"ind\" columns, then generate series number\n",
        "\n",
        "new_reg, new_car for train and test data \n",
        "For RNN processing, generating a sequence number\n",
        "'''\n",
        "\n",
        "category_list = ['ind', 'reg', 'car']\n",
        "#add 'new_ind','new_reg','new_car' in train and test dataset\n",
        "train, test = Series_string(train,test,category_list )"
      ]
    },
    {
      "cell_type": "code",
      "execution_count": null,
      "metadata": {
        "colab": {
          "base_uri": "https://localhost:8080/",
          "height": 204
        },
        "id": "YMNtCOZH4R7C",
        "outputId": "9ebde26e-0eaa-4e05-afe7-986e397bc1ce"
      },
      "outputs": [
        {
          "data": {
            "text/html": [
              "\n",
              "  <div id=\"df-2731e7ca-c6fb-4c19-b847-b2a97c38edce\">\n",
              "    <div class=\"colab-df-container\">\n",
              "      <div>\n",
              "<style scoped>\n",
              "    .dataframe tbody tr th:only-of-type {\n",
              "        vertical-align: middle;\n",
              "    }\n",
              "\n",
              "    .dataframe tbody tr th {\n",
              "        vertical-align: top;\n",
              "    }\n",
              "\n",
              "    .dataframe thead th {\n",
              "        text-align: right;\n",
              "    }\n",
              "</style>\n",
              "<table border=\"1\" class=\"dataframe\">\n",
              "  <thead>\n",
              "    <tr style=\"text-align: right;\">\n",
              "      <th></th>\n",
              "      <th>new_ind</th>\n",
              "      <th>new_reg</th>\n",
              "      <th>new_car</th>\n",
              "    </tr>\n",
              "  </thead>\n",
              "  <tbody>\n",
              "    <tr>\n",
              "      <th>0</th>\n",
              "      <td>2_2_5_1_0_0_1_0_0_0_0_0_0_0_11_0_1_0</td>\n",
              "      <td>0.7_0.2_0.718070331</td>\n",
              "      <td>10_1_-1_0_1_4_1_0_0_1_12_2_0.4_0.883678918_0.3...</td>\n",
              "    </tr>\n",
              "    <tr>\n",
              "      <th>1</th>\n",
              "      <td>1_1_7_0_0_0_0_1_0_0_0_0_0_0_3_0_0_1</td>\n",
              "      <td>0.8_0.4_0.766077672</td>\n",
              "      <td>11_1_-1_0_-1_11_1_1_2_1_19_3_0.316227766_0.618...</td>\n",
              "    </tr>\n",
              "    <tr>\n",
              "      <th>2</th>\n",
              "      <td>5_4_9_1_0_0_0_1_0_0_0_0_0_0_12_1_0_0</td>\n",
              "      <td>0.0_0.0_-1.0</td>\n",
              "      <td>7_1_-1_0_-1_14_1_1_2_1_60_1_0.316227766_0.6415...</td>\n",
              "    </tr>\n",
              "    <tr>\n",
              "      <th>3</th>\n",
              "      <td>0_1_2_0_0_1_0_0_0_0_0_0_0_0_8_1_0_0</td>\n",
              "      <td>0.9_0.2_0.580947502</td>\n",
              "      <td>7_1_0_0_1_11_1_1_3_1_104_1_0.374165739_0.54294...</td>\n",
              "    </tr>\n",
              "    <tr>\n",
              "      <th>4</th>\n",
              "      <td>0_2_0_1_0_1_0_0_0_0_0_0_0_0_9_1_0_0</td>\n",
              "      <td>0.7_0.6_0.840758586</td>\n",
              "      <td>11_1_-1_0_-1_14_1_1_2_1_82_3_0.316069613_0.565...</td>\n",
              "    </tr>\n",
              "  </tbody>\n",
              "</table>\n",
              "</div>\n",
              "      <button class=\"colab-df-convert\" onclick=\"convertToInteractive('df-2731e7ca-c6fb-4c19-b847-b2a97c38edce')\"\n",
              "              title=\"Convert this dataframe to an interactive table.\"\n",
              "              style=\"display:none;\">\n",
              "        \n",
              "  <svg xmlns=\"http://www.w3.org/2000/svg\" height=\"24px\"viewBox=\"0 0 24 24\"\n",
              "       width=\"24px\">\n",
              "    <path d=\"M0 0h24v24H0V0z\" fill=\"none\"/>\n",
              "    <path d=\"M18.56 5.44l.94 2.06.94-2.06 2.06-.94-2.06-.94-.94-2.06-.94 2.06-2.06.94zm-11 1L8.5 8.5l.94-2.06 2.06-.94-2.06-.94L8.5 2.5l-.94 2.06-2.06.94zm10 10l.94 2.06.94-2.06 2.06-.94-2.06-.94-.94-2.06-.94 2.06-2.06.94z\"/><path d=\"M17.41 7.96l-1.37-1.37c-.4-.4-.92-.59-1.43-.59-.52 0-1.04.2-1.43.59L10.3 9.45l-7.72 7.72c-.78.78-.78 2.05 0 2.83L4 21.41c.39.39.9.59 1.41.59.51 0 1.02-.2 1.41-.59l7.78-7.78 2.81-2.81c.8-.78.8-2.07 0-2.86zM5.41 20L4 18.59l7.72-7.72 1.47 1.35L5.41 20z\"/>\n",
              "  </svg>\n",
              "      </button>\n",
              "      \n",
              "  <style>\n",
              "    .colab-df-container {\n",
              "      display:flex;\n",
              "      flex-wrap:wrap;\n",
              "      gap: 12px;\n",
              "    }\n",
              "\n",
              "    .colab-df-convert {\n",
              "      background-color: #E8F0FE;\n",
              "      border: none;\n",
              "      border-radius: 50%;\n",
              "      cursor: pointer;\n",
              "      display: none;\n",
              "      fill: #1967D2;\n",
              "      height: 32px;\n",
              "      padding: 0 0 0 0;\n",
              "      width: 32px;\n",
              "    }\n",
              "\n",
              "    .colab-df-convert:hover {\n",
              "      background-color: #E2EBFA;\n",
              "      box-shadow: 0px 1px 2px rgba(60, 64, 67, 0.3), 0px 1px 3px 1px rgba(60, 64, 67, 0.15);\n",
              "      fill: #174EA6;\n",
              "    }\n",
              "\n",
              "    [theme=dark] .colab-df-convert {\n",
              "      background-color: #3B4455;\n",
              "      fill: #D2E3FC;\n",
              "    }\n",
              "\n",
              "    [theme=dark] .colab-df-convert:hover {\n",
              "      background-color: #434B5C;\n",
              "      box-shadow: 0px 1px 3px 1px rgba(0, 0, 0, 0.15);\n",
              "      filter: drop-shadow(0px 1px 2px rgba(0, 0, 0, 0.3));\n",
              "      fill: #FFFFFF;\n",
              "    }\n",
              "  </style>\n",
              "\n",
              "      <script>\n",
              "        const buttonEl =\n",
              "          document.querySelector('#df-2731e7ca-c6fb-4c19-b847-b2a97c38edce button.colab-df-convert');\n",
              "        buttonEl.style.display =\n",
              "          google.colab.kernel.accessAllowed ? 'block' : 'none';\n",
              "\n",
              "        async function convertToInteractive(key) {\n",
              "          const element = document.querySelector('#df-2731e7ca-c6fb-4c19-b847-b2a97c38edce');\n",
              "          const dataTable =\n",
              "            await google.colab.kernel.invokeFunction('convertToInteractive',\n",
              "                                                     [key], {});\n",
              "          if (!dataTable) return;\n",
              "\n",
              "          const docLinkHtml = 'Like what you see? Visit the ' +\n",
              "            '<a target=\"_blank\" href=https://colab.research.google.com/notebooks/data_table.ipynb>data table notebook</a>'\n",
              "            + ' to learn more about interactive tables.';\n",
              "          element.innerHTML = '';\n",
              "          dataTable['output_type'] = 'display_data';\n",
              "          await google.colab.output.renderOutput(dataTable, element);\n",
              "          const docLink = document.createElement('div');\n",
              "          docLink.innerHTML = docLinkHtml;\n",
              "          element.appendChild(docLink);\n",
              "        }\n",
              "      </script>\n",
              "    </div>\n",
              "  </div>\n",
              "  "
            ],
            "text/plain": [
              "                                new_ind  ...                                            new_car\n",
              "0  2_2_5_1_0_0_1_0_0_0_0_0_0_0_11_0_1_0  ...  10_1_-1_0_1_4_1_0_0_1_12_2_0.4_0.883678918_0.3...\n",
              "1   1_1_7_0_0_0_0_1_0_0_0_0_0_0_3_0_0_1  ...  11_1_-1_0_-1_11_1_1_2_1_19_3_0.316227766_0.618...\n",
              "2  5_4_9_1_0_0_0_1_0_0_0_0_0_0_12_1_0_0  ...  7_1_-1_0_-1_14_1_1_2_1_60_1_0.316227766_0.6415...\n",
              "3   0_1_2_0_0_1_0_0_0_0_0_0_0_0_8_1_0_0  ...  7_1_0_0_1_11_1_1_3_1_104_1_0.374165739_0.54294...\n",
              "4   0_2_0_1_0_1_0_0_0_0_0_0_0_0_9_1_0_0  ...  11_1_-1_0_-1_14_1_1_2_1_82_3_0.316069613_0.565...\n",
              "\n",
              "[5 rows x 3 columns]"
            ]
          },
          "metadata": {},
          "output_type": "display_data"
        }
      ],
      "source": [
        "train[['new_ind','new_reg','new_car']].head(5)"
      ]
    },
    {
      "cell_type": "code",
      "execution_count": null,
      "metadata": {
        "colab": {
          "base_uri": "https://localhost:8080/"
        },
        "id": "iNR5MQ5d4R7D",
        "outputId": "59dcb8ae-532e-4dcd-c7dd-bdd3d2d1218f"
      },
      "outputs": [
        {
          "data": {
            "text/plain": [
              "69259"
            ]
          },
          "metadata": {},
          "output_type": "display_data"
        }
      ],
      "source": [
        "train.new_ind.unique().shape[0]"
      ]
    },
    {
      "cell_type": "code",
      "execution_count": null,
      "metadata": {
        "colab": {
          "base_uri": "https://localhost:8080/"
        },
        "id": "7P32PURT4R7D",
        "outputId": "cfb851c8-a3af-4c59-aafd-bb240f57ade6"
      },
      "outputs": [
        {
          "data": {
            "text/plain": [
              "37842"
            ]
          },
          "metadata": {},
          "output_type": "display_data"
        }
      ],
      "source": [
        "train.new_reg.unique().shape[0]"
      ]
    },
    {
      "cell_type": "code",
      "execution_count": null,
      "metadata": {
        "colab": {
          "base_uri": "https://localhost:8080/"
        },
        "id": "cGNjFj0Y4R7E",
        "outputId": "564aecee-e17d-475e-fb0c-ca541d50b305"
      },
      "outputs": [
        {
          "data": {
            "text/plain": [
              "241125"
            ]
          },
          "metadata": {},
          "output_type": "display_data"
        }
      ],
      "source": [
        "train.new_car.unique().shape[0]"
      ]
    },
    {
      "cell_type": "code",
      "execution_count": null,
      "metadata": {
        "id": "BLWNukb-4R7E"
      },
      "outputs": [],
      "source": [
        "'''\n",
        "count_features\n",
        "\n",
        "preparing for train[cat_count_features] \n",
        "cat_fea = \n",
        "['ps_ind_02_cat','ps_ind_04_cat','ps_ind_05_cat', 'ps_car_01_cat', 'ps_car_02_cat',\n",
        " 'ps_car_03_cat','ps_car_04_cat','ps_car_05_cat','ps_car_06_cat','ps_car_07_cat',\n",
        " 'ps_car_08_cat','ps_car_09_cat','ps_car_10_cat', 'ps_car_11_cat']\n",
        "\n",
        "Example: \n",
        "ps_ind_02_cat_count\n",
        "dictionay of ps_ind_02_cat \n",
        "([(1, 1079327), (2, 309747), (3, 70172), (4, 28259), (-1, 523)])\n",
        "\n",
        "row        count     origial value\n",
        "595202    1079327       1     \n",
        "595203     309747       2\n",
        "595204     309747       2\n",
        "595205      70172       3\n",
        "595206    1079327       1\n",
        "\n",
        "''' \n",
        "\n",
        "cat_fea = [ name for name in list(train) if 'cat' in name and 'count' not in name]\n",
        "features= cat_fea + ['new_ind','new_reg','new_car']\n",
        "\n",
        "train, test, cat_count_features= Features_Counts(train, test, features)"
      ]
    },
    {
      "cell_type": "code",
      "execution_count": null,
      "metadata": {
        "colab": {
          "base_uri": "https://localhost:8080/",
          "height": 268
        },
        "id": "inwkR6id4R7F",
        "outputId": "ed0f59e3-7bcf-40d5-d093-b1d6982add86"
      },
      "outputs": [
        {
          "data": {
            "text/html": [
              "\n",
              "  <div id=\"df-e1b964cd-884a-469b-8ed9-9795bd926e75\">\n",
              "    <div class=\"colab-df-container\">\n",
              "      <div>\n",
              "<style scoped>\n",
              "    .dataframe tbody tr th:only-of-type {\n",
              "        vertical-align: middle;\n",
              "    }\n",
              "\n",
              "    .dataframe tbody tr th {\n",
              "        vertical-align: top;\n",
              "    }\n",
              "\n",
              "    .dataframe thead th {\n",
              "        text-align: right;\n",
              "    }\n",
              "</style>\n",
              "<table border=\"1\" class=\"dataframe\">\n",
              "  <thead>\n",
              "    <tr style=\"text-align: right;\">\n",
              "      <th></th>\n",
              "      <th>ps_ind_02_cat_count</th>\n",
              "      <th>ps_ind_04_cat_count</th>\n",
              "      <th>ps_ind_05_cat_count</th>\n",
              "      <th>ps_car_01_cat_count</th>\n",
              "      <th>ps_car_02_cat_count</th>\n",
              "      <th>ps_car_03_cat_count</th>\n",
              "      <th>ps_car_04_cat_count</th>\n",
              "      <th>ps_car_05_cat_count</th>\n",
              "      <th>ps_car_06_cat_count</th>\n",
              "      <th>ps_car_07_cat_count</th>\n",
              "      <th>ps_car_08_cat_count</th>\n",
              "      <th>ps_car_09_cat_count</th>\n",
              "      <th>ps_car_10_cat_count</th>\n",
              "      <th>ps_car_11_cat_count</th>\n",
              "      <th>new_ind_count</th>\n",
              "      <th>new_reg_count</th>\n",
              "      <th>new_car_count</th>\n",
              "    </tr>\n",
              "  </thead>\n",
              "  <tbody>\n",
              "    <tr>\n",
              "      <th>0</th>\n",
              "      <td>161661</td>\n",
              "      <td>323472</td>\n",
              "      <td>688215</td>\n",
              "      <td>64817</td>\n",
              "      <td>644368</td>\n",
              "      <td>536377</td>\n",
              "      <td>647175</td>\n",
              "      <td>225240</td>\n",
              "      <td>40452</td>\n",
              "      <td>721380</td>\n",
              "      <td>130298</td>\n",
              "      <td>253825</td>\n",
              "      <td>769774</td>\n",
              "      <td>9487</td>\n",
              "      <td>2</td>\n",
              "      <td>13</td>\n",
              "      <td>1</td>\n",
              "    </tr>\n",
              "    <tr>\n",
              "      <th>1</th>\n",
              "      <td>562890</td>\n",
              "      <td>452689</td>\n",
              "      <td>688215</td>\n",
              "      <td>270764</td>\n",
              "      <td>644368</td>\n",
              "      <td>536377</td>\n",
              "      <td>647175</td>\n",
              "      <td>347913</td>\n",
              "      <td>172119</td>\n",
              "      <td>721380</td>\n",
              "      <td>645979</td>\n",
              "      <td>460577</td>\n",
              "      <td>769774</td>\n",
              "      <td>6572</td>\n",
              "      <td>12</td>\n",
              "      <td>22</td>\n",
              "      <td>7</td>\n",
              "    </tr>\n",
              "    <tr>\n",
              "      <th>2</th>\n",
              "      <td>14862</td>\n",
              "      <td>323472</td>\n",
              "      <td>688215</td>\n",
              "      <td>234511</td>\n",
              "      <td>644368</td>\n",
              "      <td>536377</td>\n",
              "      <td>647175</td>\n",
              "      <td>347913</td>\n",
              "      <td>76913</td>\n",
              "      <td>721380</td>\n",
              "      <td>645979</td>\n",
              "      <td>460577</td>\n",
              "      <td>769774</td>\n",
              "      <td>10291</td>\n",
              "      <td>8</td>\n",
              "      <td>7128</td>\n",
              "      <td>22</td>\n",
              "    </tr>\n",
              "    <tr>\n",
              "      <th>3</th>\n",
              "      <td>562890</td>\n",
              "      <td>452689</td>\n",
              "      <td>688215</td>\n",
              "      <td>234511</td>\n",
              "      <td>644368</td>\n",
              "      <td>95487</td>\n",
              "      <td>647175</td>\n",
              "      <td>225240</td>\n",
              "      <td>172119</td>\n",
              "      <td>721380</td>\n",
              "      <td>645979</td>\n",
              "      <td>19437</td>\n",
              "      <td>769774</td>\n",
              "      <td>111215</td>\n",
              "      <td>604</td>\n",
              "      <td>112</td>\n",
              "      <td>1</td>\n",
              "    </tr>\n",
              "    <tr>\n",
              "      <th>4</th>\n",
              "      <td>161661</td>\n",
              "      <td>323472</td>\n",
              "      <td>688215</td>\n",
              "      <td>270764</td>\n",
              "      <td>644368</td>\n",
              "      <td>536377</td>\n",
              "      <td>647175</td>\n",
              "      <td>347913</td>\n",
              "      <td>76913</td>\n",
              "      <td>721380</td>\n",
              "      <td>645979</td>\n",
              "      <td>460577</td>\n",
              "      <td>769774</td>\n",
              "      <td>13654</td>\n",
              "      <td>59</td>\n",
              "      <td>14</td>\n",
              "      <td>4</td>\n",
              "    </tr>\n",
              "  </tbody>\n",
              "</table>\n",
              "</div>\n",
              "      <button class=\"colab-df-convert\" onclick=\"convertToInteractive('df-e1b964cd-884a-469b-8ed9-9795bd926e75')\"\n",
              "              title=\"Convert this dataframe to an interactive table.\"\n",
              "              style=\"display:none;\">\n",
              "        \n",
              "  <svg xmlns=\"http://www.w3.org/2000/svg\" height=\"24px\"viewBox=\"0 0 24 24\"\n",
              "       width=\"24px\">\n",
              "    <path d=\"M0 0h24v24H0V0z\" fill=\"none\"/>\n",
              "    <path d=\"M18.56 5.44l.94 2.06.94-2.06 2.06-.94-2.06-.94-.94-2.06-.94 2.06-2.06.94zm-11 1L8.5 8.5l.94-2.06 2.06-.94-2.06-.94L8.5 2.5l-.94 2.06-2.06.94zm10 10l.94 2.06.94-2.06 2.06-.94-2.06-.94-.94-2.06-.94 2.06-2.06.94z\"/><path d=\"M17.41 7.96l-1.37-1.37c-.4-.4-.92-.59-1.43-.59-.52 0-1.04.2-1.43.59L10.3 9.45l-7.72 7.72c-.78.78-.78 2.05 0 2.83L4 21.41c.39.39.9.59 1.41.59.51 0 1.02-.2 1.41-.59l7.78-7.78 2.81-2.81c.8-.78.8-2.07 0-2.86zM5.41 20L4 18.59l7.72-7.72 1.47 1.35L5.41 20z\"/>\n",
              "  </svg>\n",
              "      </button>\n",
              "      \n",
              "  <style>\n",
              "    .colab-df-container {\n",
              "      display:flex;\n",
              "      flex-wrap:wrap;\n",
              "      gap: 12px;\n",
              "    }\n",
              "\n",
              "    .colab-df-convert {\n",
              "      background-color: #E8F0FE;\n",
              "      border: none;\n",
              "      border-radius: 50%;\n",
              "      cursor: pointer;\n",
              "      display: none;\n",
              "      fill: #1967D2;\n",
              "      height: 32px;\n",
              "      padding: 0 0 0 0;\n",
              "      width: 32px;\n",
              "    }\n",
              "\n",
              "    .colab-df-convert:hover {\n",
              "      background-color: #E2EBFA;\n",
              "      box-shadow: 0px 1px 2px rgba(60, 64, 67, 0.3), 0px 1px 3px 1px rgba(60, 64, 67, 0.15);\n",
              "      fill: #174EA6;\n",
              "    }\n",
              "\n",
              "    [theme=dark] .colab-df-convert {\n",
              "      background-color: #3B4455;\n",
              "      fill: #D2E3FC;\n",
              "    }\n",
              "\n",
              "    [theme=dark] .colab-df-convert:hover {\n",
              "      background-color: #434B5C;\n",
              "      box-shadow: 0px 1px 3px 1px rgba(0, 0, 0, 0.15);\n",
              "      filter: drop-shadow(0px 1px 2px rgba(0, 0, 0, 0.3));\n",
              "      fill: #FFFFFF;\n",
              "    }\n",
              "  </style>\n",
              "\n",
              "      <script>\n",
              "        const buttonEl =\n",
              "          document.querySelector('#df-e1b964cd-884a-469b-8ed9-9795bd926e75 button.colab-df-convert');\n",
              "        buttonEl.style.display =\n",
              "          google.colab.kernel.accessAllowed ? 'block' : 'none';\n",
              "\n",
              "        async function convertToInteractive(key) {\n",
              "          const element = document.querySelector('#df-e1b964cd-884a-469b-8ed9-9795bd926e75');\n",
              "          const dataTable =\n",
              "            await google.colab.kernel.invokeFunction('convertToInteractive',\n",
              "                                                     [key], {});\n",
              "          if (!dataTable) return;\n",
              "\n",
              "          const docLinkHtml = 'Like what you see? Visit the ' +\n",
              "            '<a target=\"_blank\" href=https://colab.research.google.com/notebooks/data_table.ipynb>data table notebook</a>'\n",
              "            + ' to learn more about interactive tables.';\n",
              "          element.innerHTML = '';\n",
              "          dataTable['output_type'] = 'display_data';\n",
              "          await google.colab.output.renderOutput(dataTable, element);\n",
              "          const docLink = document.createElement('div');\n",
              "          docLink.innerHTML = docLinkHtml;\n",
              "          element.appendChild(docLink);\n",
              "        }\n",
              "      </script>\n",
              "    </div>\n",
              "  </div>\n",
              "  "
            ],
            "text/plain": [
              "   ps_ind_02_cat_count  ps_ind_04_cat_count  ...  new_reg_count  new_car_count\n",
              "0               161661               323472  ...             13              1\n",
              "1               562890               452689  ...             22              7\n",
              "2                14862               323472  ...           7128             22\n",
              "3               562890               452689  ...            112              1\n",
              "4               161661               323472  ...             14              4\n",
              "\n",
              "[5 rows x 17 columns]"
            ]
          },
          "metadata": {},
          "output_type": "display_data"
        }
      ],
      "source": [
        "train[cat_count_features].head(5)"
      ]
    },
    {
      "cell_type": "markdown",
      "metadata": {
        "id": "lcLHS3fy4R7F"
      },
      "source": [
        "#### Các đặc trưng Groupby (feature interacting using Groupby)\n",
        "\n",
        "Đôi khi đặc trưng kết hợp dựa trên việc **groupby** feature này theo feature kia có thể tăng hiệu quả mô hình. Giả sử ta có 2 feature là `lương` nhân viên và `phòng ban` của họ. Bản thân `lương` đã là một đặc trưng tốt. Nhưng nếu ta so sánh `lương` người này với người kia trong chính `phòng ban` của họ, ta có thể hiểu được tại sao người này không hài lòng với công việc trong khi người kia thì hài lòng, cho dù `lương` của người này cao hơn nhiều so với người của `phòng ban` khác.\n",
        "\n",
        "Đọc thêm: link ở trên.\n",
        "\n",
        "Chọn 2 đặc trưng (`target_feature` và `group_feature`), gom nhóm `target_feature` theo `group_feature`.\n",
        "\n",
        "Thực hiện các thống kê (count, min, max, median, mean, std) trên từng group.\n",
        "\n",
        "Số lượng đặc trưng:\n",
        "* 5 target_features, 6 group_features: 36 cách chọn\n",
        "* 6 thống kê count, min, max, median, mean, std\n",
        "* tổng số đặc trưng: `36 * 6 = 216`\n",
        "\n",
        "Thống kê được thực hiện trên tập dữ diệu gộp của `train` và `test` -> tổng quát hơn."
      ]
    },
    {
      "cell_type": "code",
      "execution_count": null,
      "metadata": {
        "id": "J9knJnv24R7F"
      },
      "outputs": [],
      "source": [
        "#feature aggregation\n",
        "target_features = ['ps_car_13', 'ps_ind_03', 'ps_reg_03', 'ps_ind_15', 'ps_reg_01', 'ps_ind_01']\n",
        "group_features = ['ps_car_13', 'ps_ind_03', 'ps_reg_03', 'ps_ind_15', 'ps_reg_01', 'ps_ind_01', 'ps_ind_05_cat']\n",
        "\n",
        "#return numpy because we need to do np.hstack to merge all statistic feature together, so that it would return np array\n",
        "train_statis, test_statis =  Statistic_features(train, test, target_features, group_features)"
      ]
    },
    {
      "cell_type": "code",
      "execution_count": null,
      "metadata": {
        "colab": {
          "base_uri": "https://localhost:8080/"
        },
        "id": "nkSP2_TM4R7G",
        "outputId": "a6df75f6-0d1a-4ed8-855f-d3a7552c6aee"
      },
      "outputs": [
        {
          "data": {
            "text/plain": [
              "array([[8.20850000e+04, 8.33151979e-01, 2.41932238e-01, ...,\n",
              "        1.00000000e+00, 7.00000000e+00, 0.00000000e+00],\n",
              "       [6.81280000e+04, 8.26822286e-01, 2.36309267e-01, ...,\n",
              "        1.00000000e+00, 7.00000000e+00, 0.00000000e+00],\n",
              "       [3.30140000e+04, 8.13335416e-01, 2.35708345e-01, ...,\n",
              "        1.00000000e+00, 7.00000000e+00, 0.00000000e+00],\n",
              "       ...,\n",
              "       [1.87290000e+04, 8.00533594e-01, 2.34789020e-01, ...,\n",
              "        1.00000000e+00, 7.00000000e+00, 0.00000000e+00],\n",
              "       [1.06768000e+05, 8.24760621e-01, 2.30278771e-01, ...,\n",
              "        1.00000000e+00, 7.00000000e+00, 0.00000000e+00],\n",
              "       [5.17180000e+04, 8.23875854e-01, 2.37380926e-01, ...,\n",
              "        1.00000000e+00, 7.00000000e+00, 0.00000000e+00]])"
            ]
          },
          "metadata": {},
          "output_type": "display_data"
        }
      ],
      "source": [
        "train_statis"
      ]
    },
    {
      "cell_type": "code",
      "execution_count": null,
      "metadata": {
        "colab": {
          "base_uri": "https://localhost:8080/"
        },
        "id": "OzakJDVD4R7G",
        "outputId": "d9cd3e1b-300f-45db-d1ef-8a91e8a63db1"
      },
      "outputs": [
        {
          "data": {
            "text/plain": [
              "(333446, 216)"
            ]
          },
          "metadata": {},
          "output_type": "display_data"
        }
      ],
      "source": [
        "train_statis.shape"
      ]
    },
    {
      "cell_type": "markdown",
      "metadata": {
        "id": "_wrXsP3oErI5"
      },
      "source": [
        "  #### Nối các đặc trưng dạng số lại để chuẩn bị cho NN model ####"
      ]
    },
    {
      "cell_type": "code",
      "execution_count": null,
      "metadata": {
        "id": "NPG5_JtaE57f"
      },
      "outputs": [],
      "source": [
        "'''\n",
        "Building a train list including train_num, cat_count_features, statistic feature and infered feature training by XGboost.\n",
        "\n",
        "train_num: training data without set of cat_calc\n",
        "cat_count_features: cat_fea + ['new_ind','new_reg','new_car']\n",
        "train_fea0: feature extraction \n",
        "'''\n",
        "\n",
        "\n",
        "#training data without set of cat_calc\n",
        "train_num = train[[x for x in list(train) if x in num_features]]\n",
        "test_num = test[[x for x in list(train) if x in num_features]]\n",
        "\n",
        "train_list = [train_num.replace([np.inf, -np.inf, np.nan], 0), train[cat_count_features], train_statis]\n",
        "test_list = [test_num.replace([np.inf, -np.inf, np.nan], 0), test[cat_count_features], test_statis] "
      ]
    },
    {
      "cell_type": "code",
      "execution_count": null,
      "metadata": {
        "id": "0cOZbYHDF8VH"
      },
      "outputs": [],
      "source": [
        "'''\n",
        "X are stacked from 5 features\n",
        "1. train_num(595212,54): training data without set of cat_calc\n",
        "2. cat_count_features(595212,17): cat_fea + ['new_ind','new_reg','new_car']\n",
        "3. feature statis(595212,6) * 36\n",
        "4. train_fea0(595212, 38): feature extraction\n",
        "\n",
        "all_data (595212, 235)\n",
        "'''\n",
        "\n",
        "\n",
        "X = sparse.coo_matrix(np.hstack(train_list)).tocsr()\n",
        "#Chạy xong dòng trên tới dòng dưới thì hết RAM :)\n",
        "X_test = sparse.coo_matrix(np.hstack(test_list)).tocsr()\n",
        "\n",
        "all_data = np.vstack([X.toarray(), X_test.toarray()])\n",
        "all_data = X.toarray()\n",
        "scaler = StandardScaler()\n",
        "scaler.fit(all_data)\n",
        "X = scaler.transform(X.toarray())\n",
        "X_test = scaler.transform(X_test.toarray())\n"
      ]
    },
    {
      "cell_type": "markdown",
      "metadata": {
        "id": "h4lBndxEFLOP"
      },
      "source": [
        "#### Tạo các đặc trưng dạng Categorical để chuẩn bị cho Embedding layer ####"
      ]
    },
    {
      "cell_type": "code",
      "execution_count": null,
      "metadata": {
        "colab": {
          "base_uri": "https://localhost:8080/"
        },
        "id": "XhsrCA2OFd7h",
        "outputId": "7a01c9cf-0ee0-4bb2-c8d6-590764b756be"
      },
      "outputs": [
        {
          "name": "stdout",
          "output_type": "stream",
          "text": [
            "cat_fea: ['ps_ind_02_cat', 'ps_ind_04_cat', 'ps_ind_05_cat', 'ps_car_01_cat', 'ps_car_02_cat', 'ps_car_03_cat', 'ps_car_04_cat', 'ps_car_05_cat', 'ps_car_06_cat', 'ps_car_07_cat', 'ps_car_08_cat', 'ps_car_09_cat', 'ps_car_10_cat', 'ps_car_11_cat']\n",
            "\n",
            "max_cat_values:  [4, 2, 7, 12, 2, 2, 9, 2, 17, 2, 1, 5, 2, 103]\n"
          ]
        }
      ],
      "source": [
        "#preparing for training cat \n",
        "train_cat = train[cat_fea]\n",
        "test_cat = test[cat_fea]\n",
        "\n",
        "# convert pd to np.array\n",
        "X_cat = train_cat.values\n",
        "tem = test_cat.values\n",
        "\n",
        "# storing the dimension for embedding layer as an input value\n",
        "max_cat_values = []\n",
        "\n",
        "for c in cat_fea:\n",
        "    \n",
        "    #nomalize the label\n",
        "    #Mục đích chỉ để tìm số chiều(số phần tử khác nhau của mỗi cột) để truyền vào tham số input_dim của embedding layer\n",
        "    le = LabelEncoder()\n",
        "    x = le.fit_transform(pd.concat([train_cat, test_cat])[c])\n",
        "    train_cat.loc[:,c] = le.transform(train_cat[c])\n",
        "    test_cat.loc[:,c] = le.transform(test_cat[c])\n",
        "    max_cat_values.append(np.max(x))\n",
        "\n",
        "# Build the final testing data\n",
        "X_TEST_CAT = []\n",
        "for i in range(tem.shape[1]):\n",
        "    X_TEST_CAT.append(tem[:, i].reshape(-1, 1))\n",
        "X_TEST_CAT.append(X_test)\n",
        "\n",
        "\n",
        "print('cat_fea:', cat_fea)\n",
        "print('\\nmax_cat_values: ',max_cat_values)"
      ]
    },
    {
      "cell_type": "markdown",
      "metadata": {
        "id": "PcTiVAeG4R7H"
      },
      "source": [
        "#### Thêm đặc trưng XGBoost"
      ]
    },
    {
      "cell_type": "markdown",
      "metadata": {
        "id": "wiNoGmHu4R7H"
      },
      "source": [
        "Giới thiệu thuật toán\n",
        "* `XGBoost`(Extreme Gradient Boosting) là một thuật toán dựa trên `Gradient Boosting`, là một hướng của `Ensemble Methods`.\n",
        "* `Ensemble Methods`: Là phương pháp kết hợp những model yếu hoạt động đơn lẻ để tạo ra một model mạnh hơn.\n",
        "* `Boosting`: Các model yếu hỗ trợ lẫn nhau, những model sau sẽ học từ các model trước để hạn chế những sai lầm của model trước.\n",
        "* `Gradient Boosting`: Điều chỉnh lại trọng số của các model yếu bằng phương pháp tương tự như `Gradient Descent` để cực tiểu hóa độ lỗi của mô hình lớn. Là thuật toán dựa trên `Decision Tree`.\n",
        "\n",
        "Một số ưu điểm của `XGBoost`:\n",
        "+ Tăng tốc độ tính toán nhờ tính toán song song.\n",
        "+ Giảm được overfitting bằng Regularization.\n",
        "+ Tự động cắt tỉa cây.\n",
        "+ Cải thiện tốc độ nhờ cơ chế early Stopping.\n",
        "\n",
        "Nhược điểm \n",
        "* Tuy nhanh hơn các thuật toán boosting khác nhưng nhìn chung vẫn rất lâu bởi vì việc xây dựng cây quyết định và train nhiều mô hình con rất tốn thời gian. \n",
        "\n",
        "XGBoost thường dùng cho những bài toán nào\n",
        "* XGBoost hoạt động tốt với cả những bài toán phân lớp và hồi quy. \n",
        "* XGBoost được sử dụng rất nhiều trong các cuộc thi trên Kaggle và giành thứ hạng cao bởi vì phù hợp với dạng dữ liệu có cấu trúc, cụ thể là dạng bảng.\n",
        "\n",
        "=> Phù hợp với mục đích sử dụng của bài này vì dữ liệu của bài đều là dữ liệu dạng bảng và sử dụng kết quả dự đoán của XGBoost làm một feature cho NN model."
      ]
    },
    {
      "cell_type": "code",
      "execution_count": null,
      "metadata": {
        "id": "yA4uluEO4R7H"
      },
      "outputs": [],
      "source": [
        "\n",
        "import xgboost as xgb\n",
        "from sklearn.model_selection import KFold\n",
        "import numpy as np\n",
        "import pandas as pd"
      ]
    },
    {
      "cell_type": "code",
      "execution_count": null,
      "metadata": {
        "id": "aDsIvIEI4R7I"
      },
      "outputs": [],
      "source": [
        "train = pd.read_csv(\"./input/train.csv\")\n",
        "train_label = train['target']\n",
        "train_id = train['id']\n",
        "del train['target'], train['id']\n",
        "\n",
        "test = pd.read_csv(\"./input/test.csv\")\n",
        "test_id = test['id']\n",
        "del test['id']"
      ]
    },
    {
      "cell_type": "markdown",
      "metadata": {
        "id": "u9G2UQm94R7I"
      },
      "source": [
        "Các tham số cho mô hình "
      ]
    },
    {
      "cell_type": "code",
      "execution_count": null,
      "metadata": {
        "id": "MPGh_DON4R7I"
      },
      "outputs": [],
      "source": [
        "eta = 0.1 \n",
        "max_depth = 6 \n",
        "subsample = 0.9\n",
        "colsample_bytree = 0.85\n",
        "min_child_weight = 55\n",
        "num_boost_round = 500\n",
        "\n",
        "params = {\"objective\": \"reg:linear\",#Hàm mục tiêu, cho biết hàm mục tiêu của model này là lig\n",
        "          \"booster\": \"gbtree\",\n",
        "          \"eta\": eta,#tương tự learning rate trong các NN model\n",
        "          \"max_depth\": int(max_depth),#Độ sâu tối đa của cây quyết định\n",
        "          \"subsample\": subsample,#Tỉ lệ chọn mẫu con trong tập test\n",
        "          \"colsample_bytree\": colsample_bytree,\n",
        "          \"min_child_weight\": min_child_weight,\n",
        "          \"silent\": 1\n",
        "          }\n",
        "\n",
        "data = train.append(test)\n",
        "data.reset_index(inplace=True)\n",
        "train_rows = train.shape[0]\n",
        "\n",
        "feature_results = []"
      ]
    },
    {
      "cell_type": "markdown",
      "metadata": {
        "id": "2ENDYHLy4R7J"
      },
      "source": [
        "Phương pháp đánh giá mô hình: K-fold cross validation\n",
        "* Xáo trộn tập dữ liệu và chia ra thành k tập (fold).\n",
        "* Thực hiện k lần, mỗi lần sẽ sử dụng k - 1 fold để train và đánh giá trên fold còn lại. Như vậy k fold đều có thể thành tập test.\n",
        "* Có k kết quả, sau khi kết thúc sẽ lấy kết quả dựa vào việc tổng hợp các kết quả.\n",
        "* Kết quả thực nghiệm cho thấy k=5 hoặc k=10 cho ra kết quả tốt nhất."
      ]
    },
    {
      "cell_type": "code",
      "execution_count": null,
      "metadata": {
        "id": "4vQvqpZA4R7K"
      },
      "outputs": [],
      "source": [
        "#train\n",
        "#Thực hiện 3 lần, mỗi lần sẽ lấy 1 feature làm target, 2 feature còn lại làm feature để train. \n",
        "#VD: lần 1 sẽ lấy những feature dạng 'car' để làm target, 'ind' và 'reg' sẽ làm features để train\n",
        "#Kết hợp 3 mô hình\n",
        "for target_g in ['car', 'ind', 'reg']:\n",
        "    features = [x for x in list(data) if target_g not in x]\n",
        "    target_list = [x for x in list(data) if target_g in x]\n",
        "    train_fea = np.array(data[features])\n",
        "    for target in target_list:\n",
        "        print(target)\n",
        "        train_label = data[target]\n",
        "        kfold = KFold(n_splits=5, random_state=218, shuffle=True)\n",
        "        kf = kfold.split(data)\n",
        "        cv_train = np.zeros(shape=(data.shape[0], 1))\n",
        "        for i, (train_fold, validate) in enumerate(kf):\n",
        "            X_train, X_validate, label_train, label_validate = \\\n",
        "                train_fea[train_fold, :], train_fea[validate, :], train_label[train_fold], train_label[validate]\n",
        "            dtrain = xgb.DMatrix(X_train, label_train)\n",
        "            dvalid = xgb.DMatrix(X_validate, label_validate)\n",
        "            watchlist = [(dtrain, 'train'), (dvalid, 'valid')]\n",
        "            bst = xgb.train(params, dtrain, num_boost_round, evals=watchlist, verbose_eval=50,\n",
        "                            early_stopping_rounds=10)\n",
        "            cv_train[validate, 0] += bst.predict(xgb.DMatrix(X_validate), ntree_limit=bst.best_ntree_limit)\n",
        "        feature_results.append(cv_train)\n",
        "\n",
        "\n",
        "pickle.dump([train_features, test_features], open(\"./fea0.pk\", 'wb'))"
      ]
    },
    {
      "cell_type": "markdown",
      "metadata": {
        "id": "lxlkRJfdBTfJ"
      },
      "source": [
        "### Neural networks model"
      ]
    },
    {
      "cell_type": "markdown",
      "metadata": {
        "id": "gstlkmw7Bww-"
      },
      "source": [
        "#### 1. Model structure"
      ]
    },
    {
      "cell_type": "markdown",
      "metadata": {
        "id": "D1MY8tgpCT03"
      },
      "source": [
        "![NN_layer.png](data:image/png;base64,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)"
      ]
    },
    {
      "cell_type": "markdown",
      "metadata": {
        "id": "_GB6clO4Piwi"
      },
      "source": [
        "##### Input: \n",
        "\n",
        "* Các đặc trưng dạng Numerical(Gồm các đặc trưng dạng num có sẵn và đặc trưng sinh ra từ XBGboost predict)\n",
        "* Đặc trưng dạng Categorical. Với những dạng đặc trưng dạng `cat`, ta đưa vào `Embedding layer` để chuyển các đặc trưng này về dạng vector có chiều quy định nhằm đồng nhất số chiều của các lớp. \n",
        "* Mỗi `cat` feature được đưa vào một `Embedding layer` riêng.\n",
        "\n",
        "\n"
      ]
    },
    {
      "cell_type": "markdown",
      "metadata": {
        "id": "MGS6lI9rDC90"
      },
      "source": [
        "##### Layers:\n",
        "* **Embedding**: Đưa các vector có số chiều lớn, thường là dữ liệu khả tách, về một vector có số chiều nhỏ hơn, thường ở dạng dày đặc. Làm cho các giá trị có ý nghĩa tương tự nhau nằm gần nhau trong không gian embedding. Các tham số của lớp embedding: input_dim = num_c + 1, output_dim, input_length. Các đặc trưng dạng Categorical được đưa vào lớp \n",
        "\n",
        "* **Merge**: chứa các layers giúp chúng ta cộng,trừ,hoặc nối các layer như các vector. Merge hai đặc trưng `Cat` và `Num` lại với nhau theo phương pháp `Concatenate`.\n",
        "* **Dense**: layer này sử dụng như một layer neural network bình thường.\n",
        "* **Output**: Là một `dense` layer với 1 node(nhận giá trị nhị phân)\n",
        "\n"
      ]
    },
    {
      "cell_type": "markdown",
      "metadata": {
        "id": "Vot7NKLN-Kzu"
      },
      "source": [
        "##### Các siêu tham số cơ bản\n",
        "- **Flatten**: dùng để lát phẳng layer để fully connection, vd : shape : 20x20 qua layer này sẽ là 400x1\n",
        "- **Activation**: dùng để chọn activation trong layer\n",
        "- **BatchNormalization**: chuẩn hóa các feature (đầu ra của mỗi layer sau khi đi qua các activation) về trạng thái zero-mean với độ lệch chuẩn 1. Đồng thời giúp tăng tốc độ học và chống overfiting.\n",
        "- Dropout: layer này dùng như regularization cho các layer hạn chế overfiting.\n"
      ]
    },
    {
      "cell_type": "code",
      "execution_count": null,
      "metadata": {
        "id": "mEQ21NMMQcFM"
      },
      "outputs": [],
      "source": [
        "def nn_model():\n",
        "    inputs = []\n",
        "    flatten_layers = []\n",
        "    for e, c in enumerate(cat_fea):\n",
        "        input_c = Input(shape=(1, ), dtype='int32')\n",
        "        num_c = max_cat_values[e]\n",
        "        \n",
        "        # **input_dim: int > 0. Size of the vocabulary, i.e. maximum integer index + 1.**\n",
        "        embed_c = Embedding(num_c+1,6,input_length=1)(input_c)\n",
        "        embed_c = Dropout(0.25)(embed_c)\n",
        "        flatten_c = Flatten()(embed_c)\n",
        "        inputs.append(input_c)\n",
        "        flatten_layers.append(flatten_c)\n",
        "        \n",
        "    input_num = Input(shape=(X.shape[1],), dtype='float32')\n",
        "    inputs.append(input_num)\n",
        "    \n",
        "    #merge X and embedding layer\n",
        "    flatten_layers.append(input_num)\n",
        "    #flatten = merge(flatten_layers, mode='concat') \n",
        "    flatten = Concatenate()(flatten_layers)\n",
        "    \n",
        "    fc1 = Dense(512, kernel_initializer='he_normal')(flatten)\n",
        "    fc1 = PReLU()(fc1)\n",
        "    fc1 = BatchNormalization()(fc1)\n",
        "    fc1 = Dropout(0.75)(fc1)\n",
        "    \n",
        "    fc1 = Dense(64, kernel_initializer='he_normal')(fc1)\n",
        "    fc1 = PReLU()(fc1)\n",
        "    fc1 = BatchNormalization()(fc1)\n",
        "    fc1 = Dropout(0.5)(fc1)\n",
        "\n",
        "    outputs = Dense(1, kernel_initializer='he_normal', activation='sigmoid')(fc1)\n",
        "\n",
        "    model = Model(inputs = inputs, outputs = outputs)\n",
        "    model.compile(loss='binary_crossentropy', optimizer='adam')\n",
        "    return (model)"
      ]
    },
    {
      "cell_type": "markdown",
      "metadata": {
        "id": "4T5nGGZ1FcZP"
      },
      "source": [
        "#### Train"
      ]
    },
    {
      "cell_type": "markdown",
      "metadata": {
        "id": "fr5LgcvHQuaf"
      },
      "source": [
        "Phương pháp đánh giá mô hình: K-fold cross validation\n",
        "* Xáo trộn tập dữ liệu và chia ra thành k tập (fold).\n",
        "* Thực hiện k lần, mỗi lần sẽ sử dụng k - 1 fold để train và đánh giá trên fold còn lại. Như vậy k fold đều có thể thành tập test.\n",
        "* Có k kết quả, sau khi kết thúc sẽ lấy kết quả dựa vào việc tổng hợp các kết quả.\n",
        "* Kết quả thực nghiệm cho thấy k=5 hoặc k=10 cho ra kết quả tốt nhất."
      ]
    },
    {
      "cell_type": "code",
      "execution_count": null,
      "metadata": {
        "id": "eWkc1y-_IZdn"
      },
      "outputs": [],
      "source": [
        "\"\"\"\n",
        "#validation fold\n",
        "NFOLDS = 5\n",
        "kfold = StratifiedKFold(n_splits=NFOLDS, shuffle=True, random_state=218)\n",
        "\n",
        "I change \"test\" to \"vaild\" because I feel it is clear to understand\n",
        "\"\"\"\n",
        "\n",
        "cv_train = np.zeros(len(train_label))\n",
        "cv_pred = np.zeros(len(test_id))\n",
        "\n",
        "#validation fold\n",
        "NFOLDS = 5\n",
        "kfold = StratifiedKFold(n_splits=NFOLDS, shuffle=True, random_state=218)\n",
        "\n",
        "#with different random see make result stable.\n",
        "num_seeds = 5\n",
        "begintime = time()\n",
        "if cv_only:\n",
        "    for s in range(num_seeds):\n",
        "        np.random.seed(s)\n",
        "        for (train_index, valid_index) in kfold.split(X, train_label):\n",
        "            \n",
        "            #assign data from training data and labels to validation data; \n",
        "            x_train = X[train_index]\n",
        "            y_train = train_label[train_index]\n",
        "            x_valid= X[valid_index]\n",
        "            y_valid = train_label[valid_index]\n",
        "            \n",
        "            # assign X_cat to validation data; \n",
        "            x_train_cat = X_cat[train_index]\n",
        "            x_valid_cat = X_cat[valid_index]\n",
        "\n",
        "            #Package data for training, the package(list) is  [[cat_featrues], x_train] \n",
        "            # or [ ['ps_ind_02_cat', 'ps_ind_04_cat', 'ps_ind_05_cat',.....,'ps_car_11_cat'] ,x_train]\n",
        "            \n",
        "            x_train_cat_list, x_valid_cat_list = [], []\n",
        "            for i in range(x_train_cat.shape[1]):\n",
        "                x_train_cat_list.append(x_train_cat[:, i].reshape(-1, 1))\n",
        "                x_valid_cat_list.append(x_valid_cat[:, i].reshape(-1, 1))\n",
        "\n",
        "            x_train_cat_list.append(x_train)\n",
        "            x_valid_cat_list.append(x_valid)\n",
        "            \n",
        "            #load model\n",
        "            model = nn_model()\n",
        "            \n",
        "            def get_rank(x):\n",
        "                return pd.Series(x).rank(pct=True).values\n",
        "            #fit model. Note: Change epochs to make prediction accuracy\n",
        "            model.fit(x_train_cat_list, y_train, epochs=10, batch_size=512, verbose=2, validation_data=[x_valid_cat_list, y_valid])\n",
        "            \n",
        "            #record prediction with validation data\n",
        "            cv_train[valid_index] += get_rank(model.predict(x=x_valid_cat_list, batch_size=512, verbose=0)[:, 0])\n",
        "            print('local fold Gini: ',Gini(train_label[valid_index], cv_train[valid_index]))\n",
        "            \n",
        "            #recode prediction with testing data\n",
        "            cv_pred += get_rank(model.predict(x=X_TEST_CAT, batch_size=512, verbose=0)[:, 0])\n",
        "             \n",
        "            \n",
        "        \n",
        "        print(\"seed {0}: Gini {1}\".format(s,Gini(train_label, cv_train / (1. * (s + 1)))))\n",
        "        print(\"Total training time: \",str(datetime.timedelta(seconds=time() - begintime)))\n",
        "    if save_cv:\n",
        "        \n",
        "        #divid (NFOLDS * num_seeds) to get average of probablity \n",
        "        pd.DataFrame({'id': test_id, 'target': get_rank(cv_pred * 1./ (NFOLDS * num_seeds))}).to_csv('keras5_pred.csv', index=False)\n",
        "        pd.DataFrame({'id': train_id, 'target': get_rank(cv_train * 1. / num_seeds)}).to_csv('keras5_cv.csv', index=False)\n",
        "\n"
      ]
    },
    {
      "cell_type": "markdown",
      "metadata": {
        "id": "goWpmRQH4R7K"
      },
      "source": [
        "### Kế hoạch tiếp theo\n",
        "\n",
        "* Tiếp tục tìm hiểu + train đặc trưng XGBoost\n",
        "* Tìm hiểu + code mô hình LightGBM\n",
        "* Tìm hiểu + code mô hình Neural networks\n",
        "* Tìm hiểu các phương pháp để cải tiến solution"
      ]
    },
    {
      "cell_type": "markdown",
      "metadata": {
        "id": "IxAw88-o4R7K"
      },
      "source": [
        "## Nhìn lại quá trình làm đồ án"
      ]
    },
    {
      "cell_type": "markdown",
      "metadata": {
        "id": "wxps-fzr4R7L"
      },
      "source": [
        "## Tài liệu tham khảo"
      ]
    }
  ],
  "metadata": {
    "accelerator": "TPU",
    "colab": {
      "collapsed_sections": [],
      "machine_shape": "hm",
      "name": "HACKANONS COLAB 25GB RAM.ipynb",
      "provenance": []
    },
    "kernelspec": {
      "display_name": "Python 3",
      "name": "python3"
    },
    "language_info": {
      "name": "python",
      "version": "3.8.8"
    }
  },
  "nbformat": 4,
  "nbformat_minor": 0
}

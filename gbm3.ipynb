{
 "cells": [
  {
   "cell_type": "markdown",
   "metadata": {},
   "source": [
    "# LightGBM model"
   ]
  },
  {
   "cell_type": "markdown",
   "metadata": {},
   "source": [
    "### Read data"
   ]
  },
  {
   "cell_type": "code",
   "execution_count": 1,
   "metadata": {},
   "outputs": [],
   "source": [
    "import lightgbm as lgbm\n",
    "from scipy import sparse as ssp\n",
    "from sklearn.model_selection import StratifiedKFold\n",
    "import numpy as np\n",
    "import pandas as pd\n",
    "from sklearn.preprocessing import LabelEncoder\n",
    "from sklearn.preprocessing import OneHotEncoder\n",
    "import matplotlib.pyplot as plt"
   ]
  },
  {
   "cell_type": "code",
   "execution_count": 2,
   "metadata": {},
   "outputs": [],
   "source": [
    "path = \"./data/\"\n",
    "\n",
    "train = pd.read_csv(path+'train.csv')\n",
    "train_label = train['target']\n",
    "train_id = train['id']\n",
    "test = pd.read_csv(path+'test.csv')\n",
    "test_id = test['id']"
   ]
  },
  {
   "cell_type": "code",
   "execution_count": 3,
   "metadata": {},
   "outputs": [
    {
     "data": {
      "text/html": [
       "<div>\n",
       "<style scoped>\n",
       "    .dataframe tbody tr th:only-of-type {\n",
       "        vertical-align: middle;\n",
       "    }\n",
       "\n",
       "    .dataframe tbody tr th {\n",
       "        vertical-align: top;\n",
       "    }\n",
       "\n",
       "    .dataframe thead th {\n",
       "        text-align: right;\n",
       "    }\n",
       "</style>\n",
       "<table border=\"1\" class=\"dataframe\">\n",
       "  <thead>\n",
       "    <tr style=\"text-align: right;\">\n",
       "      <th></th>\n",
       "      <th>id</th>\n",
       "      <th>target</th>\n",
       "      <th>ps_ind_01</th>\n",
       "      <th>ps_ind_02_cat</th>\n",
       "      <th>ps_ind_03</th>\n",
       "      <th>ps_ind_04_cat</th>\n",
       "      <th>ps_ind_05_cat</th>\n",
       "      <th>ps_ind_06_bin</th>\n",
       "      <th>ps_ind_07_bin</th>\n",
       "      <th>ps_ind_08_bin</th>\n",
       "      <th>...</th>\n",
       "      <th>ps_calc_11</th>\n",
       "      <th>ps_calc_12</th>\n",
       "      <th>ps_calc_13</th>\n",
       "      <th>ps_calc_14</th>\n",
       "      <th>ps_calc_15_bin</th>\n",
       "      <th>ps_calc_16_bin</th>\n",
       "      <th>ps_calc_17_bin</th>\n",
       "      <th>ps_calc_18_bin</th>\n",
       "      <th>ps_calc_19_bin</th>\n",
       "      <th>ps_calc_20_bin</th>\n",
       "    </tr>\n",
       "  </thead>\n",
       "  <tbody>\n",
       "    <tr>\n",
       "      <th>0</th>\n",
       "      <td>7</td>\n",
       "      <td>0</td>\n",
       "      <td>2</td>\n",
       "      <td>2</td>\n",
       "      <td>5</td>\n",
       "      <td>1</td>\n",
       "      <td>0</td>\n",
       "      <td>0</td>\n",
       "      <td>1</td>\n",
       "      <td>0</td>\n",
       "      <td>...</td>\n",
       "      <td>9</td>\n",
       "      <td>1</td>\n",
       "      <td>5</td>\n",
       "      <td>8</td>\n",
       "      <td>0</td>\n",
       "      <td>1</td>\n",
       "      <td>1</td>\n",
       "      <td>0</td>\n",
       "      <td>0</td>\n",
       "      <td>1</td>\n",
       "    </tr>\n",
       "    <tr>\n",
       "      <th>1</th>\n",
       "      <td>9</td>\n",
       "      <td>0</td>\n",
       "      <td>1</td>\n",
       "      <td>1</td>\n",
       "      <td>7</td>\n",
       "      <td>0</td>\n",
       "      <td>0</td>\n",
       "      <td>0</td>\n",
       "      <td>0</td>\n",
       "      <td>1</td>\n",
       "      <td>...</td>\n",
       "      <td>3</td>\n",
       "      <td>1</td>\n",
       "      <td>1</td>\n",
       "      <td>9</td>\n",
       "      <td>0</td>\n",
       "      <td>1</td>\n",
       "      <td>1</td>\n",
       "      <td>0</td>\n",
       "      <td>1</td>\n",
       "      <td>0</td>\n",
       "    </tr>\n",
       "    <tr>\n",
       "      <th>2</th>\n",
       "      <td>13</td>\n",
       "      <td>0</td>\n",
       "      <td>5</td>\n",
       "      <td>4</td>\n",
       "      <td>9</td>\n",
       "      <td>1</td>\n",
       "      <td>0</td>\n",
       "      <td>0</td>\n",
       "      <td>0</td>\n",
       "      <td>1</td>\n",
       "      <td>...</td>\n",
       "      <td>4</td>\n",
       "      <td>2</td>\n",
       "      <td>7</td>\n",
       "      <td>7</td>\n",
       "      <td>0</td>\n",
       "      <td>1</td>\n",
       "      <td>1</td>\n",
       "      <td>0</td>\n",
       "      <td>1</td>\n",
       "      <td>0</td>\n",
       "    </tr>\n",
       "    <tr>\n",
       "      <th>3</th>\n",
       "      <td>16</td>\n",
       "      <td>0</td>\n",
       "      <td>0</td>\n",
       "      <td>1</td>\n",
       "      <td>2</td>\n",
       "      <td>0</td>\n",
       "      <td>0</td>\n",
       "      <td>1</td>\n",
       "      <td>0</td>\n",
       "      <td>0</td>\n",
       "      <td>...</td>\n",
       "      <td>2</td>\n",
       "      <td>2</td>\n",
       "      <td>4</td>\n",
       "      <td>9</td>\n",
       "      <td>0</td>\n",
       "      <td>0</td>\n",
       "      <td>0</td>\n",
       "      <td>0</td>\n",
       "      <td>0</td>\n",
       "      <td>0</td>\n",
       "    </tr>\n",
       "    <tr>\n",
       "      <th>4</th>\n",
       "      <td>17</td>\n",
       "      <td>0</td>\n",
       "      <td>0</td>\n",
       "      <td>2</td>\n",
       "      <td>0</td>\n",
       "      <td>1</td>\n",
       "      <td>0</td>\n",
       "      <td>1</td>\n",
       "      <td>0</td>\n",
       "      <td>0</td>\n",
       "      <td>...</td>\n",
       "      <td>3</td>\n",
       "      <td>1</td>\n",
       "      <td>1</td>\n",
       "      <td>3</td>\n",
       "      <td>0</td>\n",
       "      <td>0</td>\n",
       "      <td>0</td>\n",
       "      <td>1</td>\n",
       "      <td>1</td>\n",
       "      <td>0</td>\n",
       "    </tr>\n",
       "    <tr>\n",
       "      <th>...</th>\n",
       "      <td>...</td>\n",
       "      <td>...</td>\n",
       "      <td>...</td>\n",
       "      <td>...</td>\n",
       "      <td>...</td>\n",
       "      <td>...</td>\n",
       "      <td>...</td>\n",
       "      <td>...</td>\n",
       "      <td>...</td>\n",
       "      <td>...</td>\n",
       "      <td>...</td>\n",
       "      <td>...</td>\n",
       "      <td>...</td>\n",
       "      <td>...</td>\n",
       "      <td>...</td>\n",
       "      <td>...</td>\n",
       "      <td>...</td>\n",
       "      <td>...</td>\n",
       "      <td>...</td>\n",
       "      <td>...</td>\n",
       "      <td>...</td>\n",
       "    </tr>\n",
       "    <tr>\n",
       "      <th>595207</th>\n",
       "      <td>1488013</td>\n",
       "      <td>0</td>\n",
       "      <td>3</td>\n",
       "      <td>1</td>\n",
       "      <td>10</td>\n",
       "      <td>0</td>\n",
       "      <td>0</td>\n",
       "      <td>0</td>\n",
       "      <td>0</td>\n",
       "      <td>0</td>\n",
       "      <td>...</td>\n",
       "      <td>4</td>\n",
       "      <td>1</td>\n",
       "      <td>9</td>\n",
       "      <td>6</td>\n",
       "      <td>0</td>\n",
       "      <td>1</td>\n",
       "      <td>1</td>\n",
       "      <td>0</td>\n",
       "      <td>1</td>\n",
       "      <td>1</td>\n",
       "    </tr>\n",
       "    <tr>\n",
       "      <th>595208</th>\n",
       "      <td>1488016</td>\n",
       "      <td>0</td>\n",
       "      <td>5</td>\n",
       "      <td>1</td>\n",
       "      <td>3</td>\n",
       "      <td>0</td>\n",
       "      <td>0</td>\n",
       "      <td>0</td>\n",
       "      <td>0</td>\n",
       "      <td>0</td>\n",
       "      <td>...</td>\n",
       "      <td>4</td>\n",
       "      <td>1</td>\n",
       "      <td>3</td>\n",
       "      <td>8</td>\n",
       "      <td>1</td>\n",
       "      <td>0</td>\n",
       "      <td>1</td>\n",
       "      <td>0</td>\n",
       "      <td>1</td>\n",
       "      <td>1</td>\n",
       "    </tr>\n",
       "    <tr>\n",
       "      <th>595209</th>\n",
       "      <td>1488017</td>\n",
       "      <td>0</td>\n",
       "      <td>1</td>\n",
       "      <td>1</td>\n",
       "      <td>10</td>\n",
       "      <td>0</td>\n",
       "      <td>0</td>\n",
       "      <td>1</td>\n",
       "      <td>0</td>\n",
       "      <td>0</td>\n",
       "      <td>...</td>\n",
       "      <td>3</td>\n",
       "      <td>2</td>\n",
       "      <td>2</td>\n",
       "      <td>6</td>\n",
       "      <td>0</td>\n",
       "      <td>0</td>\n",
       "      <td>1</td>\n",
       "      <td>0</td>\n",
       "      <td>0</td>\n",
       "      <td>0</td>\n",
       "    </tr>\n",
       "    <tr>\n",
       "      <th>595210</th>\n",
       "      <td>1488021</td>\n",
       "      <td>0</td>\n",
       "      <td>5</td>\n",
       "      <td>2</td>\n",
       "      <td>3</td>\n",
       "      <td>1</td>\n",
       "      <td>0</td>\n",
       "      <td>0</td>\n",
       "      <td>0</td>\n",
       "      <td>1</td>\n",
       "      <td>...</td>\n",
       "      <td>4</td>\n",
       "      <td>1</td>\n",
       "      <td>4</td>\n",
       "      <td>2</td>\n",
       "      <td>0</td>\n",
       "      <td>1</td>\n",
       "      <td>1</td>\n",
       "      <td>1</td>\n",
       "      <td>0</td>\n",
       "      <td>0</td>\n",
       "    </tr>\n",
       "    <tr>\n",
       "      <th>595211</th>\n",
       "      <td>1488027</td>\n",
       "      <td>0</td>\n",
       "      <td>0</td>\n",
       "      <td>1</td>\n",
       "      <td>8</td>\n",
       "      <td>0</td>\n",
       "      <td>0</td>\n",
       "      <td>1</td>\n",
       "      <td>0</td>\n",
       "      <td>0</td>\n",
       "      <td>...</td>\n",
       "      <td>4</td>\n",
       "      <td>4</td>\n",
       "      <td>3</td>\n",
       "      <td>8</td>\n",
       "      <td>0</td>\n",
       "      <td>1</td>\n",
       "      <td>0</td>\n",
       "      <td>0</td>\n",
       "      <td>0</td>\n",
       "      <td>0</td>\n",
       "    </tr>\n",
       "  </tbody>\n",
       "</table>\n",
       "<p>595212 rows × 59 columns</p>\n",
       "</div>"
      ],
      "text/plain": [
       "             id  target  ps_ind_01  ps_ind_02_cat  ps_ind_03  ps_ind_04_cat  \\\n",
       "0             7       0          2              2          5              1   \n",
       "1             9       0          1              1          7              0   \n",
       "2            13       0          5              4          9              1   \n",
       "3            16       0          0              1          2              0   \n",
       "4            17       0          0              2          0              1   \n",
       "...         ...     ...        ...            ...        ...            ...   \n",
       "595207  1488013       0          3              1         10              0   \n",
       "595208  1488016       0          5              1          3              0   \n",
       "595209  1488017       0          1              1         10              0   \n",
       "595210  1488021       0          5              2          3              1   \n",
       "595211  1488027       0          0              1          8              0   \n",
       "\n",
       "        ps_ind_05_cat  ps_ind_06_bin  ps_ind_07_bin  ps_ind_08_bin  ...  \\\n",
       "0                   0              0              1              0  ...   \n",
       "1                   0              0              0              1  ...   \n",
       "2                   0              0              0              1  ...   \n",
       "3                   0              1              0              0  ...   \n",
       "4                   0              1              0              0  ...   \n",
       "...               ...            ...            ...            ...  ...   \n",
       "595207              0              0              0              0  ...   \n",
       "595208              0              0              0              0  ...   \n",
       "595209              0              1              0              0  ...   \n",
       "595210              0              0              0              1  ...   \n",
       "595211              0              1              0              0  ...   \n",
       "\n",
       "        ps_calc_11  ps_calc_12  ps_calc_13  ps_calc_14  ps_calc_15_bin  \\\n",
       "0                9           1           5           8               0   \n",
       "1                3           1           1           9               0   \n",
       "2                4           2           7           7               0   \n",
       "3                2           2           4           9               0   \n",
       "4                3           1           1           3               0   \n",
       "...            ...         ...         ...         ...             ...   \n",
       "595207           4           1           9           6               0   \n",
       "595208           4           1           3           8               1   \n",
       "595209           3           2           2           6               0   \n",
       "595210           4           1           4           2               0   \n",
       "595211           4           4           3           8               0   \n",
       "\n",
       "        ps_calc_16_bin  ps_calc_17_bin  ps_calc_18_bin  ps_calc_19_bin  \\\n",
       "0                    1               1               0               0   \n",
       "1                    1               1               0               1   \n",
       "2                    1               1               0               1   \n",
       "3                    0               0               0               0   \n",
       "4                    0               0               1               1   \n",
       "...                ...             ...             ...             ...   \n",
       "595207               1               1               0               1   \n",
       "595208               0               1               0               1   \n",
       "595209               0               1               0               0   \n",
       "595210               1               1               1               0   \n",
       "595211               1               0               0               0   \n",
       "\n",
       "        ps_calc_20_bin  \n",
       "0                    1  \n",
       "1                    0  \n",
       "2                    0  \n",
       "3                    0  \n",
       "4                    0  \n",
       "...                ...  \n",
       "595207               1  \n",
       "595208               1  \n",
       "595209               0  \n",
       "595210               0  \n",
       "595211               0  \n",
       "\n",
       "[595212 rows x 59 columns]"
      ]
     },
     "execution_count": 3,
     "metadata": {},
     "output_type": "execute_result"
    }
   ],
   "source": [
    "train"
   ]
  },
  {
   "cell_type": "code",
   "execution_count": 4,
   "metadata": {},
   "outputs": [
    {
     "data": {
      "text/plain": [
       "0    0.963552\n",
       "1    0.036448\n",
       "Name: target, dtype: float64"
      ]
     },
     "execution_count": 4,
     "metadata": {},
     "output_type": "execute_result"
    }
   ],
   "source": [
    "train_label.value_counts()/train_label.count()"
   ]
  },
  {
   "cell_type": "markdown",
   "metadata": {},
   "source": [
    "## Khám phá dữ liệu"
   ]
  },
  {
   "cell_type": "code",
   "execution_count": 5,
   "metadata": {},
   "outputs": [],
   "source": [
    "y = train['target'].values\n",
    "drop_feature = [\n",
    "    'id',\n",
    "    'target'\n",
    "]\n",
    "\n",
    "X = train.drop(drop_feature,axis=1)\n",
    "feature_names = X.columns.tolist()\n",
    "cat_features = [c for c in feature_names if ('cat' in c and 'count' not in c)]\n",
    "num_features = [c for c in feature_names if ('cat' not in c and 'calc' not in c)]"
   ]
  },
  {
   "cell_type": "markdown",
   "metadata": {},
   "source": [
    "cat_features là các đặc trưng categorical..\n",
    "fddfdf"
   ]
  },
  {
   "cell_type": "code",
   "execution_count": 6,
   "metadata": {},
   "outputs": [
    {
     "data": {
      "text/plain": [
       "['ps_ind_01',\n",
       " 'ps_ind_03',\n",
       " 'ps_ind_06_bin',\n",
       " 'ps_ind_07_bin',\n",
       " 'ps_ind_08_bin',\n",
       " 'ps_ind_09_bin',\n",
       " 'ps_ind_10_bin',\n",
       " 'ps_ind_11_bin',\n",
       " 'ps_ind_12_bin',\n",
       " 'ps_ind_13_bin',\n",
       " 'ps_ind_14',\n",
       " 'ps_ind_15',\n",
       " 'ps_ind_16_bin',\n",
       " 'ps_ind_17_bin',\n",
       " 'ps_ind_18_bin',\n",
       " 'ps_reg_01',\n",
       " 'ps_reg_02',\n",
       " 'ps_reg_03',\n",
       " 'ps_car_11',\n",
       " 'ps_car_12',\n",
       " 'ps_car_13',\n",
       " 'ps_car_14',\n",
       " 'ps_car_15']"
      ]
     },
     "execution_count": 6,
     "metadata": {},
     "output_type": "execute_result"
    }
   ],
   "source": [
    "num_features"
   ]
  },
  {
   "cell_type": "code",
   "execution_count": 7,
   "metadata": {},
   "outputs": [
    {
     "data": {
      "text/plain": [
       "Index(['ps_calc_01', 'ps_calc_02', 'ps_calc_03', 'ps_calc_04', 'ps_calc_05',\n",
       "       'ps_calc_06', 'ps_calc_07', 'ps_calc_08', 'ps_calc_09', 'ps_calc_10',\n",
       "       'ps_calc_11', 'ps_calc_12', 'ps_calc_13', 'ps_calc_14',\n",
       "       'ps_calc_15_bin', 'ps_calc_16_bin', 'ps_calc_17_bin', 'ps_calc_18_bin',\n",
       "       'ps_calc_19_bin', 'ps_calc_20_bin', 'ps_car_01_cat', 'ps_car_02_cat',\n",
       "       'ps_car_03_cat', 'ps_car_04_cat', 'ps_car_05_cat', 'ps_car_06_cat',\n",
       "       'ps_car_07_cat', 'ps_car_08_cat', 'ps_car_09_cat', 'ps_car_10_cat',\n",
       "       'ps_car_11', 'ps_car_11_cat', 'ps_car_12', 'ps_car_13', 'ps_car_14',\n",
       "       'ps_car_15', 'ps_ind_01', 'ps_ind_02_cat', 'ps_ind_03', 'ps_ind_04_cat',\n",
       "       'ps_ind_05_cat', 'ps_ind_06_bin', 'ps_ind_07_bin', 'ps_ind_08_bin',\n",
       "       'ps_ind_09_bin', 'ps_ind_10_bin', 'ps_ind_11_bin', 'ps_ind_12_bin',\n",
       "       'ps_ind_13_bin', 'ps_ind_14', 'ps_ind_15', 'ps_ind_16_bin',\n",
       "       'ps_ind_17_bin', 'ps_ind_18_bin', 'ps_reg_01', 'ps_reg_02',\n",
       "       'ps_reg_03'],\n",
       "      dtype='object')"
      ]
     },
     "execution_count": 7,
     "metadata": {},
     "output_type": "execute_result"
    }
   ],
   "source": [
    "X.columns.sort_values()"
   ]
  },
  {
   "cell_type": "code",
   "execution_count": 8,
   "metadata": {},
   "outputs": [
    {
     "data": {
      "text/plain": [
       "calc    20\n",
       "ind     18\n",
       "car     16\n",
       "reg      3\n",
       "dtype: int64"
      ]
     },
     "execution_count": 8,
     "metadata": {},
     "output_type": "execute_result"
    }
   ],
   "source": [
    "X.columns.str.split(\"_\").str[1].value_counts()"
   ]
  },
  {
   "cell_type": "code",
   "execution_count": 9,
   "metadata": {},
   "outputs": [
    {
     "data": {
      "text/plain": [
       "[('ps_car_03_cat', 411231),\n",
       " ('ps_car_05_cat', 266551),\n",
       " ('ps_reg_03', 107772),\n",
       " ('ps_car_14', 42620),\n",
       " ('ps_car_07_cat', 11489),\n",
       " ('ps_ind_05_cat', 5809),\n",
       " ('ps_car_09_cat', 569),\n",
       " ('ps_ind_02_cat', 216),\n",
       " ('ps_car_01_cat', 107),\n",
       " ('ps_ind_04_cat', 83),\n",
       " ('ps_car_02_cat', 5),\n",
       " ('ps_car_11', 5),\n",
       " ('ps_car_12', 1)]"
      ]
     },
     "execution_count": 9,
     "metadata": {},
     "output_type": "execute_result"
    }
   ],
   "source": [
    "missing_col = []\n",
    "for col in X.columns:\n",
    "    if -1 in X[col].unique():\n",
    "        miss_count = (X[col] == -1).sum()\n",
    "        missing_col.append((col, miss_count))\n",
    "missing_col.sort(key = lambda x: x[1], reverse=True)\n",
    "missing_col"
   ]
  },
  {
   "cell_type": "code",
   "execution_count": 10,
   "metadata": {},
   "outputs": [
    {
     "data": {
      "text/plain": [
       "array([ 2,  1,  4,  3, -1], dtype=int64)"
      ]
     },
     "execution_count": 10,
     "metadata": {},
     "output_type": "execute_result"
    }
   ],
   "source": [
    "train[\"ps_ind_02_cat\"].unique()"
   ]
  },
  {
   "cell_type": "code",
   "execution_count": 11,
   "metadata": {},
   "outputs": [
    {
     "data": {
      "text/html": [
       "<div>\n",
       "<style scoped>\n",
       "    .dataframe tbody tr th:only-of-type {\n",
       "        vertical-align: middle;\n",
       "    }\n",
       "\n",
       "    .dataframe tbody tr th {\n",
       "        vertical-align: top;\n",
       "    }\n",
       "\n",
       "    .dataframe thead th {\n",
       "        text-align: right;\n",
       "    }\n",
       "</style>\n",
       "<table border=\"1\" class=\"dataframe\">\n",
       "  <thead>\n",
       "    <tr style=\"text-align: right;\">\n",
       "      <th></th>\n",
       "      <th>target</th>\n",
       "    </tr>\n",
       "    <tr>\n",
       "      <th>ps_ind_02_cat</th>\n",
       "      <th></th>\n",
       "    </tr>\n",
       "  </thead>\n",
       "  <tbody>\n",
       "    <tr>\n",
       "      <th>-1</th>\n",
       "      <td>40</td>\n",
       "    </tr>\n",
       "    <tr>\n",
       "      <th>1</th>\n",
       "      <td>15428</td>\n",
       "    </tr>\n",
       "    <tr>\n",
       "      <th>2</th>\n",
       "      <td>4713</td>\n",
       "    </tr>\n",
       "    <tr>\n",
       "      <th>3</th>\n",
       "      <td>1049</td>\n",
       "    </tr>\n",
       "    <tr>\n",
       "      <th>4</th>\n",
       "      <td>464</td>\n",
       "    </tr>\n",
       "  </tbody>\n",
       "</table>\n",
       "</div>"
      ],
      "text/plain": [
       "               target\n",
       "ps_ind_02_cat        \n",
       "-1                 40\n",
       " 1              15428\n",
       " 2               4713\n",
       " 3               1049\n",
       " 4                464"
      ]
     },
     "execution_count": 11,
     "metadata": {},
     "output_type": "execute_result"
    }
   ],
   "source": [
    "train[[\"ps_ind_02_cat\", \"target\"]].groupby(\"ps_ind_02_cat\").sum()"
   ]
  },
  {
   "cell_type": "code",
   "execution_count": 12,
   "metadata": {},
   "outputs": [
    {
     "data": {
      "image/png": "[encoded data removed]",
      "text/plain": [
       "<Figure size 432x288 with 1 Axes>"
      ]
     },
     "metadata": {
      "needs_background": "light"
     },
     "output_type": "display_data"
    },
    {
     "data": {
      "image/png": "[encoded data removed]",
      "text/plain": [
       "<Figure size 432x288 with 1 Axes>"
      ]
     },
     "metadata": {
      "needs_background": "light"
     },
     "output_type": "display_data"
    },
    {
     "data": {
      "image/png": "[encoded data removed]",
      "text/plain": [
       "<Figure size 432x288 with 1 Axes>"
      ]
     },
     "metadata": {
      "needs_background": "light"
     },
     "output_type": "display_data"
    },
    {
     "data": {
      "image/png": "[encoded data removed]",
      "text/plain": [
       "<Figure size 432x288 with 1 Axes>"
      ]
     },
     "metadata": {
      "needs_background": "light"
     },
     "output_type": "display_data"
    },
    {
     "data": {
      "image/png": "[encoded data removed]",
      "text/plain": [
       "<Figure size 432x288 with 1 Axes>"
      ]
     },
     "metadata": {
      "needs_background": "light"
     },
     "output_type": "display_data"
    },
    {
     "data": {
      "image/png": "[encoded data removed]",
      "text/plain": [
       "<Figure size 432x288 with 1 Axes>"
      ]
     },
     "metadata": {
      "needs_background": "light"
     },
     "output_type": "display_data"
    },
    {
     "data": {
      "image/png": "[encoded data removed]",
      "text/plain": [
       "<Figure size 432x288 with 1 Axes>"
      ]
     },
     "metadata": {
      "needs_background": "light"
     },
     "output_type": "display_data"
    },
    {
     "data": {
      "image/png": "[encoded data removed]",
      "text/plain": [
       "<Figure size 432x288 with 1 Axes>"
      ]
     },
     "metadata": {
      "needs_background": "light"
     },
     "output_type": "display_data"
    },
    {
     "data": {
      "image/png": "[encoded data removed]",
      "text/plain": [
       "<Figure size 432x288 with 1 Axes>"
      ]
     },
     "metadata": {
      "needs_background": "light"
     },
     "output_type": "display_data"
    },
    {
     "data": {
      "image/png": "[encoded data removed]",
      "text/plain": [
       "<Figure size 432x288 with 1 Axes>"
      ]
     },
     "metadata": {
      "needs_background": "light"
     },
     "output_type": "display_data"
    },
    {
     "data": {
      "image/png": "[encoded data removed]",
      "text/plain": [
       "<Figure size 432x288 with 1 Axes>"
      ]
     },
     "metadata": {
      "needs_background": "light"
     },
     "output_type": "display_data"
    },
    {
     "data": {
      "image/png": "[encoded data removed]",
      "text/plain": [
       "<Figure size 432x288 with 1 Axes>"
      ]
     },
     "metadata": {
      "needs_background": "light"
     },
     "output_type": "display_data"
    },
    {
     "data": {
      "image/png": "[encoded data removed]",
      "text/plain": [
       "<Figure size 432x288 with 1 Axes>"
      ]
     },
     "metadata": {
      "needs_background": "light"
     },
     "output_type": "display_data"
    },
    {
     "data": {
      "image/png": "[encoded data removed]",
      "text/plain": [
       "<Figure size 432x288 with 1 Axes>"
      ]
     },
     "metadata": {
      "needs_background": "light"
     },
     "output_type": "display_data"
    }
   ],
   "source": [
    "for col in cat_features:\n",
    "    train[[col, \"target\"]].groupby(col).mean().plot.bar()\n",
    "plt.show()"
   ]
  },
  {
   "cell_type": "markdown",
   "metadata": {},
   "source": [
    "As we can see from the variables **with missing values**, it is a good idea to keep the missing values as a separate category value, instead of replacing them by the mode for instance. The customers with a missing value appear to have a much higher (in some cases much lower) probability to ask for an insurance claim."
   ]
  },
  {
   "cell_type": "markdown",
   "metadata": {},
   "source": [
    "## Feature engineer\n",
    "* Loại bỏ tất cả đặc trưng `calc`\n",
    "* Thêm đặc trưng: Số lượng giá trị thiếu mỗi dòng\n",
    "* Mã hóa one hot với các đặc trưng `cat`\n",
    "* Gộp các đặc trưng `ind` làm một: `new_ind`\n",
    "* Đếm các đặc trưng `cat` kể cả `new_ind`"
   ]
  },
  {
   "cell_type": "markdown",
   "metadata": {},
   "source": [
    "### Số lượng giá trị thiếu mỗi dòng"
   ]
  },
  {
   "cell_type": "code",
   "execution_count": 13,
   "metadata": {},
   "outputs": [],
   "source": [
    "train['missing'] = (train==-1).sum(axis=1).astype(float)\n",
    "test['missing'] = (test==-1).sum(axis=1).astype(float)\n",
    "num_features.append('missing')"
   ]
  },
  {
   "cell_type": "code",
   "execution_count": 14,
   "metadata": {},
   "outputs": [
    {
     "data": {
      "text/plain": [
       "2.0    254982\n",
       "1.0    156295\n",
       "0.0    124931\n",
       "3.0     56042\n",
       "4.0      2883\n",
       "7.0        53\n",
       "6.0        19\n",
       "8.0         7\n",
       "Name: missing, dtype: int64"
      ]
     },
     "execution_count": 14,
     "metadata": {},
     "output_type": "execute_result"
    }
   ],
   "source": [
    "train[\"missing\"].value_counts()"
   ]
  },
  {
   "cell_type": "code",
   "execution_count": 15,
   "metadata": {},
   "outputs": [
    {
     "data": {
      "text/plain": [
       "<AxesSubplot:xlabel='missing'>"
      ]
     },
     "execution_count": 15,
     "metadata": {},
     "output_type": "execute_result"
    },
    {
     "data": {
      "image/png": "[encoded data removed]",
      "text/plain": [
       "<Figure size 432x288 with 1 Axes>"
      ]
     },
     "metadata": {
      "needs_background": "light"
     },
     "output_type": "display_data"
    }
   ],
   "source": [
    "train[[\"missing\", \"target\"]].groupby(\"missing\").mean().plot.bar()"
   ]
  },
  {
   "cell_type": "markdown",
   "metadata": {},
   "source": [
    "### Chuyển các đặc trưng categorical sang one hot"
   ]
  },
  {
   "cell_type": "code",
   "execution_count": 16,
   "metadata": {},
   "outputs": [],
   "source": [
    "for c in cat_features:\n",
    "    le = LabelEncoder()\n",
    "    le.fit(train[c])\n",
    "    train[c] = le.transform(train[c])\n",
    "    test[c] = le.transform(test[c])\n",
    "\n",
    "enc = OneHotEncoder()\n",
    "enc.fit(train[cat_features])\n",
    "X_cat = enc.transform(train[cat_features])\n",
    "X_t_cat = enc.transform(test[cat_features])"
   ]
  },
  {
   "cell_type": "code",
   "execution_count": 17,
   "metadata": {},
   "outputs": [
    {
     "data": {
      "text/html": [
       "<div>\n",
       "<style scoped>\n",
       "    .dataframe tbody tr th:only-of-type {\n",
       "        vertical-align: middle;\n",
       "    }\n",
       "\n",
       "    .dataframe tbody tr th {\n",
       "        vertical-align: top;\n",
       "    }\n",
       "\n",
       "    .dataframe thead th {\n",
       "        text-align: right;\n",
       "    }\n",
       "</style>\n",
       "<table border=\"1\" class=\"dataframe\">\n",
       "  <thead>\n",
       "    <tr style=\"text-align: right;\">\n",
       "      <th></th>\n",
       "      <th>ps_ind_02_cat</th>\n",
       "      <th>ps_ind_04_cat</th>\n",
       "      <th>ps_ind_05_cat</th>\n",
       "      <th>ps_car_01_cat</th>\n",
       "      <th>ps_car_02_cat</th>\n",
       "      <th>ps_car_03_cat</th>\n",
       "      <th>ps_car_04_cat</th>\n",
       "      <th>ps_car_05_cat</th>\n",
       "      <th>ps_car_06_cat</th>\n",
       "      <th>ps_car_07_cat</th>\n",
       "      <th>ps_car_08_cat</th>\n",
       "      <th>ps_car_09_cat</th>\n",
       "      <th>ps_car_10_cat</th>\n",
       "      <th>ps_car_11_cat</th>\n",
       "    </tr>\n",
       "  </thead>\n",
       "  <tbody>\n",
       "    <tr>\n",
       "      <th>count</th>\n",
       "      <td>595212.000000</td>\n",
       "      <td>595212.000000</td>\n",
       "      <td>595212.000000</td>\n",
       "      <td>595212.000000</td>\n",
       "      <td>595212.000000</td>\n",
       "      <td>595212.000000</td>\n",
       "      <td>595212.000000</td>\n",
       "      <td>595212.000000</td>\n",
       "      <td>595212.000000</td>\n",
       "      <td>595212.000000</td>\n",
       "      <td>595212.000000</td>\n",
       "      <td>595212.000000</td>\n",
       "      <td>595212.000000</td>\n",
       "      <td>595212.000000</td>\n",
       "    </tr>\n",
       "    <tr>\n",
       "      <th>mean</th>\n",
       "      <td>1.359306</td>\n",
       "      <td>1.416794</td>\n",
       "      <td>1.405188</td>\n",
       "      <td>9.295933</td>\n",
       "      <td>1.829931</td>\n",
       "      <td>0.495101</td>\n",
       "      <td>0.725192</td>\n",
       "      <td>0.842268</td>\n",
       "      <td>6.555340</td>\n",
       "      <td>1.910027</td>\n",
       "      <td>0.832080</td>\n",
       "      <td>2.328890</td>\n",
       "      <td>0.992136</td>\n",
       "      <td>61.215674</td>\n",
       "    </tr>\n",
       "    <tr>\n",
       "      <th>std</th>\n",
       "      <td>0.663578</td>\n",
       "      <td>0.493311</td>\n",
       "      <td>1.350642</td>\n",
       "      <td>2.508270</td>\n",
       "      <td>0.375716</td>\n",
       "      <td>0.788654</td>\n",
       "      <td>2.153463</td>\n",
       "      <td>0.844417</td>\n",
       "      <td>5.501445</td>\n",
       "      <td>0.347106</td>\n",
       "      <td>0.373796</td>\n",
       "      <td>0.978747</td>\n",
       "      <td>0.091619</td>\n",
       "      <td>33.012455</td>\n",
       "    </tr>\n",
       "    <tr>\n",
       "      <th>min</th>\n",
       "      <td>0.000000</td>\n",
       "      <td>0.000000</td>\n",
       "      <td>0.000000</td>\n",
       "      <td>0.000000</td>\n",
       "      <td>0.000000</td>\n",
       "      <td>0.000000</td>\n",
       "      <td>0.000000</td>\n",
       "      <td>0.000000</td>\n",
       "      <td>0.000000</td>\n",
       "      <td>0.000000</td>\n",
       "      <td>0.000000</td>\n",
       "      <td>0.000000</td>\n",
       "      <td>0.000000</td>\n",
       "      <td>0.000000</td>\n",
       "    </tr>\n",
       "    <tr>\n",
       "      <th>25%</th>\n",
       "      <td>1.000000</td>\n",
       "      <td>1.000000</td>\n",
       "      <td>1.000000</td>\n",
       "      <td>8.000000</td>\n",
       "      <td>2.000000</td>\n",
       "      <td>0.000000</td>\n",
       "      <td>0.000000</td>\n",
       "      <td>0.000000</td>\n",
       "      <td>1.000000</td>\n",
       "      <td>2.000000</td>\n",
       "      <td>1.000000</td>\n",
       "      <td>1.000000</td>\n",
       "      <td>1.000000</td>\n",
       "      <td>31.000000</td>\n",
       "    </tr>\n",
       "    <tr>\n",
       "      <th>50%</th>\n",
       "      <td>1.000000</td>\n",
       "      <td>1.000000</td>\n",
       "      <td>1.000000</td>\n",
       "      <td>8.000000</td>\n",
       "      <td>2.000000</td>\n",
       "      <td>0.000000</td>\n",
       "      <td>0.000000</td>\n",
       "      <td>1.000000</td>\n",
       "      <td>7.000000</td>\n",
       "      <td>2.000000</td>\n",
       "      <td>1.000000</td>\n",
       "      <td>3.000000</td>\n",
       "      <td>1.000000</td>\n",
       "      <td>64.000000</td>\n",
       "    </tr>\n",
       "    <tr>\n",
       "      <th>75%</th>\n",
       "      <td>2.000000</td>\n",
       "      <td>2.000000</td>\n",
       "      <td>1.000000</td>\n",
       "      <td>12.000000</td>\n",
       "      <td>2.000000</td>\n",
       "      <td>1.000000</td>\n",
       "      <td>0.000000</td>\n",
       "      <td>2.000000</td>\n",
       "      <td>11.000000</td>\n",
       "      <td>2.000000</td>\n",
       "      <td>1.000000</td>\n",
       "      <td>3.000000</td>\n",
       "      <td>1.000000</td>\n",
       "      <td>92.000000</td>\n",
       "    </tr>\n",
       "    <tr>\n",
       "      <th>max</th>\n",
       "      <td>4.000000</td>\n",
       "      <td>2.000000</td>\n",
       "      <td>7.000000</td>\n",
       "      <td>12.000000</td>\n",
       "      <td>2.000000</td>\n",
       "      <td>2.000000</td>\n",
       "      <td>9.000000</td>\n",
       "      <td>2.000000</td>\n",
       "      <td>17.000000</td>\n",
       "      <td>2.000000</td>\n",
       "      <td>1.000000</td>\n",
       "      <td>5.000000</td>\n",
       "      <td>2.000000</td>\n",
       "      <td>103.000000</td>\n",
       "    </tr>\n",
       "  </tbody>\n",
       "</table>\n",
       "</div>"
      ],
      "text/plain": [
       "       ps_ind_02_cat  ps_ind_04_cat  ps_ind_05_cat  ps_car_01_cat  \\\n",
       "count  595212.000000  595212.000000  595212.000000  595212.000000   \n",
       "mean        1.359306       1.416794       1.405188       9.295933   \n",
       "std         0.663578       0.493311       1.350642       2.508270   \n",
       "min         0.000000       0.000000       0.000000       0.000000   \n",
       "25%         1.000000       1.000000       1.000000       8.000000   \n",
       "50%         1.000000       1.000000       1.000000       8.000000   \n",
       "75%         2.000000       2.000000       1.000000      12.000000   \n",
       "max         4.000000       2.000000       7.000000      12.000000   \n",
       "\n",
       "       ps_car_02_cat  ps_car_03_cat  ps_car_04_cat  ps_car_05_cat  \\\n",
       "count  595212.000000  595212.000000  595212.000000  595212.000000   \n",
       "mean        1.829931       0.495101       0.725192       0.842268   \n",
       "std         0.375716       0.788654       2.153463       0.844417   \n",
       "min         0.000000       0.000000       0.000000       0.000000   \n",
       "25%         2.000000       0.000000       0.000000       0.000000   \n",
       "50%         2.000000       0.000000       0.000000       1.000000   \n",
       "75%         2.000000       1.000000       0.000000       2.000000   \n",
       "max         2.000000       2.000000       9.000000       2.000000   \n",
       "\n",
       "       ps_car_06_cat  ps_car_07_cat  ps_car_08_cat  ps_car_09_cat  \\\n",
       "count  595212.000000  595212.000000  595212.000000  595212.000000   \n",
       "mean        6.555340       1.910027       0.832080       2.328890   \n",
       "std         5.501445       0.347106       0.373796       0.978747   \n",
       "min         0.000000       0.000000       0.000000       0.000000   \n",
       "25%         1.000000       2.000000       1.000000       1.000000   \n",
       "50%         7.000000       2.000000       1.000000       3.000000   \n",
       "75%        11.000000       2.000000       1.000000       3.000000   \n",
       "max        17.000000       2.000000       1.000000       5.000000   \n",
       "\n",
       "       ps_car_10_cat  ps_car_11_cat  \n",
       "count  595212.000000  595212.000000  \n",
       "mean        0.992136      61.215674  \n",
       "std         0.091619      33.012455  \n",
       "min         0.000000       0.000000  \n",
       "25%         1.000000      31.000000  \n",
       "50%         1.000000      64.000000  \n",
       "75%         1.000000      92.000000  \n",
       "max         2.000000     103.000000  "
      ]
     },
     "execution_count": 17,
     "metadata": {},
     "output_type": "execute_result"
    }
   ],
   "source": [
    "train[cat_features].describe()"
   ]
  },
  {
   "cell_type": "code",
   "execution_count": 18,
   "metadata": {},
   "outputs": [
    {
     "data": {
      "text/plain": [
       "['ps_ind_02_cat',\n",
       " 'ps_ind_04_cat',\n",
       " 'ps_ind_05_cat',\n",
       " 'ps_car_01_cat',\n",
       " 'ps_car_02_cat',\n",
       " 'ps_car_03_cat',\n",
       " 'ps_car_04_cat',\n",
       " 'ps_car_05_cat',\n",
       " 'ps_car_06_cat',\n",
       " 'ps_car_07_cat',\n",
       " 'ps_car_08_cat',\n",
       " 'ps_car_09_cat',\n",
       " 'ps_car_10_cat',\n",
       " 'ps_car_11_cat']"
      ]
     },
     "execution_count": 18,
     "metadata": {},
     "output_type": "execute_result"
    }
   ],
   "source": [
    "cat_features"
   ]
  },
  {
   "cell_type": "markdown",
   "metadata": {},
   "source": [
    "### Gộp các đặc trưng `ind` làm một"
   ]
  },
  {
   "cell_type": "code",
   "execution_count": 19,
   "metadata": {},
   "outputs": [],
   "source": [
    "ind_features = [c for c in feature_names if 'ind' in c]\n",
    "count=0\n",
    "for c in ind_features:\n",
    "    if count==0:\n",
    "        train['new_ind'] = train[c].astype(str)+'_'\n",
    "        test['new_ind'] = test[c].astype(str)+'_'\n",
    "        count+=1\n",
    "    else:\n",
    "        train['new_ind'] += train[c].astype(str)+'_'\n",
    "        test['new_ind'] += test[c].astype(str)+'_'"
   ]
  },
  {
   "cell_type": "markdown",
   "metadata": {},
   "source": [
    "Gộp các đặc trừng ind lại làm một đặc trưng mới. Các đặc trưng này sẽ được đếm số lần xuất hiện trong data.\n",
    "Những người có bộ đặc trưng individual giống nhau thì sẽ có cùng giá trị `new_ind`\n",
    "new_ind chỉ lấy count"
   ]
  },
  {
   "cell_type": "code",
   "execution_count": 20,
   "metadata": {},
   "outputs": [
    {
     "data": {
      "text/plain": [
       "0          2_2_5_2_1_0_1_0_0_0_0_0_0_0_11_0_1_0_\n",
       "1           1_1_7_1_1_0_0_1_0_0_0_0_0_0_3_0_0_1_\n",
       "2          5_4_9_2_1_0_0_1_0_0_0_0_0_0_12_1_0_0_\n",
       "3           0_1_2_1_1_1_0_0_0_0_0_0_0_0_8_1_0_0_\n",
       "4           0_2_0_2_1_1_0_0_0_0_0_0_0_0_9_1_0_0_\n",
       "                           ...                  \n",
       "595207    3_1_10_1_1_0_0_0_1_0_0_0_0_0_13_1_0_0_\n",
       "595208      5_1_3_1_1_0_0_0_1_0_0_0_0_0_6_1_0_0_\n",
       "595209    1_1_10_1_1_1_0_0_0_0_0_0_0_0_12_1_0_0_\n",
       "595210     5_2_3_2_1_0_0_1_0_0_0_0_0_0_12_1_0_0_\n",
       "595211      0_1_8_1_1_1_0_0_0_0_0_0_0_0_7_1_0_0_\n",
       "Name: new_ind, Length: 595212, dtype: object"
      ]
     },
     "execution_count": 20,
     "metadata": {},
     "output_type": "execute_result"
    }
   ],
   "source": [
    "train[\"new_ind\"]"
   ]
  },
  {
   "cell_type": "markdown",
   "metadata": {},
   "source": [
    "### Đếm các đặc trưng `cat` kể cả `new_ind`"
   ]
  },
  {
   "cell_type": "markdown",
   "metadata": {},
   "source": [
    "đếm số lượng giá trị trên tập train + test -> để có thống kê rộng hơn"
   ]
  },
  {
   "cell_type": "code",
   "execution_count": 21,
   "metadata": {},
   "outputs": [],
   "source": [
    "cat_count_features = []\n",
    "for c in cat_features+['new_ind']:\n",
    "    d = pd.concat([train[c],test[c]]).value_counts().to_dict()\n",
    "    train['%s_count'%c] = train[c].apply(lambda x:d.get(x,0))\n",
    "    test['%s_count'%c] = test[c].apply(lambda x:d.get(x,0))\n",
    "    cat_count_features.append('%s_count'%c)"
   ]
  },
  {
   "cell_type": "code",
   "execution_count": 22,
   "metadata": {},
   "outputs": [
    {
     "data": {
      "text/plain": [
       "['ps_ind_02_cat_count',\n",
       " 'ps_ind_04_cat_count',\n",
       " 'ps_ind_05_cat_count',\n",
       " 'ps_car_01_cat_count',\n",
       " 'ps_car_02_cat_count',\n",
       " 'ps_car_03_cat_count',\n",
       " 'ps_car_04_cat_count',\n",
       " 'ps_car_05_cat_count',\n",
       " 'ps_car_06_cat_count',\n",
       " 'ps_car_07_cat_count',\n",
       " 'ps_car_08_cat_count',\n",
       " 'ps_car_09_cat_count',\n",
       " 'ps_car_10_cat_count',\n",
       " 'ps_car_11_cat_count',\n",
       " 'new_ind_count']"
      ]
     },
     "execution_count": 22,
     "metadata": {},
     "output_type": "execute_result"
    }
   ],
   "source": [
    "cat_count_features"
   ]
  },
  {
   "cell_type": "code",
   "execution_count": 23,
   "metadata": {},
   "outputs": [
    {
     "data": {
      "text/html": [
       "<div>\n",
       "<style scoped>\n",
       "    .dataframe tbody tr th:only-of-type {\n",
       "        vertical-align: middle;\n",
       "    }\n",
       "\n",
       "    .dataframe tbody tr th {\n",
       "        vertical-align: top;\n",
       "    }\n",
       "\n",
       "    .dataframe thead th {\n",
       "        text-align: right;\n",
       "    }\n",
       "</style>\n",
       "<table border=\"1\" class=\"dataframe\">\n",
       "  <thead>\n",
       "    <tr style=\"text-align: right;\">\n",
       "      <th></th>\n",
       "      <th>new_ind_count</th>\n",
       "      <th>target</th>\n",
       "    </tr>\n",
       "  </thead>\n",
       "  <tbody>\n",
       "    <tr>\n",
       "      <th>new_ind_count</th>\n",
       "      <td>1.000000</td>\n",
       "      <td>-0.026704</td>\n",
       "    </tr>\n",
       "    <tr>\n",
       "      <th>target</th>\n",
       "      <td>-0.026704</td>\n",
       "      <td>1.000000</td>\n",
       "    </tr>\n",
       "  </tbody>\n",
       "</table>\n",
       "</div>"
      ],
      "text/plain": [
       "               new_ind_count    target\n",
       "new_ind_count       1.000000 -0.026704\n",
       "target             -0.026704  1.000000"
      ]
     },
     "execution_count": 23,
     "metadata": {},
     "output_type": "execute_result"
    }
   ],
   "source": [
    "train[[\"new_ind_count\", \"target\"]].corr()"
   ]
  },
  {
   "cell_type": "code",
   "execution_count": 24,
   "metadata": {},
   "outputs": [
    {
     "data": {
      "text/plain": [
       "<AxesSubplot:xlabel='ps_car_09_cat_count'>"
      ]
     },
     "execution_count": 24,
     "metadata": {},
     "output_type": "execute_result"
    },
    {
     "data": {
      "image/png": "[encoded data removed]",
      "text/plain": [
       "<Figure size 432x288 with 1 Axes>"
      ]
     },
     "metadata": {
      "needs_background": "light"
     },
     "output_type": "display_data"
    }
   ],
   "source": [
    "train[[\"ps_car_09_cat_count\", \"target\"]].groupby(\"ps_car_09_cat_count\").mean().plot.bar()"
   ]
  },
  {
   "cell_type": "code",
   "execution_count": 25,
   "metadata": {},
   "outputs": [
    {
     "data": {
      "text/html": [
       "<div>\n",
       "<style scoped>\n",
       "    .dataframe tbody tr th:only-of-type {\n",
       "        vertical-align: middle;\n",
       "    }\n",
       "\n",
       "    .dataframe tbody tr th {\n",
       "        vertical-align: top;\n",
       "    }\n",
       "\n",
       "    .dataframe thead th {\n",
       "        text-align: right;\n",
       "    }\n",
       "</style>\n",
       "<table border=\"1\" class=\"dataframe\">\n",
       "  <thead>\n",
       "    <tr style=\"text-align: right;\">\n",
       "      <th></th>\n",
       "      <th>ps_reg_02</th>\n",
       "      <th>target</th>\n",
       "    </tr>\n",
       "  </thead>\n",
       "  <tbody>\n",
       "    <tr>\n",
       "      <th>ps_reg_02</th>\n",
       "      <td>1.0000</td>\n",
       "      <td>0.0348</td>\n",
       "    </tr>\n",
       "    <tr>\n",
       "      <th>target</th>\n",
       "      <td>0.0348</td>\n",
       "      <td>1.0000</td>\n",
       "    </tr>\n",
       "  </tbody>\n",
       "</table>\n",
       "</div>"
      ],
      "text/plain": [
       "           ps_reg_02  target\n",
       "ps_reg_02     1.0000  0.0348\n",
       "target        0.0348  1.0000"
      ]
     },
     "execution_count": 25,
     "metadata": {},
     "output_type": "execute_result"
    }
   ],
   "source": [
    "train[[\"ps_reg_02\", \"target\"]].corr()"
   ]
  },
  {
   "cell_type": "code",
   "execution_count": 26,
   "metadata": {},
   "outputs": [
    {
     "data": {
      "text/plain": [
       "<AxesSubplot:xlabel='ps_car_10_cat'>"
      ]
     },
     "execution_count": 26,
     "metadata": {},
     "output_type": "execute_result"
    },
    {
     "data": {
      "image/png": "[encoded data removed]",
      "text/plain": [
       "<Figure size 432x288 with 1 Axes>"
      ]
     },
     "metadata": {
      "needs_background": "light"
     },
     "output_type": "display_data"
    }
   ],
   "source": [
    "train[[\"ps_car_10_cat\", \"target\"]].groupby(\"ps_car_10_cat\").mean().plot.bar()"
   ]
  },
  {
   "cell_type": "code",
   "execution_count": 27,
   "metadata": {},
   "outputs": [
    {
     "data": {
      "text/plain": [
       "<matplotlib.image.AxesImage at 0x174268090a0>"
      ]
     },
     "execution_count": 27,
     "metadata": {},
     "output_type": "execute_result"
    },
    {
     "data": {
      "image/png": "[encoded data removed]",
      "text/plain": [
       "<Figure size 432x288 with 1 Axes>"
      ]
     },
     "metadata": {
      "needs_background": "light"
     },
     "output_type": "display_data"
    }
   ],
   "source": [
    "plt.imshow(train[num_features+[\"target\"]].corr(), cmap=\"RdBu\")\n",
    "#plt.colormaps()"
   ]
  },
  {
   "cell_type": "code",
   "execution_count": 28,
   "metadata": {},
   "outputs": [],
   "source": [
    "tmp = train[num_features+[\"target\"]].corr()"
   ]
  },
  {
   "cell_type": "code",
   "execution_count": 29,
   "metadata": {},
   "outputs": [
    {
     "data": {
      "text/plain": [
       "ps_ind_01        0.018570\n",
       "ps_ind_03        0.008360\n",
       "ps_ind_06_bin   -0.034017\n",
       "ps_ind_07_bin    0.034218\n",
       "ps_ind_08_bin    0.013147\n",
       "ps_ind_09_bin   -0.008237\n",
       "ps_ind_10_bin    0.001815\n",
       "ps_ind_11_bin    0.002028\n",
       "ps_ind_12_bin    0.007810\n",
       "ps_ind_13_bin    0.002460\n",
       "ps_ind_14        0.007443\n",
       "ps_ind_15       -0.021506\n",
       "ps_ind_16_bin   -0.027778\n",
       "ps_ind_17_bin    0.037053\n",
       "ps_ind_18_bin    0.004555\n",
       "ps_reg_01        0.022888\n",
       "ps_reg_02        0.034800\n",
       "ps_reg_03        0.030888\n",
       "ps_car_11       -0.001213\n",
       "ps_car_12        0.038790\n",
       "ps_car_13        0.053899\n",
       "ps_car_14       -0.004474\n",
       "ps_car_15        0.027667\n",
       "missing         -0.025020\n",
       "target           1.000000\n",
       "Name: target, dtype: float64"
      ]
     },
     "execution_count": 29,
     "metadata": {},
     "output_type": "execute_result"
    }
   ],
   "source": [
    "tmp[\"target\"]"
   ]
  },
  {
   "cell_type": "code",
   "execution_count": 30,
   "metadata": {},
   "outputs": [
    {
     "data": {
      "text/plain": [
       "<AxesSubplot:>"
      ]
     },
     "execution_count": 30,
     "metadata": {},
     "output_type": "execute_result"
    },
    {
     "data": {
      "image/png": "[encoded data removed]",
      "text/plain": [
       "<Figure size 432x288 with 1 Axes>"
      ]
     },
     "metadata": {
      "needs_background": "light"
     },
     "output_type": "display_data"
    }
   ],
   "source": [
    "train[\"missing\"].hist()"
   ]
  },
  {
   "cell_type": "markdown",
   "metadata": {},
   "source": [
    "### Dữ liệu cuối"
   ]
  },
  {
   "cell_type": "code",
   "execution_count": 31,
   "metadata": {},
   "outputs": [
    {
     "data": {
      "text/plain": [
       "[array([[2.00000e+00, 5.00000e+00, 0.00000e+00, ..., 1.47546e+06,\n",
       "         1.83260e+04, 6.00000e+00],\n",
       "        [1.00000e+00, 7.00000e+00, 0.00000e+00, ..., 1.47546e+06,\n",
       "         1.25350e+04, 3.60000e+01],\n",
       "        [5.00000e+00, 9.00000e+00, 0.00000e+00, ..., 1.47546e+06,\n",
       "         1.99430e+04, 2.40000e+01],\n",
       "        ...,\n",
       "        [1.00000e+00, 1.00000e+01, 1.00000e+00, ..., 1.47546e+06,\n",
       "         1.31430e+04, 3.82000e+02],\n",
       "        [5.00000e+00, 3.00000e+00, 0.00000e+00, ..., 1.47546e+06,\n",
       "         1.84160e+04, 6.50000e+01],\n",
       "        [0.00000e+00, 8.00000e+00, 1.00000e+00, ..., 1.47546e+06,\n",
       "         1.17740e+04, 6.99000e+02]]),\n",
       " <595212x184 sparse matrix of type '<class 'numpy.float64'>'\n",
       " \twith 8332968 stored elements in Compressed Sparse Row format>]"
      ]
     },
     "execution_count": 31,
     "metadata": {},
     "output_type": "execute_result"
    }
   ],
   "source": [
    "train_list = [train[num_features+cat_count_features].values,X_cat,]\n",
    "train_list"
   ]
  },
  {
   "cell_type": "code",
   "execution_count": 32,
   "metadata": {},
   "outputs": [
    {
     "data": {
      "text/plain": [
       "['ps_ind_01',\n",
       " 'ps_ind_03',\n",
       " 'ps_ind_06_bin',\n",
       " 'ps_ind_07_bin',\n",
       " 'ps_ind_08_bin',\n",
       " 'ps_ind_09_bin',\n",
       " 'ps_ind_10_bin',\n",
       " 'ps_ind_11_bin',\n",
       " 'ps_ind_12_bin',\n",
       " 'ps_ind_13_bin',\n",
       " 'ps_ind_14',\n",
       " 'ps_ind_15',\n",
       " 'ps_ind_16_bin',\n",
       " 'ps_ind_17_bin',\n",
       " 'ps_ind_18_bin',\n",
       " 'ps_reg_01',\n",
       " 'ps_reg_02',\n",
       " 'ps_reg_03',\n",
       " 'ps_car_11',\n",
       " 'ps_car_12',\n",
       " 'ps_car_13',\n",
       " 'ps_car_14',\n",
       " 'ps_car_15',\n",
       " 'missing',\n",
       " 'ps_ind_02_cat_count',\n",
       " 'ps_ind_04_cat_count',\n",
       " 'ps_ind_05_cat_count',\n",
       " 'ps_car_01_cat_count',\n",
       " 'ps_car_02_cat_count',\n",
       " 'ps_car_03_cat_count',\n",
       " 'ps_car_04_cat_count',\n",
       " 'ps_car_05_cat_count',\n",
       " 'ps_car_06_cat_count',\n",
       " 'ps_car_07_cat_count',\n",
       " 'ps_car_08_cat_count',\n",
       " 'ps_car_09_cat_count',\n",
       " 'ps_car_10_cat_count',\n",
       " 'ps_car_11_cat_count',\n",
       " 'new_ind_count']"
      ]
     },
     "execution_count": 32,
     "metadata": {},
     "output_type": "execute_result"
    }
   ],
   "source": [
    "num_features+cat_count_features"
   ]
  },
  {
   "cell_type": "markdown",
   "metadata": {},
   "source": [
    "Kế hoạch tiếp theo:\n",
    "    - Tự code lại feature_engi \n",
    "    - Tìm hiểu về xgboost\n",
    "    - Tìm hiểu về lightGBM và NN"
   ]
  },
  {
   "cell_type": "code",
   "execution_count": 33,
   "metadata": {},
   "outputs": [
    {
     "data": {
      "text/plain": [
       "[array([[0.00000e+00, 8.00000e+00, 0.00000e+00, ..., 1.47546e+06,\n",
       "         2.78000e+04, 1.64000e+02],\n",
       "        [4.00000e+00, 5.00000e+00, 0.00000e+00, ..., 1.47546e+06,\n",
       "         6.10620e+04, 8.00000e+00],\n",
       "        [5.00000e+00, 3.00000e+00, 0.00000e+00, ..., 1.47546e+06,\n",
       "         1.09570e+04, 5.70000e+01],\n",
       "        ...,\n",
       "        [0.00000e+00, 5.00000e+00, 1.00000e+00, ..., 1.47546e+06,\n",
       "         9.72500e+03, 2.58000e+02],\n",
       "        [6.00000e+00, 5.00000e+00, 0.00000e+00, ..., 1.47546e+06,\n",
       "         3.13440e+04, 3.70000e+01],\n",
       "        [7.00000e+00, 4.00000e+00, 0.00000e+00, ..., 1.47546e+06,\n",
       "         1.51980e+04, 6.70000e+01]]),\n",
       " <892816x184 sparse matrix of type '<class 'numpy.float64'>'\n",
       " \twith 12499424 stored elements in Compressed Sparse Row format>]"
      ]
     },
     "execution_count": 33,
     "metadata": {},
     "output_type": "execute_result"
    }
   ],
   "source": [
    "test_list = [test[num_features+cat_count_features].values,X_t_cat,]\n",
    "test_list"
   ]
  },
  {
   "cell_type": "code",
   "execution_count": 34,
   "metadata": {},
   "outputs": [],
   "source": [
    "X = ssp.hstack(train_list).tocsr()\n",
    "X_test = ssp.hstack(test_list).tocsr()"
   ]
  },
  {
   "cell_type": "code",
   "execution_count": 35,
   "metadata": {},
   "outputs": [],
   "source": [
    "def Gini(y_true, y_pred):\n",
    "    # check and get number of samples\n",
    "    assert y_true.shape == y_pred.shape\n",
    "    n_samples = y_true.shape[0]\n",
    "\n",
    "    # sort rows on prediction column\n",
    "    # (from largest to smallest)\n",
    "    arr = np.array([y_true, y_pred]).transpose()\n",
    "    true_order = arr[arr[:, 0].argsort()][::-1, 0]\n",
    "    pred_order = arr[arr[:, 1].argsort()][::-1, 0]\n",
    "\n",
    "    # get Lorenz curves\n",
    "    L_true = np.cumsum(true_order) * 1. / np.sum(true_order)\n",
    "    L_pred = np.cumsum(pred_order) * 1. / np.sum(pred_order)\n",
    "    L_ones = np.linspace(1 / n_samples, 1, n_samples)\n",
    "\n",
    "    # get Gini coefficients (area between curves)\n",
    "    G_true = np.sum(L_ones - L_true)\n",
    "    G_pred = np.sum(L_ones - L_pred)\n",
    "\n",
    "    # normalize to true Gini coefficient\n",
    "    return G_pred * 1. / G_true"
   ]
  },
  {
   "cell_type": "code",
   "execution_count": 36,
   "metadata": {},
   "outputs": [],
   "source": [
    "cv_only = True\n",
    "save_cv = True\n",
    "full_train = False"
   ]
  },
  {
   "cell_type": "code",
   "execution_count": 37,
   "metadata": {},
   "outputs": [],
   "source": [
    "def evalerror(preds, dtrain):\n",
    "    labels = dtrain.get_label()\n",
    "    return 'gini', Gini(labels, preds), True"
   ]
  },
  {
   "cell_type": "code",
   "execution_count": 38,
   "metadata": {},
   "outputs": [],
   "source": [
    "NFOLDS = 5\n",
    "kfold = StratifiedKFold(n_splits=NFOLDS, shuffle=True, random_state=218)"
   ]
  },
  {
   "cell_type": "markdown",
   "metadata": {},
   "source": [
    "I. Thiết lập tham số cho LightGBM"
   ]
  },
  {
   "cell_type": "code",
   "execution_count": 39,
   "metadata": {},
   "outputs": [],
   "source": [
    "learning_rate = 0.1 # Tỉ lệ học \n",
    "num_leaves = 15 # Số lượng lá trên toàn cây\n",
    "min_data_in_leaf = 2000 # Số lượng dữ liệu nhỏ nhất mà một lá có thể có. \n",
    "feature_fraction = 0.6 # Dùng để tăng cường \n",
    "num_boost_round = 10000 # Số vòng thực hiện tăng cường \n",
    "params = {\"objective\": \"binary\", # Loại mô hình \n",
    "          \"boosting_type\": \"gbdt\", # ‘gbdt’, traditional Gradient Boosting Decision Tree.\n",
    "          \"learning_rate\": learning_rate,\n",
    "          \"num_leaves\": num_leaves,\n",
    "           \"max_bin\": 256, # Số bin tối đa\n",
    "          \"feature_fraction\": feature_fraction, \n",
    "          \"verbosity\": 0,# \n",
    "          \"drop_rate\": 0.1, # \n",
    "          \"is_unbalance\": False,\n",
    "          \"max_drop\": 50,#\n",
    "          \"min_child_samples\": 10, #Số lượng dữ liệu tối thiểu cần thiết trong một lá\n",
    "          \"min_child_weight\": 150, # Tổng trọng lượng tối thiểu\n",
    "          \"min_split_gain\": 0, # Giảm tổn thất tối thiểu để tạo ra một phân vùng sâu hơn trên một nút lá của cây\n",
    "          \"subsample\": 0.9 # Tỷ lệ mẫu con \n",
    "          }\n"
   ]
  },
  {
   "cell_type": "markdown",
   "metadata": {},
   "source": [
    "Link tham khảo:https://lightgbm.readthedocs.io/en/latest/Parameters.html"
   ]
  },
  {
   "cell_type": "code",
   "execution_count": 40,
   "metadata": {},
   "outputs": [
    {
     "name": "stderr",
     "output_type": "stream",
     "text": [
      "C:\\Users\\Admin\\AppData\\Local\\Programs\\Python\\Python39\\lib\\site-packages\\lightgbm\\engine.py:181: UserWarning: 'early_stopping_rounds' argument is deprecated and will be removed in a future release of LightGBM. Pass 'early_stopping()' callback via 'callbacks' argument instead.\n",
      "  _log_warning(\"'early_stopping_rounds' argument is deprecated and will be removed in a future release of LightGBM. \"\n",
      "C:\\Users\\Admin\\AppData\\Local\\Programs\\Python\\Python39\\lib\\site-packages\\lightgbm\\engine.py:239: UserWarning: 'verbose_eval' argument is deprecated and will be removed in a future release of LightGBM. Pass 'log_evaluation()' callback via 'callbacks' argument instead.\n",
      "  _log_warning(\"'verbose_eval' argument is deprecated and will be removed in a future release of LightGBM. \"\n"
     ]
    },
    {
     "name": "stdout",
     "output_type": "stream",
     "text": [
      "[LightGBM] [Warning] Auto-choosing row-wise multi-threading, the overhead of testing was 0.187700 seconds.\n",
      "You can set `force_row_wise=true` to remove the overhead.\n",
      "And if memory is not enough, you can set `force_col_wise=true`.\n",
      "Training until validation scores don't improve for 100 rounds\n",
      "[100]\tvalid_0's binary_logloss: 0.151575\tvalid_0's gini: 0.292285\n",
      "[200]\tvalid_0's binary_logloss: 0.151472\tvalid_0's gini: 0.294586\n",
      "[300]\tvalid_0's binary_logloss: 0.151548\tvalid_0's gini: 0.292705\n",
      "Early stopping, best iteration is:\n",
      "[200]\tvalid_0's binary_logloss: 0.151472\tvalid_0's gini: 0.294586\n",
      "0.2945863466975217\n",
      "[LightGBM] [Warning] Auto-choosing row-wise multi-threading, the overhead of testing was 0.236496 seconds.\n",
      "You can set `force_row_wise=true` to remove the overhead.\n",
      "And if memory is not enough, you can set `force_col_wise=true`.\n",
      "Training until validation scores don't improve for 100 rounds\n",
      "[100]\tvalid_0's binary_logloss: 0.152123\tvalid_0's gini: 0.27288\n",
      "[200]\tvalid_0's binary_logloss: 0.152014\tvalid_0's gini: 0.277369\n",
      "[300]\tvalid_0's binary_logloss: 0.152072\tvalid_0's gini: 0.276709\n",
      "Early stopping, best iteration is:\n",
      "[208]\tvalid_0's binary_logloss: 0.152009\tvalid_0's gini: 0.277767\n",
      "0.27776728106221343\n",
      "[LightGBM] [Warning] Auto-choosing col-wise multi-threading, the overhead of testing was 0.354667 seconds.\n",
      "You can set `force_col_wise=true` to remove the overhead.\n",
      "Training until validation scores don't improve for 100 rounds\n",
      "[100]\tvalid_0's binary_logloss: 0.152078\tvalid_0's gini: 0.275372\n",
      "[200]\tvalid_0's binary_logloss: 0.151978\tvalid_0's gini: 0.278899\n",
      "Early stopping, best iteration is:\n",
      "[198]\tvalid_0's binary_logloss: 0.151974\tvalid_0's gini: 0.278921\n",
      "0.2789206275662701\n",
      "[LightGBM] [Warning] Auto-choosing col-wise multi-threading, the overhead of testing was 0.367517 seconds.\n",
      "You can set `force_col_wise=true` to remove the overhead.\n",
      "Training until validation scores don't improve for 100 rounds\n",
      "[100]\tvalid_0's binary_logloss: 0.15169\tvalid_0's gini: 0.288231\n",
      "[200]\tvalid_0's binary_logloss: 0.151684\tvalid_0's gini: 0.288475\n",
      "Early stopping, best iteration is:\n",
      "[155]\tvalid_0's binary_logloss: 0.151664\tvalid_0's gini: 0.289223\n",
      "0.2892225079495615\n",
      "[LightGBM] [Warning] Auto-choosing row-wise multi-threading, the overhead of testing was 0.192913 seconds.\n",
      "You can set `force_row_wise=true` to remove the overhead.\n",
      "And if memory is not enough, you can set `force_col_wise=true`.\n",
      "Training until validation scores don't improve for 100 rounds\n",
      "[100]\tvalid_0's binary_logloss: 0.151572\tvalid_0's gini: 0.286456\n",
      "[200]\tvalid_0's binary_logloss: 0.151494\tvalid_0's gini: 0.288387\n",
      "[300]\tvalid_0's binary_logloss: 0.151583\tvalid_0's gini: 0.286814\n",
      "Early stopping, best iteration is:\n",
      "[215]\tvalid_0's binary_logloss: 0.151465\tvalid_0's gini: 0.289156\n",
      "0.289155720234112\n",
      "cv score:\n",
      "0.28581087287246515\n",
      "current score: 0.28581087287246515 1\n",
      "[0.2945863466975217, 0.27776728106221343, 0.2789206275662701, 0.2892225079495615, 0.289155720234112]\n",
      "[200, 208, 198, 155, 215] 195.2\n"
     ]
    },
    {
     "name": "stderr",
     "output_type": "stream",
     "text": [
      "C:\\Users\\Admin\\AppData\\Local\\Programs\\Python\\Python39\\lib\\site-packages\\lightgbm\\engine.py:181: UserWarning: 'early_stopping_rounds' argument is deprecated and will be removed in a future release of LightGBM. Pass 'early_stopping()' callback via 'callbacks' argument instead.\n",
      "  _log_warning(\"'early_stopping_rounds' argument is deprecated and will be removed in a future release of LightGBM. \"\n",
      "C:\\Users\\Admin\\AppData\\Local\\Programs\\Python\\Python39\\lib\\site-packages\\lightgbm\\engine.py:239: UserWarning: 'verbose_eval' argument is deprecated and will be removed in a future release of LightGBM. Pass 'log_evaluation()' callback via 'callbacks' argument instead.\n",
      "  _log_warning(\"'verbose_eval' argument is deprecated and will be removed in a future release of LightGBM. \"\n"
     ]
    },
    {
     "name": "stdout",
     "output_type": "stream",
     "text": [
      "[LightGBM] [Warning] Auto-choosing row-wise multi-threading, the overhead of testing was 0.205979 seconds.\n",
      "You can set `force_row_wise=true` to remove the overhead.\n",
      "And if memory is not enough, you can set `force_col_wise=true`.\n",
      "Training until validation scores don't improve for 100 rounds\n",
      "[100]\tvalid_0's binary_logloss: 0.151571\tvalid_0's gini: 0.292238\n",
      "[200]\tvalid_0's binary_logloss: 0.151461\tvalid_0's gini: 0.295445\n",
      "[300]\tvalid_0's binary_logloss: 0.151463\tvalid_0's gini: 0.295603\n",
      "Early stopping, best iteration is:\n",
      "[238]\tvalid_0's binary_logloss: 0.151458\tvalid_0's gini: 0.295526\n",
      "0.29552638162486167\n",
      "[LightGBM] [Warning] Auto-choosing col-wise multi-threading, the overhead of testing was 0.356456 seconds.\n",
      "You can set `force_col_wise=true` to remove the overhead.\n",
      "Training until validation scores don't improve for 100 rounds\n",
      "[100]\tvalid_0's binary_logloss: 0.152052\tvalid_0's gini: 0.276735\n",
      "[200]\tvalid_0's binary_logloss: 0.151941\tvalid_0's gini: 0.280345\n",
      "[300]\tvalid_0's binary_logloss: 0.151993\tvalid_0's gini: 0.279642\n",
      "Early stopping, best iteration is:\n",
      "[204]\tvalid_0's binary_logloss: 0.151922\tvalid_0's gini: 0.281002\n",
      "0.2810023420985806\n",
      "[LightGBM] [Warning] Auto-choosing row-wise multi-threading, the overhead of testing was 0.193923 seconds.\n",
      "You can set `force_row_wise=true` to remove the overhead.\n",
      "And if memory is not enough, you can set `force_col_wise=true`.\n",
      "Training until validation scores don't improve for 100 rounds\n",
      "[100]\tvalid_0's binary_logloss: 0.152037\tvalid_0's gini: 0.276991\n",
      "[200]\tvalid_0's binary_logloss: 0.151995\tvalid_0's gini: 0.278952\n",
      "Early stopping, best iteration is:\n",
      "[151]\tvalid_0's binary_logloss: 0.151945\tvalid_0's gini: 0.279821\n",
      "0.27982076953812385\n",
      "[LightGBM] [Warning] Auto-choosing row-wise multi-threading, the overhead of testing was 0.176071 seconds.\n",
      "You can set `force_row_wise=true` to remove the overhead.\n",
      "And if memory is not enough, you can set `force_col_wise=true`.\n",
      "Training until validation scores don't improve for 100 rounds\n",
      "[100]\tvalid_0's binary_logloss: 0.151838\tvalid_0's gini: 0.283787\n",
      "[200]\tvalid_0's binary_logloss: 0.151781\tvalid_0's gini: 0.286048\n",
      "Early stopping, best iteration is:\n",
      "[175]\tvalid_0's binary_logloss: 0.15177\tvalid_0's gini: 0.285965\n",
      "0.2859651681931172\n",
      "[LightGBM] [Warning] Auto-choosing row-wise multi-threading, the overhead of testing was 0.191075 seconds.\n",
      "You can set `force_row_wise=true` to remove the overhead.\n",
      "And if memory is not enough, you can set `force_col_wise=true`.\n",
      "Training until validation scores don't improve for 100 rounds\n",
      "[100]\tvalid_0's binary_logloss: 0.151537\tvalid_0's gini: 0.287323\n",
      "[200]\tvalid_0's binary_logloss: 0.151499\tvalid_0's gini: 0.288029\n",
      "Early stopping, best iteration is:\n",
      "[128]\tvalid_0's binary_logloss: 0.151481\tvalid_0's gini: 0.288666\n",
      "0.2886657588024706\n",
      "cv score:\n",
      "0.28612703231439995\n",
      "current score: 0.2874620459922295 2\n",
      "[0.29552638162486167, 0.2810023420985806, 0.27982076953812385, 0.2859651681931172, 0.2886657588024706]\n",
      "[238, 204, 151, 175, 128] 179.2\n"
     ]
    },
    {
     "name": "stderr",
     "output_type": "stream",
     "text": [
      "C:\\Users\\Admin\\AppData\\Local\\Programs\\Python\\Python39\\lib\\site-packages\\lightgbm\\engine.py:181: UserWarning: 'early_stopping_rounds' argument is deprecated and will be removed in a future release of LightGBM. Pass 'early_stopping()' callback via 'callbacks' argument instead.\n",
      "  _log_warning(\"'early_stopping_rounds' argument is deprecated and will be removed in a future release of LightGBM. \"\n",
      "C:\\Users\\Admin\\AppData\\Local\\Programs\\Python\\Python39\\lib\\site-packages\\lightgbm\\engine.py:239: UserWarning: 'verbose_eval' argument is deprecated and will be removed in a future release of LightGBM. Pass 'log_evaluation()' callback via 'callbacks' argument instead.\n",
      "  _log_warning(\"'verbose_eval' argument is deprecated and will be removed in a future release of LightGBM. \"\n"
     ]
    },
    {
     "name": "stdout",
     "output_type": "stream",
     "text": [
      "[LightGBM] [Warning] Auto-choosing col-wise multi-threading, the overhead of testing was 0.363903 seconds.\n",
      "You can set `force_col_wise=true` to remove the overhead.\n",
      "Training until validation scores don't improve for 100 rounds\n",
      "[100]\tvalid_0's binary_logloss: 0.151617\tvalid_0's gini: 0.291144\n",
      "[200]\tvalid_0's binary_logloss: 0.15152\tvalid_0's gini: 0.293549\n",
      "Early stopping, best iteration is:\n",
      "[176]\tvalid_0's binary_logloss: 0.151515\tvalid_0's gini: 0.293902\n",
      "0.29390169821275064\n",
      "[LightGBM] [Warning] Auto-choosing col-wise multi-threading, the overhead of testing was 0.359576 seconds.\n",
      "You can set `force_col_wise=true` to remove the overhead.\n",
      "Training until validation scores don't improve for 100 rounds\n",
      "[100]\tvalid_0's binary_logloss: 0.152117\tvalid_0's gini: 0.273743\n",
      "[200]\tvalid_0's binary_logloss: 0.152035\tvalid_0's gini: 0.276323\n",
      "[300]\tvalid_0's binary_logloss: 0.152073\tvalid_0's gini: 0.276761\n",
      "Early stopping, best iteration is:\n",
      "[208]\tvalid_0's binary_logloss: 0.152015\tvalid_0's gini: 0.276983\n",
      "0.27698331183232355\n",
      "[LightGBM] [Warning] Auto-choosing row-wise multi-threading, the overhead of testing was 0.215709 seconds.\n",
      "You can set `force_row_wise=true` to remove the overhead.\n",
      "And if memory is not enough, you can set `force_col_wise=true`.\n",
      "Training until validation scores don't improve for 100 rounds\n",
      "[100]\tvalid_0's binary_logloss: 0.152018\tvalid_0's gini: 0.277442\n",
      "[200]\tvalid_0's binary_logloss: 0.151925\tvalid_0's gini: 0.280959\n",
      "Early stopping, best iteration is:\n",
      "[183]\tvalid_0's binary_logloss: 0.151913\tvalid_0's gini: 0.280973\n",
      "0.28097318551308287\n",
      "[LightGBM] [Warning] Auto-choosing row-wise multi-threading, the overhead of testing was 0.183871 seconds.\n",
      "You can set `force_row_wise=true` to remove the overhead.\n",
      "And if memory is not enough, you can set `force_col_wise=true`.\n",
      "Training until validation scores don't improve for 100 rounds\n",
      "[100]\tvalid_0's binary_logloss: 0.151905\tvalid_0's gini: 0.281855\n",
      "[200]\tvalid_0's binary_logloss: 0.151891\tvalid_0's gini: 0.282574\n",
      "Early stopping, best iteration is:\n",
      "[128]\tvalid_0's binary_logloss: 0.15188\tvalid_0's gini: 0.28257\n",
      "0.282570387194567\n",
      "[LightGBM] [Warning] Auto-choosing row-wise multi-threading, the overhead of testing was 0.263077 seconds.\n",
      "You can set `force_row_wise=true` to remove the overhead.\n",
      "And if memory is not enough, you can set `force_col_wise=true`.\n",
      "Training until validation scores don't improve for 100 rounds\n",
      "[100]\tvalid_0's binary_logloss: 0.151504\tvalid_0's gini: 0.288574\n",
      "[200]\tvalid_0's binary_logloss: 0.151404\tvalid_0's gini: 0.291923\n",
      "Early stopping, best iteration is:\n",
      "[169]\tvalid_0's binary_logloss: 0.151373\tvalid_0's gini: 0.292385\n",
      "0.2923846772207478\n",
      "cv score:\n",
      "0.28523677934240615\n",
      "current score: 0.287635464046393 3\n",
      "[0.29390169821275064, 0.27698331183232355, 0.28097318551308287, 0.282570387194567, 0.2923846772207478]\n",
      "[176, 208, 183, 128, 169] 172.8\n"
     ]
    },
    {
     "name": "stderr",
     "output_type": "stream",
     "text": [
      "C:\\Users\\Admin\\AppData\\Local\\Programs\\Python\\Python39\\lib\\site-packages\\lightgbm\\engine.py:181: UserWarning: 'early_stopping_rounds' argument is deprecated and will be removed in a future release of LightGBM. Pass 'early_stopping()' callback via 'callbacks' argument instead.\n",
      "  _log_warning(\"'early_stopping_rounds' argument is deprecated and will be removed in a future release of LightGBM. \"\n",
      "C:\\Users\\Admin\\AppData\\Local\\Programs\\Python\\Python39\\lib\\site-packages\\lightgbm\\engine.py:239: UserWarning: 'verbose_eval' argument is deprecated and will be removed in a future release of LightGBM. Pass 'log_evaluation()' callback via 'callbacks' argument instead.\n",
      "  _log_warning(\"'verbose_eval' argument is deprecated and will be removed in a future release of LightGBM. \"\n"
     ]
    },
    {
     "name": "stdout",
     "output_type": "stream",
     "text": [
      "[LightGBM] [Warning] Auto-choosing row-wise multi-threading, the overhead of testing was 0.185363 seconds.\n",
      "You can set `force_row_wise=true` to remove the overhead.\n",
      "And if memory is not enough, you can set `force_col_wise=true`.\n",
      "Training until validation scores don't improve for 100 rounds\n",
      "[100]\tvalid_0's binary_logloss: 0.151575\tvalid_0's gini: 0.292183\n",
      "[200]\tvalid_0's binary_logloss: 0.151489\tvalid_0's gini: 0.294767\n",
      "Early stopping, best iteration is:\n",
      "[138]\tvalid_0's binary_logloss: 0.151459\tvalid_0's gini: 0.295263\n",
      "0.29526267291076264\n",
      "[LightGBM] [Warning] Auto-choosing row-wise multi-threading, the overhead of testing was 0.184721 seconds.\n",
      "You can set `force_row_wise=true` to remove the overhead.\n",
      "And if memory is not enough, you can set `force_col_wise=true`.\n",
      "Training until validation scores don't improve for 100 rounds\n",
      "[100]\tvalid_0's binary_logloss: 0.15207\tvalid_0's gini: 0.275252\n",
      "[200]\tvalid_0's binary_logloss: 0.152013\tvalid_0's gini: 0.277725\n",
      "[300]\tvalid_0's binary_logloss: 0.152046\tvalid_0's gini: 0.278435\n",
      "Early stopping, best iteration is:\n",
      "[209]\tvalid_0's binary_logloss: 0.15199\tvalid_0's gini: 0.278596\n",
      "0.27859613269225825\n",
      "[LightGBM] [Warning] Auto-choosing col-wise multi-threading, the overhead of testing was 0.371860 seconds.\n",
      "You can set `force_col_wise=true` to remove the overhead.\n",
      "Training until validation scores don't improve for 100 rounds\n",
      "[100]\tvalid_0's binary_logloss: 0.152045\tvalid_0's gini: 0.276619\n",
      "[200]\tvalid_0's binary_logloss: 0.151962\tvalid_0's gini: 0.280414\n",
      "[300]\tvalid_0's binary_logloss: 0.151984\tvalid_0's gini: 0.280239\n",
      "Early stopping, best iteration is:\n",
      "[233]\tvalid_0's binary_logloss: 0.151954\tvalid_0's gini: 0.281167\n",
      "0.28116660335298205\n",
      "[LightGBM] [Warning] Auto-choosing row-wise multi-threading, the overhead of testing was 0.223121 seconds.\n",
      "You can set `force_row_wise=true` to remove the overhead.\n",
      "And if memory is not enough, you can set `force_col_wise=true`.\n",
      "Training until validation scores don't improve for 100 rounds\n",
      "[100]\tvalid_0's binary_logloss: 0.151753\tvalid_0's gini: 0.284971\n",
      "[200]\tvalid_0's binary_logloss: 0.151689\tvalid_0's gini: 0.287797\n",
      "[300]\tvalid_0's binary_logloss: 0.151775\tvalid_0's gini: 0.285794\n",
      "Early stopping, best iteration is:\n",
      "[200]\tvalid_0's binary_logloss: 0.151689\tvalid_0's gini: 0.287797\n",
      "0.2877965018173923\n",
      "[LightGBM] [Warning] Auto-choosing row-wise multi-threading, the overhead of testing was 0.206846 seconds.\n",
      "You can set `force_row_wise=true` to remove the overhead.\n",
      "And if memory is not enough, you can set `force_col_wise=true`.\n",
      "Training until validation scores don't improve for 100 rounds\n",
      "[100]\tvalid_0's binary_logloss: 0.151563\tvalid_0's gini: 0.28654\n",
      "[200]\tvalid_0's binary_logloss: 0.151421\tvalid_0's gini: 0.291175\n",
      "[300]\tvalid_0's binary_logloss: 0.151459\tvalid_0's gini: 0.289842\n",
      "Early stopping, best iteration is:\n",
      "[220]\tvalid_0's binary_logloss: 0.151412\tvalid_0's gini: 0.291527\n",
      "0.2915273351319575\n",
      "cv score:\n",
      "0.2867214013659066\n",
      "current score: 0.2881870968581202 4\n",
      "[0.29526267291076264, 0.27859613269225825, 0.28116660335298205, 0.2877965018173923, 0.2915273351319575]\n",
      "[138, 209, 233, 200, 220] 200.0\n"
     ]
    },
    {
     "name": "stderr",
     "output_type": "stream",
     "text": [
      "C:\\Users\\Admin\\AppData\\Local\\Programs\\Python\\Python39\\lib\\site-packages\\lightgbm\\engine.py:181: UserWarning: 'early_stopping_rounds' argument is deprecated and will be removed in a future release of LightGBM. Pass 'early_stopping()' callback via 'callbacks' argument instead.\n",
      "  _log_warning(\"'early_stopping_rounds' argument is deprecated and will be removed in a future release of LightGBM. \"\n",
      "C:\\Users\\Admin\\AppData\\Local\\Programs\\Python\\Python39\\lib\\site-packages\\lightgbm\\engine.py:239: UserWarning: 'verbose_eval' argument is deprecated and will be removed in a future release of LightGBM. Pass 'log_evaluation()' callback via 'callbacks' argument instead.\n",
      "  _log_warning(\"'verbose_eval' argument is deprecated and will be removed in a future release of LightGBM. \"\n"
     ]
    },
    {
     "name": "stdout",
     "output_type": "stream",
     "text": [
      "[LightGBM] [Warning] Auto-choosing row-wise multi-threading, the overhead of testing was 0.229425 seconds.\n",
      "You can set `force_row_wise=true` to remove the overhead.\n",
      "And if memory is not enough, you can set `force_col_wise=true`.\n",
      "Training until validation scores don't improve for 100 rounds\n",
      "[100]\tvalid_0's binary_logloss: 0.151574\tvalid_0's gini: 0.292252\n",
      "[200]\tvalid_0's binary_logloss: 0.151466\tvalid_0's gini: 0.294647\n",
      "[300]\tvalid_0's binary_logloss: 0.151531\tvalid_0's gini: 0.293861\n",
      "Early stopping, best iteration is:\n",
      "[205]\tvalid_0's binary_logloss: 0.151458\tvalid_0's gini: 0.294902\n",
      "0.2949018978186759\n",
      "[LightGBM] [Warning] Auto-choosing row-wise multi-threading, the overhead of testing was 0.184771 seconds.\n",
      "You can set `force_row_wise=true` to remove the overhead.\n",
      "And if memory is not enough, you can set `force_col_wise=true`.\n",
      "Training until validation scores don't improve for 100 rounds\n",
      "[100]\tvalid_0's binary_logloss: 0.152149\tvalid_0's gini: 0.274124\n",
      "[200]\tvalid_0's binary_logloss: 0.152065\tvalid_0's gini: 0.277525\n",
      "[300]\tvalid_0's binary_logloss: 0.152109\tvalid_0's gini: 0.277158\n",
      "Early stopping, best iteration is:\n",
      "[203]\tvalid_0's binary_logloss: 0.15206\tvalid_0's gini: 0.27779\n",
      "0.27778962782801714\n",
      "[LightGBM] [Warning] Auto-choosing row-wise multi-threading, the overhead of testing was 0.206342 seconds.\n",
      "You can set `force_row_wise=true` to remove the overhead.\n",
      "And if memory is not enough, you can set `force_col_wise=true`.\n",
      "Training until validation scores don't improve for 100 rounds\n",
      "[100]\tvalid_0's binary_logloss: 0.15209\tvalid_0's gini: 0.274709\n",
      "[200]\tvalid_0's binary_logloss: 0.15199\tvalid_0's gini: 0.279206\n",
      "[300]\tvalid_0's binary_logloss: 0.151997\tvalid_0's gini: 0.279006\n",
      "Early stopping, best iteration is:\n",
      "[274]\tvalid_0's binary_logloss: 0.151963\tvalid_0's gini: 0.279902\n",
      "0.279901873113974\n",
      "[LightGBM] [Warning] Auto-choosing row-wise multi-threading, the overhead of testing was 0.184617 seconds.\n",
      "You can set `force_row_wise=true` to remove the overhead.\n",
      "And if memory is not enough, you can set `force_col_wise=true`.\n",
      "Training until validation scores don't improve for 100 rounds\n",
      "[100]\tvalid_0's binary_logloss: 0.151822\tvalid_0's gini: 0.28429\n",
      "[200]\tvalid_0's binary_logloss: 0.151775\tvalid_0's gini: 0.284969\n",
      "[300]\tvalid_0's binary_logloss: 0.151866\tvalid_0's gini: 0.283617\n",
      "Early stopping, best iteration is:\n",
      "[209]\tvalid_0's binary_logloss: 0.151764\tvalid_0's gini: 0.285175\n",
      "0.28517499557867926\n",
      "[LightGBM] [Warning] Auto-choosing col-wise multi-threading, the overhead of testing was 0.355364 seconds.\n",
      "You can set `force_col_wise=true` to remove the overhead.\n",
      "Training until validation scores don't improve for 100 rounds\n",
      "[100]\tvalid_0's binary_logloss: 0.151494\tvalid_0's gini: 0.288687\n",
      "[200]\tvalid_0's binary_logloss: 0.151425\tvalid_0's gini: 0.290868\n",
      "Early stopping, best iteration is:\n",
      "[175]\tvalid_0's binary_logloss: 0.151403\tvalid_0's gini: 0.291319\n",
      "0.2913190997151783\n",
      "cv score:\n",
      "0.28570773588756787\n",
      "current score: 0.2882721698809879 5\n",
      "[0.2949018978186759, 0.27778962782801714, 0.279901873113974, 0.28517499557867926, 0.2913190997151783]\n",
      "[205, 203, 274, 209, 175] 213.2\n"
     ]
    },
    {
     "name": "stderr",
     "output_type": "stream",
     "text": [
      "C:\\Users\\Admin\\AppData\\Local\\Programs\\Python\\Python39\\lib\\site-packages\\lightgbm\\engine.py:181: UserWarning: 'early_stopping_rounds' argument is deprecated and will be removed in a future release of LightGBM. Pass 'early_stopping()' callback via 'callbacks' argument instead.\n",
      "  _log_warning(\"'early_stopping_rounds' argument is deprecated and will be removed in a future release of LightGBM. \"\n",
      "C:\\Users\\Admin\\AppData\\Local\\Programs\\Python\\Python39\\lib\\site-packages\\lightgbm\\engine.py:239: UserWarning: 'verbose_eval' argument is deprecated and will be removed in a future release of LightGBM. Pass 'log_evaluation()' callback via 'callbacks' argument instead.\n",
      "  _log_warning(\"'verbose_eval' argument is deprecated and will be removed in a future release of LightGBM. \"\n"
     ]
    },
    {
     "name": "stdout",
     "output_type": "stream",
     "text": [
      "[LightGBM] [Warning] Auto-choosing row-wise multi-threading, the overhead of testing was 0.216945 seconds.\n",
      "You can set `force_row_wise=true` to remove the overhead.\n",
      "And if memory is not enough, you can set `force_col_wise=true`.\n",
      "Training until validation scores don't improve for 100 rounds\n",
      "[100]\tvalid_0's binary_logloss: 0.151582\tvalid_0's gini: 0.292339\n",
      "[200]\tvalid_0's binary_logloss: 0.15152\tvalid_0's gini: 0.29374\n",
      "Early stopping, best iteration is:\n",
      "[198]\tvalid_0's binary_logloss: 0.151514\tvalid_0's gini: 0.293908\n",
      "0.2939079148008999\n",
      "[LightGBM] [Warning] Auto-choosing row-wise multi-threading, the overhead of testing was 0.200745 seconds.\n",
      "You can set `force_row_wise=true` to remove the overhead.\n",
      "And if memory is not enough, you can set `force_col_wise=true`.\n",
      "Training until validation scores don't improve for 100 rounds\n",
      "[100]\tvalid_0's binary_logloss: 0.15208\tvalid_0's gini: 0.275929\n",
      "[200]\tvalid_0's binary_logloss: 0.152015\tvalid_0's gini: 0.277963\n",
      "Early stopping, best iteration is:\n",
      "[198]\tvalid_0's binary_logloss: 0.152009\tvalid_0's gini: 0.278132\n",
      "0.2781323438721768\n",
      "[LightGBM] [Warning] Auto-choosing col-wise multi-threading, the overhead of testing was 0.353526 seconds.\n",
      "You can set `force_col_wise=true` to remove the overhead.\n",
      "Training until validation scores don't improve for 100 rounds\n",
      "[100]\tvalid_0's binary_logloss: 0.152048\tvalid_0's gini: 0.276834\n",
      "[200]\tvalid_0's binary_logloss: 0.151919\tvalid_0's gini: 0.281238\n",
      "Early stopping, best iteration is:\n",
      "[195]\tvalid_0's binary_logloss: 0.151908\tvalid_0's gini: 0.281396\n",
      "0.28139569342182713\n",
      "[LightGBM] [Warning] Auto-choosing row-wise multi-threading, the overhead of testing was 0.185032 seconds.\n",
      "You can set `force_row_wise=true` to remove the overhead.\n",
      "And if memory is not enough, you can set `force_col_wise=true`.\n",
      "Training until validation scores don't improve for 100 rounds\n",
      "[100]\tvalid_0's binary_logloss: 0.151833\tvalid_0's gini: 0.283512\n",
      "[200]\tvalid_0's binary_logloss: 0.151809\tvalid_0's gini: 0.284464\n",
      "Early stopping, best iteration is:\n",
      "[164]\tvalid_0's binary_logloss: 0.151788\tvalid_0's gini: 0.285005\n",
      "0.28500502044100917\n",
      "[LightGBM] [Warning] Auto-choosing row-wise multi-threading, the overhead of testing was 0.155691 seconds.\n",
      "You can set `force_row_wise=true` to remove the overhead.\n",
      "And if memory is not enough, you can set `force_col_wise=true`.\n",
      "Training until validation scores don't improve for 100 rounds\n",
      "[100]\tvalid_0's binary_logloss: 0.151441\tvalid_0's gini: 0.290718\n",
      "[200]\tvalid_0's binary_logloss: 0.151428\tvalid_0's gini: 0.291569\n",
      "Early stopping, best iteration is:\n",
      "[127]\tvalid_0's binary_logloss: 0.151373\tvalid_0's gini: 0.293205\n",
      "0.29320532625118856\n",
      "cv score:\n",
      "0.2862086579536886\n",
      "current score: 0.28839344043143483 6\n",
      "[0.2939079148008999, 0.2781323438721768, 0.28139569342182713, 0.28500502044100917, 0.29320532625118856]\n",
      "[198, 198, 195, 164, 127] 176.4\n"
     ]
    },
    {
     "name": "stderr",
     "output_type": "stream",
     "text": [
      "C:\\Users\\Admin\\AppData\\Local\\Programs\\Python\\Python39\\lib\\site-packages\\lightgbm\\engine.py:181: UserWarning: 'early_stopping_rounds' argument is deprecated and will be removed in a future release of LightGBM. Pass 'early_stopping()' callback via 'callbacks' argument instead.\n",
      "  _log_warning(\"'early_stopping_rounds' argument is deprecated and will be removed in a future release of LightGBM. \"\n",
      "C:\\Users\\Admin\\AppData\\Local\\Programs\\Python\\Python39\\lib\\site-packages\\lightgbm\\engine.py:239: UserWarning: 'verbose_eval' argument is deprecated and will be removed in a future release of LightGBM. Pass 'log_evaluation()' callback via 'callbacks' argument instead.\n",
      "  _log_warning(\"'verbose_eval' argument is deprecated and will be removed in a future release of LightGBM. \"\n"
     ]
    },
    {
     "name": "stdout",
     "output_type": "stream",
     "text": [
      "[LightGBM] [Warning] Auto-choosing row-wise multi-threading, the overhead of testing was 0.221162 seconds.\n",
      "You can set `force_row_wise=true` to remove the overhead.\n",
      "And if memory is not enough, you can set `force_col_wise=true`.\n",
      "Training until validation scores don't improve for 100 rounds\n",
      "[100]\tvalid_0's binary_logloss: 0.151595\tvalid_0's gini: 0.292061\n",
      "[200]\tvalid_0's binary_logloss: 0.151529\tvalid_0's gini: 0.294357\n",
      "[300]\tvalid_0's binary_logloss: 0.15157\tvalid_0's gini: 0.29306\n",
      "Early stopping, best iteration is:\n",
      "[203]\tvalid_0's binary_logloss: 0.151516\tvalid_0's gini: 0.294581\n",
      "0.29458068465957576\n",
      "[LightGBM] [Warning] Auto-choosing row-wise multi-threading, the overhead of testing was 0.188922 seconds.\n",
      "You can set `force_row_wise=true` to remove the overhead.\n",
      "And if memory is not enough, you can set `force_col_wise=true`.\n",
      "Training until validation scores don't improve for 100 rounds\n",
      "[100]\tvalid_0's binary_logloss: 0.152153\tvalid_0's gini: 0.273622\n",
      "[200]\tvalid_0's binary_logloss: 0.152012\tvalid_0's gini: 0.278198\n",
      "Early stopping, best iteration is:\n",
      "[193]\tvalid_0's binary_logloss: 0.152005\tvalid_0's gini: 0.278255\n",
      "0.27825450163762694\n",
      "[LightGBM] [Warning] Auto-choosing row-wise multi-threading, the overhead of testing was 0.168088 seconds.\n",
      "You can set `force_row_wise=true` to remove the overhead.\n",
      "And if memory is not enough, you can set `force_col_wise=true`.\n",
      "Training until validation scores don't improve for 100 rounds\n",
      "[100]\tvalid_0's binary_logloss: 0.152077\tvalid_0's gini: 0.275071\n",
      "[200]\tvalid_0's binary_logloss: 0.152038\tvalid_0's gini: 0.276885\n",
      "[300]\tvalid_0's binary_logloss: 0.15198\tvalid_0's gini: 0.279035\n",
      "Early stopping, best iteration is:\n",
      "[281]\tvalid_0's binary_logloss: 0.151969\tvalid_0's gini: 0.279383\n",
      "0.27938318483717955\n",
      "[LightGBM] [Warning] Auto-choosing row-wise multi-threading, the overhead of testing was 0.161181 seconds.\n",
      "You can set `force_row_wise=true` to remove the overhead.\n",
      "And if memory is not enough, you can set `force_col_wise=true`.\n",
      "Training until validation scores don't improve for 100 rounds\n",
      "[100]\tvalid_0's binary_logloss: 0.15176\tvalid_0's gini: 0.285085\n",
      "[200]\tvalid_0's binary_logloss: 0.151722\tvalid_0's gini: 0.286981\n",
      "[300]\tvalid_0's binary_logloss: 0.151766\tvalid_0's gini: 0.286931\n",
      "Early stopping, best iteration is:\n",
      "[222]\tvalid_0's binary_logloss: 0.151694\tvalid_0's gini: 0.287907\n",
      "0.2879067216404576\n",
      "[LightGBM] [Warning] Auto-choosing row-wise multi-threading, the overhead of testing was 0.181698 seconds.\n",
      "You can set `force_row_wise=true` to remove the overhead.\n",
      "And if memory is not enough, you can set `force_col_wise=true`.\n",
      "Training until validation scores don't improve for 100 rounds\n",
      "[100]\tvalid_0's binary_logloss: 0.151475\tvalid_0's gini: 0.29007\n",
      "[200]\tvalid_0's binary_logloss: 0.151428\tvalid_0's gini: 0.290883\n",
      "[300]\tvalid_0's binary_logloss: 0.151478\tvalid_0's gini: 0.289434\n",
      "Early stopping, best iteration is:\n",
      "[231]\tvalid_0's binary_logloss: 0.151405\tvalid_0's gini: 0.291751\n",
      "0.29175098557138796\n",
      "cv score:\n",
      "0.2862973628978743\n",
      "current score: 0.2885422075872206 7\n",
      "[0.29458068465957576, 0.27825450163762694, 0.27938318483717955, 0.2879067216404576, 0.29175098557138796]\n",
      "[203, 193, 281, 222, 231] 226.0\n"
     ]
    },
    {
     "name": "stderr",
     "output_type": "stream",
     "text": [
      "C:\\Users\\Admin\\AppData\\Local\\Programs\\Python\\Python39\\lib\\site-packages\\lightgbm\\engine.py:181: UserWarning: 'early_stopping_rounds' argument is deprecated and will be removed in a future release of LightGBM. Pass 'early_stopping()' callback via 'callbacks' argument instead.\n",
      "  _log_warning(\"'early_stopping_rounds' argument is deprecated and will be removed in a future release of LightGBM. \"\n",
      "C:\\Users\\Admin\\AppData\\Local\\Programs\\Python\\Python39\\lib\\site-packages\\lightgbm\\engine.py:239: UserWarning: 'verbose_eval' argument is deprecated and will be removed in a future release of LightGBM. Pass 'log_evaluation()' callback via 'callbacks' argument instead.\n",
      "  _log_warning(\"'verbose_eval' argument is deprecated and will be removed in a future release of LightGBM. \"\n"
     ]
    },
    {
     "name": "stdout",
     "output_type": "stream",
     "text": [
      "[LightGBM] [Warning] Auto-choosing row-wise multi-threading, the overhead of testing was 0.165643 seconds.\n",
      "You can set `force_row_wise=true` to remove the overhead.\n",
      "And if memory is not enough, you can set `force_col_wise=true`.\n",
      "Training until validation scores don't improve for 100 rounds\n",
      "[100]\tvalid_0's binary_logloss: 0.151624\tvalid_0's gini: 0.29128\n",
      "[200]\tvalid_0's binary_logloss: 0.151513\tvalid_0's gini: 0.294021\n",
      "[300]\tvalid_0's binary_logloss: 0.15154\tvalid_0's gini: 0.293391\n",
      "Early stopping, best iteration is:\n",
      "[236]\tvalid_0's binary_logloss: 0.151485\tvalid_0's gini: 0.29456\n",
      "0.2945604033923556\n",
      "[LightGBM] [Warning] Auto-choosing row-wise multi-threading, the overhead of testing was 0.195324 seconds.\n",
      "You can set `force_row_wise=true` to remove the overhead.\n",
      "And if memory is not enough, you can set `force_col_wise=true`.\n",
      "Training until validation scores don't improve for 100 rounds\n",
      "[100]\tvalid_0's binary_logloss: 0.1521\tvalid_0's gini: 0.275063\n",
      "[200]\tvalid_0's binary_logloss: 0.152015\tvalid_0's gini: 0.278463\n",
      "[300]\tvalid_0's binary_logloss: 0.152055\tvalid_0's gini: 0.277822\n",
      "Early stopping, best iteration is:\n",
      "[225]\tvalid_0's binary_logloss: 0.15199\tvalid_0's gini: 0.279344\n",
      "0.27934430530467297\n",
      "[LightGBM] [Warning] Auto-choosing row-wise multi-threading, the overhead of testing was 0.202286 seconds.\n",
      "You can set `force_row_wise=true` to remove the overhead.\n",
      "And if memory is not enough, you can set `force_col_wise=true`.\n",
      "Training until validation scores don't improve for 100 rounds\n",
      "[100]\tvalid_0's binary_logloss: 0.151988\tvalid_0's gini: 0.278416\n",
      "[200]\tvalid_0's binary_logloss: 0.151904\tvalid_0's gini: 0.281882\n",
      "Early stopping, best iteration is:\n",
      "[196]\tvalid_0's binary_logloss: 0.151896\tvalid_0's gini: 0.282302\n",
      "0.2823022664434063\n",
      "[LightGBM] [Warning] Auto-choosing row-wise multi-threading, the overhead of testing was 0.233203 seconds.\n",
      "You can set `force_row_wise=true` to remove the overhead.\n",
      "And if memory is not enough, you can set `force_col_wise=true`.\n",
      "Training until validation scores don't improve for 100 rounds\n",
      "[100]\tvalid_0's binary_logloss: 0.15183\tvalid_0's gini: 0.283669\n",
      "[200]\tvalid_0's binary_logloss: 0.151801\tvalid_0's gini: 0.285191\n",
      "Early stopping, best iteration is:\n",
      "[165]\tvalid_0's binary_logloss: 0.151797\tvalid_0's gini: 0.28508\n",
      "0.285080142556088\n",
      "[LightGBM] [Warning] Auto-choosing row-wise multi-threading, the overhead of testing was 0.222174 seconds.\n",
      "You can set `force_row_wise=true` to remove the overhead.\n",
      "And if memory is not enough, you can set `force_col_wise=true`.\n",
      "Training until validation scores don't improve for 100 rounds\n",
      "[100]\tvalid_0's binary_logloss: 0.151478\tvalid_0's gini: 0.29037\n",
      "[200]\tvalid_0's binary_logloss: 0.151371\tvalid_0's gini: 0.29385\n",
      "Early stopping, best iteration is:\n",
      "[189]\tvalid_0's binary_logloss: 0.151358\tvalid_0's gini: 0.294166\n",
      "0.2941664424653558\n",
      "cv score:\n",
      "0.28701986704651966\n",
      "current score: 0.28871967823801803 8\n",
      "[0.2945604033923556, 0.27934430530467297, 0.2823022664434063, 0.285080142556088, 0.2941664424653558]\n",
      "[236, 225, 196, 165, 189] 202.2\n"
     ]
    },
    {
     "name": "stderr",
     "output_type": "stream",
     "text": [
      "C:\\Users\\Admin\\AppData\\Local\\Programs\\Python\\Python39\\lib\\site-packages\\lightgbm\\engine.py:181: UserWarning: 'early_stopping_rounds' argument is deprecated and will be removed in a future release of LightGBM. Pass 'early_stopping()' callback via 'callbacks' argument instead.\n",
      "  _log_warning(\"'early_stopping_rounds' argument is deprecated and will be removed in a future release of LightGBM. \"\n",
      "C:\\Users\\Admin\\AppData\\Local\\Programs\\Python\\Python39\\lib\\site-packages\\lightgbm\\engine.py:239: UserWarning: 'verbose_eval' argument is deprecated and will be removed in a future release of LightGBM. Pass 'log_evaluation()' callback via 'callbacks' argument instead.\n",
      "  _log_warning(\"'verbose_eval' argument is deprecated and will be removed in a future release of LightGBM. \"\n"
     ]
    },
    {
     "name": "stdout",
     "output_type": "stream",
     "text": [
      "[LightGBM] [Warning] Auto-choosing row-wise multi-threading, the overhead of testing was 0.151840 seconds.\n",
      "You can set `force_row_wise=true` to remove the overhead.\n",
      "And if memory is not enough, you can set `force_col_wise=true`.\n",
      "Training until validation scores don't improve for 100 rounds\n",
      "[100]\tvalid_0's binary_logloss: 0.15151\tvalid_0's gini: 0.294665\n",
      "[200]\tvalid_0's binary_logloss: 0.151463\tvalid_0's gini: 0.295382\n",
      "Early stopping, best iteration is:\n",
      "[134]\tvalid_0's binary_logloss: 0.151456\tvalid_0's gini: 0.296357\n",
      "0.2963569973675099\n",
      "[LightGBM] [Warning] Auto-choosing row-wise multi-threading, the overhead of testing was 0.192559 seconds.\n",
      "You can set `force_row_wise=true` to remove the overhead.\n",
      "And if memory is not enough, you can set `force_col_wise=true`.\n",
      "Training until validation scores don't improve for 100 rounds\n",
      "[100]\tvalid_0's binary_logloss: 0.152086\tvalid_0's gini: 0.275097\n",
      "[200]\tvalid_0's binary_logloss: 0.151994\tvalid_0's gini: 0.278757\n",
      "Early stopping, best iteration is:\n",
      "[189]\tvalid_0's binary_logloss: 0.151985\tvalid_0's gini: 0.279143\n",
      "0.2791434536505814\n",
      "[LightGBM] [Warning] Auto-choosing row-wise multi-threading, the overhead of testing was 0.143391 seconds.\n",
      "You can set `force_row_wise=true` to remove the overhead.\n",
      "And if memory is not enough, you can set `force_col_wise=true`.\n",
      "Training until validation scores don't improve for 100 rounds\n",
      "[100]\tvalid_0's binary_logloss: 0.152064\tvalid_0's gini: 0.276573\n",
      "[200]\tvalid_0's binary_logloss: 0.151976\tvalid_0's gini: 0.279408\n",
      "Early stopping, best iteration is:\n",
      "[188]\tvalid_0's binary_logloss: 0.15197\tvalid_0's gini: 0.279545\n",
      "0.2795447971167803\n",
      "[LightGBM] [Warning] Auto-choosing row-wise multi-threading, the overhead of testing was 0.191576 seconds.\n",
      "You can set `force_row_wise=true` to remove the overhead.\n",
      "And if memory is not enough, you can set `force_col_wise=true`.\n",
      "Training until validation scores don't improve for 100 rounds\n",
      "[100]\tvalid_0's binary_logloss: 0.151815\tvalid_0's gini: 0.28516\n",
      "[200]\tvalid_0's binary_logloss: 0.151807\tvalid_0's gini: 0.285118\n",
      "Early stopping, best iteration is:\n",
      "[180]\tvalid_0's binary_logloss: 0.151773\tvalid_0's gini: 0.286075\n",
      "0.28607478523896723\n",
      "[LightGBM] [Warning] Auto-choosing col-wise multi-threading, the overhead of testing was 0.347226 seconds.\n",
      "You can set `force_col_wise=true` to remove the overhead.\n",
      "Training until validation scores don't improve for 100 rounds\n",
      "[100]\tvalid_0's binary_logloss: 0.151482\tvalid_0's gini: 0.289504\n",
      "[200]\tvalid_0's binary_logloss: 0.151454\tvalid_0's gini: 0.289927\n",
      "Early stopping, best iteration is:\n",
      "[147]\tvalid_0's binary_logloss: 0.151393\tvalid_0's gini: 0.291809\n",
      "0.29180933440582396\n",
      "cv score:\n",
      "0.28641085376805125\n",
      "current score: 0.2887681057309734 9\n",
      "[0.2963569973675099, 0.2791434536505814, 0.2795447971167803, 0.28607478523896723, 0.29180933440582396]\n",
      "[134, 189, 188, 180, 147] 167.6\n"
     ]
    },
    {
     "name": "stderr",
     "output_type": "stream",
     "text": [
      "C:\\Users\\Admin\\AppData\\Local\\Programs\\Python\\Python39\\lib\\site-packages\\lightgbm\\engine.py:181: UserWarning: 'early_stopping_rounds' argument is deprecated and will be removed in a future release of LightGBM. Pass 'early_stopping()' callback via 'callbacks' argument instead.\n",
      "  _log_warning(\"'early_stopping_rounds' argument is deprecated and will be removed in a future release of LightGBM. \"\n",
      "C:\\Users\\Admin\\AppData\\Local\\Programs\\Python\\Python39\\lib\\site-packages\\lightgbm\\engine.py:239: UserWarning: 'verbose_eval' argument is deprecated and will be removed in a future release of LightGBM. Pass 'log_evaluation()' callback via 'callbacks' argument instead.\n",
      "  _log_warning(\"'verbose_eval' argument is deprecated and will be removed in a future release of LightGBM. \"\n"
     ]
    },
    {
     "name": "stdout",
     "output_type": "stream",
     "text": [
      "[LightGBM] [Warning] Auto-choosing row-wise multi-threading, the overhead of testing was 0.172084 seconds.\n",
      "You can set `force_row_wise=true` to remove the overhead.\n",
      "And if memory is not enough, you can set `force_col_wise=true`.\n",
      "Training until validation scores don't improve for 100 rounds\n",
      "[100]\tvalid_0's binary_logloss: 0.151583\tvalid_0's gini: 0.291879\n",
      "[200]\tvalid_0's binary_logloss: 0.151486\tvalid_0's gini: 0.294641\n",
      "Early stopping, best iteration is:\n",
      "[162]\tvalid_0's binary_logloss: 0.151473\tvalid_0's gini: 0.295226\n",
      "0.29522551001017766\n",
      "[LightGBM] [Warning] Auto-choosing row-wise multi-threading, the overhead of testing was 0.231153 seconds.\n",
      "You can set `force_row_wise=true` to remove the overhead.\n",
      "And if memory is not enough, you can set `force_col_wise=true`.\n",
      "Training until validation scores don't improve for 100 rounds\n",
      "[100]\tvalid_0's binary_logloss: 0.152119\tvalid_0's gini: 0.273767\n",
      "[200]\tvalid_0's binary_logloss: 0.151999\tvalid_0's gini: 0.278269\n",
      "Early stopping, best iteration is:\n",
      "[179]\tvalid_0's binary_logloss: 0.151976\tvalid_0's gini: 0.278371\n",
      "0.27837051112908323\n",
      "[LightGBM] [Warning] Auto-choosing row-wise multi-threading, the overhead of testing was 0.197226 seconds.\n",
      "You can set `force_row_wise=true` to remove the overhead.\n",
      "And if memory is not enough, you can set `force_col_wise=true`.\n",
      "Training until validation scores don't improve for 100 rounds\n",
      "[100]\tvalid_0's binary_logloss: 0.152111\tvalid_0's gini: 0.274638\n",
      "[200]\tvalid_0's binary_logloss: 0.151997\tvalid_0's gini: 0.279169\n",
      "Early stopping, best iteration is:\n",
      "[199]\tvalid_0's binary_logloss: 0.151992\tvalid_0's gini: 0.279277\n",
      "0.2792765339162951\n",
      "[LightGBM] [Warning] Auto-choosing row-wise multi-threading, the overhead of testing was 0.194807 seconds.\n",
      "You can set `force_row_wise=true` to remove the overhead.\n",
      "And if memory is not enough, you can set `force_col_wise=true`.\n",
      "Training until validation scores don't improve for 100 rounds\n",
      "[100]\tvalid_0's binary_logloss: 0.151816\tvalid_0's gini: 0.283783\n",
      "[200]\tvalid_0's binary_logloss: 0.151765\tvalid_0's gini: 0.285685\n",
      "Early stopping, best iteration is:\n",
      "[182]\tvalid_0's binary_logloss: 0.151738\tvalid_0's gini: 0.286483\n",
      "0.286483359691006\n",
      "[LightGBM] [Warning] Auto-choosing row-wise multi-threading, the overhead of testing was 0.205864 seconds.\n",
      "You can set `force_row_wise=true` to remove the overhead.\n",
      "And if memory is not enough, you can set `force_col_wise=true`.\n",
      "Training until validation scores don't improve for 100 rounds\n",
      "[100]\tvalid_0's binary_logloss: 0.151507\tvalid_0's gini: 0.289253\n",
      "[200]\tvalid_0's binary_logloss: 0.151426\tvalid_0's gini: 0.291279\n",
      "Early stopping, best iteration is:\n",
      "[197]\tvalid_0's binary_logloss: 0.151415\tvalid_0's gini: 0.291478\n",
      "0.2914781766407967\n",
      "cv score:\n",
      "0.28608409208647545\n",
      "current score: 0.2887683601937266 10\n",
      "[0.29522551001017766, 0.27837051112908323, 0.2792765339162951, 0.286483359691006, 0.2914781766407967]\n",
      "[162, 179, 199, 182, 197] 183.8\n"
     ]
    },
    {
     "name": "stderr",
     "output_type": "stream",
     "text": [
      "C:\\Users\\Admin\\AppData\\Local\\Programs\\Python\\Python39\\lib\\site-packages\\lightgbm\\engine.py:181: UserWarning: 'early_stopping_rounds' argument is deprecated and will be removed in a future release of LightGBM. Pass 'early_stopping()' callback via 'callbacks' argument instead.\n",
      "  _log_warning(\"'early_stopping_rounds' argument is deprecated and will be removed in a future release of LightGBM. \"\n",
      "C:\\Users\\Admin\\AppData\\Local\\Programs\\Python\\Python39\\lib\\site-packages\\lightgbm\\engine.py:239: UserWarning: 'verbose_eval' argument is deprecated and will be removed in a future release of LightGBM. Pass 'log_evaluation()' callback via 'callbacks' argument instead.\n",
      "  _log_warning(\"'verbose_eval' argument is deprecated and will be removed in a future release of LightGBM. \"\n"
     ]
    },
    {
     "name": "stdout",
     "output_type": "stream",
     "text": [
      "[LightGBM] [Warning] Auto-choosing row-wise multi-threading, the overhead of testing was 0.180221 seconds.\n",
      "You can set `force_row_wise=true` to remove the overhead.\n",
      "And if memory is not enough, you can set `force_col_wise=true`.\n",
      "Training until validation scores don't improve for 100 rounds\n",
      "[100]\tvalid_0's binary_logloss: 0.151589\tvalid_0's gini: 0.292492\n",
      "[200]\tvalid_0's binary_logloss: 0.151465\tvalid_0's gini: 0.295767\n",
      "Early stopping, best iteration is:\n",
      "[199]\tvalid_0's binary_logloss: 0.151458\tvalid_0's gini: 0.295932\n",
      "0.29593235255852257\n",
      "[LightGBM] [Warning] Auto-choosing row-wise multi-threading, the overhead of testing was 0.211540 seconds.\n",
      "You can set `force_row_wise=true` to remove the overhead.\n",
      "And if memory is not enough, you can set `force_col_wise=true`.\n",
      "Training until validation scores don't improve for 100 rounds\n",
      "[100]\tvalid_0's binary_logloss: 0.152082\tvalid_0's gini: 0.275056\n",
      "[200]\tvalid_0's binary_logloss: 0.151999\tvalid_0's gini: 0.27844\n",
      "[300]\tvalid_0's binary_logloss: 0.152004\tvalid_0's gini: 0.279933\n",
      "Early stopping, best iteration is:\n",
      "[242]\tvalid_0's binary_logloss: 0.151965\tvalid_0's gini: 0.279802\n",
      "0.2798018132409293\n",
      "[LightGBM] [Warning] Auto-choosing row-wise multi-threading, the overhead of testing was 0.180832 seconds.\n",
      "You can set `force_row_wise=true` to remove the overhead.\n",
      "And if memory is not enough, you can set `force_col_wise=true`.\n",
      "Training until validation scores don't improve for 100 rounds\n",
      "[100]\tvalid_0's binary_logloss: 0.15204\tvalid_0's gini: 0.277089\n",
      "[200]\tvalid_0's binary_logloss: 0.151958\tvalid_0's gini: 0.280222\n",
      "Early stopping, best iteration is:\n",
      "[162]\tvalid_0's binary_logloss: 0.151944\tvalid_0's gini: 0.280319\n",
      "0.28031875787361454\n",
      "[LightGBM] [Warning] Auto-choosing row-wise multi-threading, the overhead of testing was 0.238529 seconds.\n",
      "You can set `force_row_wise=true` to remove the overhead.\n",
      "And if memory is not enough, you can set `force_col_wise=true`.\n",
      "Training until validation scores don't improve for 100 rounds\n",
      "[100]\tvalid_0's binary_logloss: 0.151852\tvalid_0's gini: 0.283519\n",
      "[200]\tvalid_0's binary_logloss: 0.151783\tvalid_0's gini: 0.286213\n",
      "Early stopping, best iteration is:\n",
      "[172]\tvalid_0's binary_logloss: 0.151769\tvalid_0's gini: 0.286395\n",
      "0.2863953582360947\n",
      "[LightGBM] [Warning] Auto-choosing row-wise multi-threading, the overhead of testing was 0.224523 seconds.\n",
      "You can set `force_row_wise=true` to remove the overhead.\n",
      "And if memory is not enough, you can set `force_col_wise=true`.\n",
      "Training until validation scores don't improve for 100 rounds\n",
      "[100]\tvalid_0's binary_logloss: 0.151422\tvalid_0's gini: 0.290643\n",
      "[200]\tvalid_0's binary_logloss: 0.151348\tvalid_0's gini: 0.293038\n",
      "[300]\tvalid_0's binary_logloss: 0.151389\tvalid_0's gini: 0.291968\n",
      "Early stopping, best iteration is:\n",
      "[239]\tvalid_0's binary_logloss: 0.151328\tvalid_0's gini: 0.293362\n",
      "0.2933623979379377\n",
      "cv score:\n",
      "0.287066334227867\n",
      "current score: 0.2888949873217639 11\n",
      "[0.29593235255852257, 0.2798018132409293, 0.28031875787361454, 0.2863953582360947, 0.2933623979379377]\n",
      "[199, 242, 162, 172, 239] 202.8\n"
     ]
    },
    {
     "name": "stderr",
     "output_type": "stream",
     "text": [
      "C:\\Users\\Admin\\AppData\\Local\\Programs\\Python\\Python39\\lib\\site-packages\\lightgbm\\engine.py:181: UserWarning: 'early_stopping_rounds' argument is deprecated and will be removed in a future release of LightGBM. Pass 'early_stopping()' callback via 'callbacks' argument instead.\n",
      "  _log_warning(\"'early_stopping_rounds' argument is deprecated and will be removed in a future release of LightGBM. \"\n",
      "C:\\Users\\Admin\\AppData\\Local\\Programs\\Python\\Python39\\lib\\site-packages\\lightgbm\\engine.py:239: UserWarning: 'verbose_eval' argument is deprecated and will be removed in a future release of LightGBM. Pass 'log_evaluation()' callback via 'callbacks' argument instead.\n",
      "  _log_warning(\"'verbose_eval' argument is deprecated and will be removed in a future release of LightGBM. \"\n"
     ]
    },
    {
     "name": "stdout",
     "output_type": "stream",
     "text": [
      "[LightGBM] [Warning] Auto-choosing col-wise multi-threading, the overhead of testing was 0.331679 seconds.\n",
      "You can set `force_col_wise=true` to remove the overhead.\n",
      "Training until validation scores don't improve for 100 rounds\n",
      "[100]\tvalid_0's binary_logloss: 0.151533\tvalid_0's gini: 0.293456\n",
      "[200]\tvalid_0's binary_logloss: 0.15146\tvalid_0's gini: 0.295603\n",
      "Early stopping, best iteration is:\n",
      "[185]\tvalid_0's binary_logloss: 0.15146\tvalid_0's gini: 0.295845\n",
      "0.2958448863286207\n",
      "[LightGBM] [Warning] Auto-choosing row-wise multi-threading, the overhead of testing was 0.223965 seconds.\n",
      "You can set `force_row_wise=true` to remove the overhead.\n",
      "And if memory is not enough, you can set `force_col_wise=true`.\n",
      "Training until validation scores don't improve for 100 rounds\n",
      "[100]\tvalid_0's binary_logloss: 0.152127\tvalid_0's gini: 0.27526\n",
      "[200]\tvalid_0's binary_logloss: 0.152094\tvalid_0's gini: 0.275812\n",
      "[300]\tvalid_0's binary_logloss: 0.152115\tvalid_0's gini: 0.276467\n",
      "Early stopping, best iteration is:\n",
      "[229]\tvalid_0's binary_logloss: 0.152077\tvalid_0's gini: 0.276824\n",
      "0.2768241639609171\n",
      "[LightGBM] [Warning] Auto-choosing row-wise multi-threading, the overhead of testing was 0.196521 seconds.\n",
      "You can set `force_row_wise=true` to remove the overhead.\n",
      "And if memory is not enough, you can set `force_col_wise=true`.\n",
      "Training until validation scores don't improve for 100 rounds\n",
      "[100]\tvalid_0's binary_logloss: 0.152052\tvalid_0's gini: 0.276893\n",
      "[200]\tvalid_0's binary_logloss: 0.15196\tvalid_0's gini: 0.279887\n",
      "Early stopping, best iteration is:\n",
      "[175]\tvalid_0's binary_logloss: 0.151951\tvalid_0's gini: 0.28028\n",
      "0.28028017961407387\n",
      "[LightGBM] [Warning] Auto-choosing col-wise multi-threading, the overhead of testing was 0.347106 seconds.\n",
      "You can set `force_col_wise=true` to remove the overhead.\n",
      "Training until validation scores don't improve for 100 rounds\n",
      "[100]\tvalid_0's binary_logloss: 0.151839\tvalid_0's gini: 0.283412\n",
      "[200]\tvalid_0's binary_logloss: 0.151792\tvalid_0's gini: 0.285193\n",
      "Early stopping, best iteration is:\n",
      "[197]\tvalid_0's binary_logloss: 0.151788\tvalid_0's gini: 0.285279\n",
      "0.2852794046293896\n",
      "[LightGBM] [Warning] Auto-choosing col-wise multi-threading, the overhead of testing was 0.382099 seconds.\n",
      "You can set `force_col_wise=true` to remove the overhead.\n",
      "Training until validation scores don't improve for 100 rounds\n",
      "[100]\tvalid_0's binary_logloss: 0.151481\tvalid_0's gini: 0.288796\n",
      "[200]\tvalid_0's binary_logloss: 0.151365\tvalid_0's gini: 0.292151\n",
      "Early stopping, best iteration is:\n",
      "[183]\tvalid_0's binary_logloss: 0.151363\tvalid_0's gini: 0.292406\n",
      "0.2924062244969355\n",
      "cv score:\n",
      "0.2860178438419425\n",
      "current score: 0.2888814120634114 12\n",
      "[0.2958448863286207, 0.2768241639609171, 0.28028017961407387, 0.2852794046293896, 0.2924062244969355]\n",
      "[185, 229, 175, 197, 183] 193.8\n"
     ]
    },
    {
     "name": "stderr",
     "output_type": "stream",
     "text": [
      "C:\\Users\\Admin\\AppData\\Local\\Programs\\Python\\Python39\\lib\\site-packages\\lightgbm\\engine.py:181: UserWarning: 'early_stopping_rounds' argument is deprecated and will be removed in a future release of LightGBM. Pass 'early_stopping()' callback via 'callbacks' argument instead.\n",
      "  _log_warning(\"'early_stopping_rounds' argument is deprecated and will be removed in a future release of LightGBM. \"\n",
      "C:\\Users\\Admin\\AppData\\Local\\Programs\\Python\\Python39\\lib\\site-packages\\lightgbm\\engine.py:239: UserWarning: 'verbose_eval' argument is deprecated and will be removed in a future release of LightGBM. Pass 'log_evaluation()' callback via 'callbacks' argument instead.\n",
      "  _log_warning(\"'verbose_eval' argument is deprecated and will be removed in a future release of LightGBM. \"\n"
     ]
    },
    {
     "name": "stdout",
     "output_type": "stream",
     "text": [
      "[LightGBM] [Warning] Auto-choosing row-wise multi-threading, the overhead of testing was 0.174092 seconds.\n",
      "You can set `force_row_wise=true` to remove the overhead.\n",
      "And if memory is not enough, you can set `force_col_wise=true`.\n",
      "Training until validation scores don't improve for 100 rounds\n",
      "[100]\tvalid_0's binary_logloss: 0.151583\tvalid_0's gini: 0.29256\n",
      "[200]\tvalid_0's binary_logloss: 0.151488\tvalid_0's gini: 0.295679\n",
      "Early stopping, best iteration is:\n",
      "[169]\tvalid_0's binary_logloss: 0.151474\tvalid_0's gini: 0.295961\n",
      "0.29596144233332095\n",
      "[LightGBM] [Warning] Auto-choosing row-wise multi-threading, the overhead of testing was 0.167665 seconds.\n",
      "You can set `force_row_wise=true` to remove the overhead.\n",
      "And if memory is not enough, you can set `force_col_wise=true`.\n",
      "Training until validation scores don't improve for 100 rounds\n",
      "[100]\tvalid_0's binary_logloss: 0.152186\tvalid_0's gini: 0.27254\n",
      "[200]\tvalid_0's binary_logloss: 0.152123\tvalid_0's gini: 0.274474\n",
      "[300]\tvalid_0's binary_logloss: 0.152066\tvalid_0's gini: 0.277397\n",
      "Early stopping, best iteration is:\n",
      "[271]\tvalid_0's binary_logloss: 0.152059\tvalid_0's gini: 0.27756\n",
      "0.2775598873231141\n",
      "[LightGBM] [Warning] Auto-choosing col-wise multi-threading, the overhead of testing was 0.398859 seconds.\n",
      "You can set `force_col_wise=true` to remove the overhead.\n",
      "Training until validation scores don't improve for 100 rounds\n",
      "[100]\tvalid_0's binary_logloss: 0.152074\tvalid_0's gini: 0.276451\n",
      "[200]\tvalid_0's binary_logloss: 0.151955\tvalid_0's gini: 0.279459\n",
      "[300]\tvalid_0's binary_logloss: 0.152005\tvalid_0's gini: 0.278368\n",
      "Early stopping, best iteration is:\n",
      "[208]\tvalid_0's binary_logloss: 0.151947\tvalid_0's gini: 0.279761\n",
      "0.279760542757445\n",
      "[LightGBM] [Warning] Auto-choosing row-wise multi-threading, the overhead of testing was 0.182634 seconds.\n",
      "You can set `force_row_wise=true` to remove the overhead.\n",
      "And if memory is not enough, you can set `force_col_wise=true`.\n",
      "Training until validation scores don't improve for 100 rounds\n",
      "[100]\tvalid_0's binary_logloss: 0.151787\tvalid_0's gini: 0.285034\n",
      "[200]\tvalid_0's binary_logloss: 0.151827\tvalid_0's gini: 0.284112\n",
      "Early stopping, best iteration is:\n",
      "[120]\tvalid_0's binary_logloss: 0.151778\tvalid_0's gini: 0.285599\n",
      "0.2855986997388208\n",
      "[LightGBM] [Warning] Auto-choosing row-wise multi-threading, the overhead of testing was 0.224971 seconds.\n",
      "You can set `force_row_wise=true` to remove the overhead.\n",
      "And if memory is not enough, you can set `force_col_wise=true`.\n",
      "Training until validation scores don't improve for 100 rounds\n",
      "[100]\tvalid_0's binary_logloss: 0.151473\tvalid_0's gini: 0.289359\n",
      "[200]\tvalid_0's binary_logloss: 0.151435\tvalid_0's gini: 0.290829\n",
      "Early stopping, best iteration is:\n",
      "[197]\tvalid_0's binary_logloss: 0.151433\tvalid_0's gini: 0.290917\n",
      "0.2909168785349882\n",
      "cv score:\n",
      "0.2857536785509344\n",
      "current score: 0.2888707410239863 13\n",
      "[0.29596144233332095, 0.2775598873231141, 0.279760542757445, 0.2855986997388208, 0.2909168785349882]\n",
      "[169, 271, 208, 120, 197] 193.0\n"
     ]
    },
    {
     "name": "stderr",
     "output_type": "stream",
     "text": [
      "C:\\Users\\Admin\\AppData\\Local\\Programs\\Python\\Python39\\lib\\site-packages\\lightgbm\\engine.py:181: UserWarning: 'early_stopping_rounds' argument is deprecated and will be removed in a future release of LightGBM. Pass 'early_stopping()' callback via 'callbacks' argument instead.\n",
      "  _log_warning(\"'early_stopping_rounds' argument is deprecated and will be removed in a future release of LightGBM. \"\n",
      "C:\\Users\\Admin\\AppData\\Local\\Programs\\Python\\Python39\\lib\\site-packages\\lightgbm\\engine.py:239: UserWarning: 'verbose_eval' argument is deprecated and will be removed in a future release of LightGBM. Pass 'log_evaluation()' callback via 'callbacks' argument instead.\n",
      "  _log_warning(\"'verbose_eval' argument is deprecated and will be removed in a future release of LightGBM. \"\n"
     ]
    },
    {
     "name": "stdout",
     "output_type": "stream",
     "text": [
      "[LightGBM] [Warning] Auto-choosing col-wise multi-threading, the overhead of testing was 0.346632 seconds.\n",
      "You can set `force_col_wise=true` to remove the overhead.\n",
      "Training until validation scores don't improve for 100 rounds\n",
      "[100]\tvalid_0's binary_logloss: 0.151537\tvalid_0's gini: 0.293457\n",
      "[200]\tvalid_0's binary_logloss: 0.151457\tvalid_0's gini: 0.295291\n",
      "Early stopping, best iteration is:\n",
      "[143]\tvalid_0's binary_logloss: 0.151449\tvalid_0's gini: 0.295455\n",
      "0.2954550978128508\n",
      "[LightGBM] [Warning] Auto-choosing row-wise multi-threading, the overhead of testing was 0.215017 seconds.\n",
      "You can set `force_row_wise=true` to remove the overhead.\n",
      "And if memory is not enough, you can set `force_col_wise=true`.\n",
      "Training until validation scores don't improve for 100 rounds\n",
      "[100]\tvalid_0's binary_logloss: 0.152144\tvalid_0's gini: 0.272779\n",
      "[200]\tvalid_0's binary_logloss: 0.152089\tvalid_0's gini: 0.274936\n",
      "[300]\tvalid_0's binary_logloss: 0.152119\tvalid_0's gini: 0.275333\n",
      "Early stopping, best iteration is:\n",
      "[209]\tvalid_0's binary_logloss: 0.15207\tvalid_0's gini: 0.275451\n",
      "0.27545113784218117\n",
      "[LightGBM] [Warning] Auto-choosing row-wise multi-threading, the overhead of testing was 0.176110 seconds.\n",
      "You can set `force_row_wise=true` to remove the overhead.\n",
      "And if memory is not enough, you can set `force_col_wise=true`.\n",
      "Training until validation scores don't improve for 100 rounds\n",
      "[100]\tvalid_0's binary_logloss: 0.15204\tvalid_0's gini: 0.276767\n",
      "[200]\tvalid_0's binary_logloss: 0.151979\tvalid_0's gini: 0.279522\n",
      "[300]\tvalid_0's binary_logloss: 0.152058\tvalid_0's gini: 0.277555\n",
      "Early stopping, best iteration is:\n",
      "[203]\tvalid_0's binary_logloss: 0.151973\tvalid_0's gini: 0.279719\n",
      "0.27971912277780697\n",
      "[LightGBM] [Warning] Auto-choosing col-wise multi-threading, the overhead of testing was 0.300587 seconds.\n",
      "You can set `force_col_wise=true` to remove the overhead.\n",
      "Training until validation scores don't improve for 100 rounds\n",
      "[100]\tvalid_0's binary_logloss: 0.151795\tvalid_0's gini: 0.284428\n",
      "[200]\tvalid_0's binary_logloss: 0.151761\tvalid_0's gini: 0.285414\n",
      "Early stopping, best iteration is:\n",
      "[139]\tvalid_0's binary_logloss: 0.151738\tvalid_0's gini: 0.285728\n",
      "0.2857276056555587\n",
      "[LightGBM] [Warning] Auto-choosing row-wise multi-threading, the overhead of testing was 0.177158 seconds.\n",
      "You can set `force_row_wise=true` to remove the overhead.\n",
      "And if memory is not enough, you can set `force_col_wise=true`.\n",
      "Training until validation scores don't improve for 100 rounds\n",
      "[100]\tvalid_0's binary_logloss: 0.151423\tvalid_0's gini: 0.291417\n",
      "[200]\tvalid_0's binary_logloss: 0.151338\tvalid_0's gini: 0.293332\n",
      "Early stopping, best iteration is:\n",
      "[180]\tvalid_0's binary_logloss: 0.151315\tvalid_0's gini: 0.294272\n",
      "0.29427181194109575\n",
      "cv score:\n",
      "0.28594513163263857\n",
      "current score: 0.2888586603927214 14\n",
      "[0.2954550978128508, 0.27545113784218117, 0.27971912277780697, 0.2857276056555587, 0.29427181194109575]\n",
      "[143, 209, 203, 139, 180] 174.8\n"
     ]
    },
    {
     "name": "stderr",
     "output_type": "stream",
     "text": [
      "C:\\Users\\Admin\\AppData\\Local\\Programs\\Python\\Python39\\lib\\site-packages\\lightgbm\\engine.py:181: UserWarning: 'early_stopping_rounds' argument is deprecated and will be removed in a future release of LightGBM. Pass 'early_stopping()' callback via 'callbacks' argument instead.\n",
      "  _log_warning(\"'early_stopping_rounds' argument is deprecated and will be removed in a future release of LightGBM. \"\n",
      "C:\\Users\\Admin\\AppData\\Local\\Programs\\Python\\Python39\\lib\\site-packages\\lightgbm\\engine.py:239: UserWarning: 'verbose_eval' argument is deprecated and will be removed in a future release of LightGBM. Pass 'log_evaluation()' callback via 'callbacks' argument instead.\n",
      "  _log_warning(\"'verbose_eval' argument is deprecated and will be removed in a future release of LightGBM. \"\n"
     ]
    },
    {
     "name": "stdout",
     "output_type": "stream",
     "text": [
      "[LightGBM] [Warning] Auto-choosing row-wise multi-threading, the overhead of testing was 0.204749 seconds.\n",
      "You can set `force_row_wise=true` to remove the overhead.\n",
      "And if memory is not enough, you can set `force_col_wise=true`.\n",
      "Training until validation scores don't improve for 100 rounds\n",
      "[100]\tvalid_0's binary_logloss: 0.151573\tvalid_0's gini: 0.292232\n",
      "[200]\tvalid_0's binary_logloss: 0.151489\tvalid_0's gini: 0.294596\n",
      "Early stopping, best iteration is:\n",
      "[164]\tvalid_0's binary_logloss: 0.151479\tvalid_0's gini: 0.294961\n",
      "0.29496092526749645\n",
      "[LightGBM] [Warning] Auto-choosing col-wise multi-threading, the overhead of testing was 0.361740 seconds.\n",
      "You can set `force_col_wise=true` to remove the overhead.\n",
      "Training until validation scores don't improve for 100 rounds\n",
      "[100]\tvalid_0's binary_logloss: 0.152171\tvalid_0's gini: 0.271767\n",
      "[200]\tvalid_0's binary_logloss: 0.152114\tvalid_0's gini: 0.274211\n",
      "Early stopping, best iteration is:\n",
      "[181]\tvalid_0's binary_logloss: 0.152059\tvalid_0's gini: 0.275663\n",
      "0.27566294387202894\n",
      "[LightGBM] [Warning] Auto-choosing col-wise multi-threading, the overhead of testing was 0.374205 seconds.\n",
      "You can set `force_col_wise=true` to remove the overhead.\n",
      "Training until validation scores don't improve for 100 rounds\n",
      "[100]\tvalid_0's binary_logloss: 0.152064\tvalid_0's gini: 0.277181\n",
      "[200]\tvalid_0's binary_logloss: 0.151992\tvalid_0's gini: 0.280465\n",
      "[300]\tvalid_0's binary_logloss: 0.152008\tvalid_0's gini: 0.280079\n",
      "Early stopping, best iteration is:\n",
      "[204]\tvalid_0's binary_logloss: 0.151989\tvalid_0's gini: 0.280483\n",
      "0.28048333647490103\n",
      "[LightGBM] [Warning] Auto-choosing row-wise multi-threading, the overhead of testing was 0.193601 seconds.\n",
      "You can set `force_row_wise=true` to remove the overhead.\n",
      "And if memory is not enough, you can set `force_col_wise=true`.\n",
      "Training until validation scores don't improve for 100 rounds\n",
      "[100]\tvalid_0's binary_logloss: 0.151832\tvalid_0's gini: 0.28355\n",
      "[200]\tvalid_0's binary_logloss: 0.151786\tvalid_0's gini: 0.284847\n",
      "[300]\tvalid_0's binary_logloss: 0.151862\tvalid_0's gini: 0.284486\n",
      "Early stopping, best iteration is:\n",
      "[213]\tvalid_0's binary_logloss: 0.151774\tvalid_0's gini: 0.285411\n",
      "0.28541101098805194\n",
      "[LightGBM] [Warning] Auto-choosing row-wise multi-threading, the overhead of testing was 0.229007 seconds.\n",
      "You can set `force_row_wise=true` to remove the overhead.\n",
      "And if memory is not enough, you can set `force_col_wise=true`.\n",
      "Training until validation scores don't improve for 100 rounds\n",
      "[100]\tvalid_0's binary_logloss: 0.151441\tvalid_0's gini: 0.291169\n",
      "[200]\tvalid_0's binary_logloss: 0.151392\tvalid_0's gini: 0.292886\n",
      "Early stopping, best iteration is:\n",
      "[145]\tvalid_0's binary_logloss: 0.151371\tvalid_0's gini: 0.293215\n",
      "0.29321539664919805\n",
      "cv score:\n",
      "0.2858514964123292\n",
      "current score: 0.28884451255298726 15\n",
      "[0.29496092526749645, 0.27566294387202894, 0.28048333647490103, 0.28541101098805194, 0.29321539664919805]\n",
      "[164, 181, 204, 213, 145] 181.4\n"
     ]
    },
    {
     "name": "stderr",
     "output_type": "stream",
     "text": [
      "C:\\Users\\Admin\\AppData\\Local\\Programs\\Python\\Python39\\lib\\site-packages\\lightgbm\\engine.py:181: UserWarning: 'early_stopping_rounds' argument is deprecated and will be removed in a future release of LightGBM. Pass 'early_stopping()' callback via 'callbacks' argument instead.\n",
      "  _log_warning(\"'early_stopping_rounds' argument is deprecated and will be removed in a future release of LightGBM. \"\n",
      "C:\\Users\\Admin\\AppData\\Local\\Programs\\Python\\Python39\\lib\\site-packages\\lightgbm\\engine.py:239: UserWarning: 'verbose_eval' argument is deprecated and will be removed in a future release of LightGBM. Pass 'log_evaluation()' callback via 'callbacks' argument instead.\n",
      "  _log_warning(\"'verbose_eval' argument is deprecated and will be removed in a future release of LightGBM. \"\n"
     ]
    },
    {
     "name": "stdout",
     "output_type": "stream",
     "text": [
      "[LightGBM] [Warning] Auto-choosing row-wise multi-threading, the overhead of testing was 0.165614 seconds.\n",
      "You can set `force_row_wise=true` to remove the overhead.\n",
      "And if memory is not enough, you can set `force_col_wise=true`.\n",
      "Training until validation scores don't improve for 100 rounds\n",
      "[100]\tvalid_0's binary_logloss: 0.151573\tvalid_0's gini: 0.292146\n",
      "[200]\tvalid_0's binary_logloss: 0.151515\tvalid_0's gini: 0.294024\n",
      "Early stopping, best iteration is:\n",
      "[169]\tvalid_0's binary_logloss: 0.151502\tvalid_0's gini: 0.294194\n",
      "0.29419368095026177\n",
      "[LightGBM] [Warning] Auto-choosing row-wise multi-threading, the overhead of testing was 0.181143 seconds.\n",
      "You can set `force_row_wise=true` to remove the overhead.\n",
      "And if memory is not enough, you can set `force_col_wise=true`.\n",
      "Training until validation scores don't improve for 100 rounds\n",
      "[100]\tvalid_0's binary_logloss: 0.152047\tvalid_0's gini: 0.27558\n",
      "[200]\tvalid_0's binary_logloss: 0.151937\tvalid_0's gini: 0.279258\n",
      "[300]\tvalid_0's binary_logloss: 0.151958\tvalid_0's gini: 0.279442\n",
      "Early stopping, best iteration is:\n",
      "[224]\tvalid_0's binary_logloss: 0.151914\tvalid_0's gini: 0.27994\n",
      "0.27993981989045236\n",
      "[LightGBM] [Warning] Auto-choosing row-wise multi-threading, the overhead of testing was 0.180229 seconds.\n",
      "You can set `force_row_wise=true` to remove the overhead.\n",
      "And if memory is not enough, you can set `force_col_wise=true`.\n",
      "Training until validation scores don't improve for 100 rounds\n",
      "[100]\tvalid_0's binary_logloss: 0.152038\tvalid_0's gini: 0.278033\n",
      "[200]\tvalid_0's binary_logloss: 0.151955\tvalid_0's gini: 0.281175\n",
      "[300]\tvalid_0's binary_logloss: 0.151953\tvalid_0's gini: 0.281911\n",
      "Early stopping, best iteration is:\n",
      "[243]\tvalid_0's binary_logloss: 0.151929\tvalid_0's gini: 0.282152\n",
      "0.28215180399626705\n",
      "[LightGBM] [Warning] Auto-choosing row-wise multi-threading, the overhead of testing was 0.189578 seconds.\n",
      "You can set `force_row_wise=true` to remove the overhead.\n",
      "And if memory is not enough, you can set `force_col_wise=true`.\n",
      "Training until validation scores don't improve for 100 rounds\n",
      "[100]\tvalid_0's binary_logloss: 0.151786\tvalid_0's gini: 0.284533\n",
      "[200]\tvalid_0's binary_logloss: 0.151817\tvalid_0's gini: 0.283703\n",
      "Early stopping, best iteration is:\n",
      "[113]\tvalid_0's binary_logloss: 0.151774\tvalid_0's gini: 0.284797\n",
      "0.284796817172348\n",
      "[LightGBM] [Warning] Auto-choosing row-wise multi-threading, the overhead of testing was 0.192395 seconds.\n",
      "You can set `force_row_wise=true` to remove the overhead.\n",
      "And if memory is not enough, you can set `force_col_wise=true`.\n",
      "Training until validation scores don't improve for 100 rounds\n",
      "[100]\tvalid_0's binary_logloss: 0.15146\tvalid_0's gini: 0.28901\n",
      "[200]\tvalid_0's binary_logloss: 0.151431\tvalid_0's gini: 0.289277\n",
      "Early stopping, best iteration is:\n",
      "[124]\tvalid_0's binary_logloss: 0.151419\tvalid_0's gini: 0.290163\n",
      "0.29016263144257903\n",
      "cv score:\n",
      "0.2860899794511859\n",
      "current score: 0.2888681171481047 16\n",
      "[0.29419368095026177, 0.27993981989045236, 0.28215180399626705, 0.284796817172348, 0.29016263144257903]\n",
      "[169, 224, 243, 113, 124] 174.6\n"
     ]
    }
   ],
   "source": [
    "x_score = []\n",
    "final_cv_train = np.zeros(len(train_label))\n",
    "final_cv_pred = np.zeros(len(test_id))\n",
    "for s in range(16):\n",
    "    cv_train = np.zeros(len(train_label))\n",
    "    cv_pred = np.zeros(len(test_id))\n",
    "\n",
    "    params['seed'] = s\n",
    "\n",
    "    if cv_only:\n",
    "        kf = kfold.split(X, train_label)\n",
    "\n",
    "        best_trees = []\n",
    "        fold_scores = []\n",
    "\n",
    "        for i, (train_fold, validate) in enumerate(kf):\n",
    "            X_train, X_validate, label_train, label_validate = \\\n",
    "                X[train_fold, :], X[validate, :], train_label[train_fold], train_label[validate]\n",
    "            dtrain = lgbm.Dataset(X_train, label_train)\n",
    "            dvalid = lgbm.Dataset(X_validate, label_validate, reference=dtrain)\n",
    "            bst = lgbm.train(params, dtrain, num_boost_round, valid_sets=dvalid, feval=evalerror, verbose_eval=100,\n",
    "                            early_stopping_rounds=100)\n",
    "            best_trees.append(bst.best_iteration)\n",
    "            cv_pred += bst.predict(X_test, num_iteration=bst.best_iteration)\n",
    "            cv_train[validate] += bst.predict(X_validate)\n",
    "\n",
    "            score = Gini(label_validate, cv_train[validate])\n",
    "            print(score) \n",
    "            fold_scores.append(score)\n",
    "\n",
    "        cv_pred /= NFOLDS\n",
    "        final_cv_train += cv_train\n",
    "        final_cv_pred += cv_pred\n",
    "\n",
    "        print(\"cv score:\")\n",
    "        print (Gini(train_label, cv_train))\n",
    "        print (\"current score:\", Gini(train_label, final_cv_train / (s + 1.)), s+1)\n",
    "        print(fold_scores)\n",
    "        print(best_trees, np.mean(best_trees))\n",
    "\n",
    "        x_score.append(Gini(train_label, cv_train))"
   ]
  },
  {
   "cell_type": "code",
   "execution_count": null,
   "metadata": {},
   "outputs": [],
   "source": [
    "#lưu dữ liệu vào dataframe"
   ]
  },
  {
   "cell_type": "code",
   "execution_count": 41,
   "metadata": {},
   "outputs": [
    {
     "name": "stdout",
     "output_type": "stream",
     "text": [
      "[0.28581087287246515, 0.28612703231439995, 0.28523677934240615, 0.2867214013659066, 0.28570773588756787, 0.2862086579536886, 0.2862973628978743, 0.28701986704651966, 0.28641085376805125, 0.28608409208647545, 0.287066334227867, 0.2860178438419425, 0.2857536785509344, 0.28594513163263857, 0.2858514964123292, 0.2860899794511859]\n"
     ]
    }
   ],
   "source": [
    "print(x_score)\n",
    "pd.DataFrame({'id': test_id, 'target': final_cv_pred / 16.}).to_csv('./model/lgbm3_pred_avg.csv', index=False)\n",
    "pd.DataFrame({'id': train_id, 'target': final_cv_train / 16.}).to_csv('./model/lgbm3_cv_avg.csv', index=False)"
   ]
  }
 ],
 "metadata": {
  "interpreter": {
   "hash": "aee8b7b246df8f9039afb4144a1f6fd8d2ca17a180786b69acc140d282b71a49"
  },
  "kernelspec": {
   "display_name": "Python 3",
   "language": "python",
   "name": "python3"
  },
  "language_info": {
   "codemirror_mode": {
    "name": "ipython",
    "version": 3
   },
   "file_extension": ".py",
   "mimetype": "text/x-python",
   "name": "python",
   "nbconvert_exporter": "python",
   "pygments_lexer": "ipython3",
   "version": "3.9.8"
  }
 },
 "nbformat": 4,
 "nbformat_minor": 2
}
